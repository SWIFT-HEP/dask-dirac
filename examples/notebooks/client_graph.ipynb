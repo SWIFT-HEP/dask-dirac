{
 "cells": [
  {
   "cell_type": "markdown",
   "metadata": {},
   "source": [
    "# Client Graph\n",
    "Notebook to manipulate a dask graph at the client stage."
   ]
  },
  {
   "cell_type": "markdown",
   "metadata": {},
   "source": [
    "## Example 1: Edit submit method"
   ]
  },
  {
   "cell_type": "code",
   "execution_count": 1,
   "metadata": {},
   "outputs": [],
   "source": [
    "from dask.distributed import Client\n",
    "\n",
    "# Create a Dask client\n",
    "client = Client()\n",
    "\n",
    "original_submit = client.submit"
   ]
  },
  {
   "cell_type": "code",
   "execution_count": 2,
   "metadata": {},
   "outputs": [],
   "source": [
    "def modified_submit(*args, **kwargs):\n",
    "    print(\"Entered Submit\")\n",
    "    print(\"Party if it works\")\n",
    "    return original_submit(*args, **kwargs)"
   ]
  },
  {
   "cell_type": "code",
   "execution_count": 3,
   "metadata": {},
   "outputs": [],
   "source": [
    "client.submit = modified_submit"
   ]
  },
  {
   "cell_type": "code",
   "execution_count": 4,
   "metadata": {},
   "outputs": [
    {
     "name": "stdout",
     "output_type": "stream",
     "text": [
      "Entered Submit\n",
      "Party if it works\n"
     ]
    },
    {
     "data": {
      "text/html": [
       "<strong>Future: neg</strong>\n",
       "<span style=\"color: var(--jp-ui-font-color2, gray)\"> status: </span>\n",
       "\n",
       "\n",
       "<span style=\"color: var(--jp-error-color0, black)\">pending</span>,\n",
       "\n",
       "\n",
       "\n",
       "<span style=\"color: var(--jp-ui-font-color2, gray)\"> type:</span> NoneType,\n",
       "\n",
       "\n",
       "<span style=\"color: var(--jp-ui-font-color2, gray)\"> key:</span> neg-6509467a9c66ce2389f8f71ccfe663b3"
      ],
      "text/plain": [
       "<Future: pending, key: neg-6509467a9c66ce2389f8f71ccfe663b3>"
      ]
     },
     "execution_count": 4,
     "metadata": {},
     "output_type": "execute_result"
    }
   ],
   "source": [
    "def neg(x):\n",
    "    return -x\n",
    "\n",
    "\n",
    "client.submit(neg, 3)"
   ]
  },
  {
   "cell_type": "code",
   "execution_count": 5,
   "metadata": {},
   "outputs": [
    {
     "name": "stderr",
     "output_type": "stream",
     "text": [
      "2024-06-19 19:37:55,387 - distributed.scheduler - WARNING - Removing worker 'tcp://127.0.0.1:16903' caused the cluster to lose already computed task(s), which will be recomputed elsewhere: {'neg-6509467a9c66ce2389f8f71ccfe663b3'} (stimulus_id='handle-worker-cleanup-1718822275.387008')\n"
     ]
    }
   ],
   "source": [
    "client.shutdown()"
   ]
  },
  {
   "cell_type": "markdown",
   "metadata": {},
   "source": [
    "## Example 2: Edit collections_to_dsk method"
   ]
  },
  {
   "cell_type": "code",
   "execution_count": 6,
   "metadata": {},
   "outputs": [],
   "source": [
    "from dask.distributed import Client\n",
    "import dask\n",
    "import dask.array as da\n",
    "\n",
    "from datetime import datetime\n",
    "\n",
    "client = Client()\n",
    "\n",
    "# Save original collections_to_dsk method\n",
    "original_collections_to_dsk = client.collections_to_dsk"
   ]
  },
  {
   "cell_type": "code",
   "execution_count": 7,
   "metadata": {},
   "outputs": [
    {
     "name": "stdout",
     "output_type": "stream",
     "text": [
      "collections_to_dsk method has been replaced\n"
     ]
    }
   ],
   "source": [
    "def modified_collections_to_dsk(collections, *args, **kwargs):\n",
    "    c = datetime.now()\n",
    "    print(\"Inside myFunc. Time = \" + c.strftime(\"%H:%M:%S\"))\n",
    "    print(\"Dask Graph Tasks\")\n",
    "    for collection in collections:\n",
    "        print(f\"Task Name: {collection.name}\")\n",
    "    print(\"-----------------\\n\")\n",
    "\n",
    "    return original_collections_to_dsk(collections, *args, **kwargs)\n",
    "\n",
    "\n",
    "client.collections_to_dsk = modified_collections_to_dsk\n",
    "print(\"collections_to_dsk method has been replaced\")"
   ]
  },
  {
   "cell_type": "code",
   "execution_count": 8,
   "metadata": {},
   "outputs": [],
   "source": [
    "x = da.ones((1000, 1000), chunks=(100, 100))\n",
    "y = x + 1\n",
    "z = y.mean()"
   ]
  },
  {
   "cell_type": "code",
   "execution_count": 9,
   "metadata": {},
   "outputs": [
    {
     "name": "stdout",
     "output_type": "stream",
     "text": [
      "Inside myFunc. Time = 19:38:18\n",
      "Dask Graph Tasks\n",
      "Task Name: mean_agg-aggregate-c50263a0ad47c330577b3058195ad928\n",
      "-----------------\n",
      "\n"
     ]
    }
   ],
   "source": [
    "result = client.compute(z)"
   ]
  },
  {
   "cell_type": "code",
   "execution_count": 10,
   "metadata": {},
   "outputs": [
    {
     "name": "stderr",
     "output_type": "stream",
     "text": [
      "2024-06-19 19:38:31,549 - distributed.scheduler - WARNING - Removing worker 'tcp://127.0.0.1:21019' caused the cluster to lose already computed task(s), which will be recomputed elsewhere: {'finalize-3daf4f11543bcdbd0d181b8d6c929af3'} (stimulus_id='handle-worker-cleanup-1718822311.5493789')\n"
     ]
    }
   ],
   "source": [
    "client.shutdown()"
   ]
  },
  {
   "cell_type": "markdown",
   "metadata": {},
   "source": [
    "## Example 3: Replace a Task Graph"
   ]
  },
  {
   "cell_type": "markdown",
   "metadata": {},
   "source": [
    "### Example 3.1: Keep client running\n",
    "This will cause an issue as the client still has memory of the task and hash"
   ]
  },
  {
   "cell_type": "code",
   "execution_count": 11,
   "metadata": {},
   "outputs": [],
   "source": [
    "from dask.distributed import Client\n",
    "import dask\n",
    "import dask.array as da\n",
    "from dask.highlevelgraph import HighLevelGraph\n",
    "from datetime import datetime\n",
    "\n",
    "client = Client()\n",
    "\n",
    "original_collections_to_dsk = client.collections_to_dsk"
   ]
  },
  {
   "cell_type": "code",
   "execution_count": 12,
   "metadata": {},
   "outputs": [],
   "source": [
    "existing_functions = []\n",
    "\n",
    "\n",
    "def add_to_three(number):\n",
    "    return number + 3\n",
    "\n",
    "\n",
    "def modified_collections_to_dsk(collections, *args, **kwargs):\n",
    "    c = datetime.now()\n",
    "    print(\"Inside myFunc. Time = \" + c.strftime(\"%H:%M:%S\"))\n",
    "\n",
    "    print(\"Functions already processed\")\n",
    "    global existing_functions\n",
    "    for funcs in existing_functions:\n",
    "        print(f\"{funcs}\")\n",
    "\n",
    "    print(\"Dask Graph Tasks\")\n",
    "    for collection in collections:\n",
    "        print(f\"Task Name: {collection.name}\")\n",
    "        print(\"Dask Graph\")\n",
    "        print(collection.dask)\n",
    "        if collection.name not in existing_functions:\n",
    "            print(f\"Adding {collection.name} to existing_functions\")\n",
    "            existing_functions.append(collection.name)\n",
    "        else:\n",
    "            print(f\"{collection.name} has already been processed\")\n",
    "            # TODO: Continue playing around with the dask graph so return is not a string\n",
    "            # TODO: Use collection hash rather than collection name\n",
    "            layers = {\n",
    "                f\"add_to_three-{(collection.name)}\": {\n",
    "                    (f\"add_to_three-{(collection.name)}\", 0): (add_to_three, 20)\n",
    "                }\n",
    "            }\n",
    "            dependencies = {f\"add_to_three-{(collection.name)}\": set()}\n",
    "            graph = HighLevelGraph(layers, dependencies)\n",
    "            collection.dask = graph\n",
    "            print(\"New Dask Graph\")\n",
    "            print(collection.dask)\n",
    "\n",
    "    print(\"-----------------\")\n",
    "\n",
    "    return original_collections_to_dsk(collections, *args, **kwargs)\n",
    "\n",
    "\n",
    "client.collections_to_dsk = modified_collections_to_dsk"
   ]
  },
  {
   "cell_type": "code",
   "execution_count": 13,
   "metadata": {},
   "outputs": [],
   "source": [
    "x = da.ones((1000, 1000), chunks=(100, 100))\n",
    "y = x + 1\n",
    "z = y.mean()"
   ]
  },
  {
   "cell_type": "code",
   "execution_count": 14,
   "metadata": {},
   "outputs": [
    {
     "name": "stdout",
     "output_type": "stream",
     "text": [
      "Inside myFunc. Time = 19:40:19\n",
      "Functions already processed\n",
      "Dask Graph Tasks\n",
      "Task Name: mean_agg-aggregate-c50263a0ad47c330577b3058195ad928\n",
      "Dask Graph\n",
      "HighLevelGraph with 7 layers.\n",
      "<dask.highlevelgraph.HighLevelGraph object at 0x7f95fa07f3a0>\n",
      " 0. ones_like-c53a97836143a00162e3470fef213e1e\n",
      " 1. add-098526cf93d1ac0d3a8744f59d0814fb\n",
      " 2. mean_chunk-4e5168d025885dfbdfd76df3f8083cda\n",
      " 3. mean_combine-partial-0832826c732652f3243668d740a0d5f3\n",
      " 4. mean_combine-partial-f33215f12dcb169d48ded3405ae5b4a2\n",
      " 5. mean_combine-partial-f380b3499d120118c907e62d760350cc\n",
      " 6. mean_agg-aggregate-c50263a0ad47c330577b3058195ad928\n",
      "\n",
      "Adding mean_agg-aggregate-c50263a0ad47c330577b3058195ad928 to existing_functions\n",
      "-----------------\n"
     ]
    }
   ],
   "source": [
    "result = client.compute(z)"
   ]
  },
  {
   "cell_type": "code",
   "execution_count": 15,
   "metadata": {},
   "outputs": [
    {
     "data": {
      "text/html": [
       "<strong>Future: finalize</strong>\n",
       "<span style=\"color: var(--jp-ui-font-color2, gray)\"> status: </span>\n",
       "\n",
       "\n",
       "<span style=\"color: var(--jp-error-color0, black)\">finished</span>,\n",
       "\n",
       "\n",
       "\n",
       "<span style=\"color: var(--jp-ui-font-color2, gray)\"> type:</span> numpy.float64,\n",
       "\n",
       "\n",
       "<span style=\"color: var(--jp-ui-font-color2, gray)\"> key:</span> finalize-3daf4f11543bcdbd0d181b8d6c929af3"
      ],
      "text/plain": [
       "<Future: finished, type: numpy.float64, key: finalize-3daf4f11543bcdbd0d181b8d6c929af3>"
      ]
     },
     "execution_count": 15,
     "metadata": {},
     "output_type": "execute_result"
    }
   ],
   "source": [
    "result"
   ]
  },
  {
   "cell_type": "code",
   "execution_count": 16,
   "metadata": {},
   "outputs": [
    {
     "data": {
      "text/plain": [
       "2.0"
      ]
     },
     "execution_count": 16,
     "metadata": {},
     "output_type": "execute_result"
    }
   ],
   "source": [
    "result.result()"
   ]
  },
  {
   "cell_type": "code",
   "execution_count": 17,
   "metadata": {},
   "outputs": [
    {
     "name": "stdout",
     "output_type": "stream",
     "text": [
      "Inside myFunc. Time = 19:40:23\n",
      "Functions already processed\n",
      "mean_agg-aggregate-c50263a0ad47c330577b3058195ad928\n",
      "Dask Graph Tasks\n",
      "Task Name: mean_agg-aggregate-c50263a0ad47c330577b3058195ad928\n",
      "Dask Graph\n",
      "HighLevelGraph with 7 layers.\n",
      "<dask.highlevelgraph.HighLevelGraph object at 0x7f95fa07f3a0>\n",
      " 0. ones_like-c53a97836143a00162e3470fef213e1e\n",
      " 1. add-098526cf93d1ac0d3a8744f59d0814fb\n",
      " 2. mean_chunk-4e5168d025885dfbdfd76df3f8083cda\n",
      " 3. mean_combine-partial-0832826c732652f3243668d740a0d5f3\n",
      " 4. mean_combine-partial-f33215f12dcb169d48ded3405ae5b4a2\n",
      " 5. mean_combine-partial-f380b3499d120118c907e62d760350cc\n",
      " 6. mean_agg-aggregate-c50263a0ad47c330577b3058195ad928\n",
      "\n",
      "mean_agg-aggregate-c50263a0ad47c330577b3058195ad928 has already been processed\n",
      "New Dask Graph\n",
      "HighLevelGraph with 1 layers.\n",
      "<dask.highlevelgraph.HighLevelGraph object at 0x7f95f8773c70>\n",
      " 0. add_to_three-mean_agg-aggregate-c50263a0ad47c330577b3058195ad928\n",
      "\n",
      "-----------------\n"
     ]
    },
    {
     "name": "stderr",
     "output_type": "stream",
     "text": [
      "2024-06-19 19:40:23,945 - distributed.scheduler - WARNING - Detected different `run_spec` for key 'finalize-3daf4f11543bcdbd0d181b8d6c929af3' between two consecutive calls to `update_graph`. This can cause failures and deadlocks down the line. Please ensure unique key names. If you are using a standard dask collections, consider releasing all the data before resubmitting another computation. More details and help can be found at https://github.com/dask/dask/issues/9888. \n",
      "Debugging information\n",
      "---------------------\n",
      "old task state: memory\n",
      "old run_spec: (<function finalize at 0x7f96080ec280>, ([('mean_agg-aggregate-c50263a0ad47c330577b3058195ad928',)],), {})\n",
      "new run_spec: (<function finalize at 0x7f96080ec280>, ([('mean_agg-aggregate-c50263a0ad47c330577b3058195ad928',)],), {})\n",
      "old token: ('tuple', [('ae65af090ad79ae2e434bc4c7eb750244a1a40bb', []), ('tuple', [('list', [('tuple', ['mean_agg-aggregate-c50263a0ad47c330577b3058195ad928'])])]), ('dict', [])])\n",
      "new token: ('tuple', [('ae65af090ad79ae2e434bc4c7eb750244a1a40bb', []), ('tuple', [('list', [('tuple', ['mean_agg-aggregate-c50263a0ad47c330577b3058195ad928'])])]), ('dict', [])])\n",
      "old dependencies: {('mean_agg-aggregate-c50263a0ad47c330577b3058195ad928',)}\n",
      "new dependencies: set()\n",
      "\n"
     ]
    }
   ],
   "source": [
    "# Compute a second time\n",
    "result = client.compute(z)"
   ]
  },
  {
   "cell_type": "code",
   "execution_count": 18,
   "metadata": {},
   "outputs": [
    {
     "name": "stderr",
     "output_type": "stream",
     "text": [
      "2024-06-19 19:40:46,904 - distributed.scheduler - WARNING - Removing worker 'tcp://127.0.0.1:13361' caused the cluster to lose already computed task(s), which will be recomputed elsewhere: {'finalize-3daf4f11543bcdbd0d181b8d6c929af3'} (stimulus_id='handle-worker-cleanup-1718822446.9042947')\n"
     ]
    }
   ],
   "source": [
    "client.shutdown()"
   ]
  },
  {
   "cell_type": "markdown",
   "metadata": {},
   "source": [
    "### Example 3.2: Edit HighLevelGraph in a new cluster"
   ]
  },
  {
   "cell_type": "code",
   "execution_count": 19,
   "metadata": {},
   "outputs": [],
   "source": [
    "from dask.distributed import Client\n",
    "import dask\n",
    "import dask.array as da\n",
    "from dask.highlevelgraph import HighLevelGraph\n",
    "from datetime import datetime"
   ]
  },
  {
   "cell_type": "code",
   "execution_count": 20,
   "metadata": {},
   "outputs": [],
   "source": [
    "client = Client()\n",
    "\n",
    "original_collections_to_dsk = client.collections_to_dsk"
   ]
  },
  {
   "cell_type": "code",
   "execution_count": 21,
   "metadata": {},
   "outputs": [],
   "source": [
    "existing_functions = [\"mean_agg-aggregate-c50263a0ad47c330577b3058195ad928\"]\n",
    "\n",
    "\n",
    "def modified_collections_to_dsk(collections, *args, **kwargs):\n",
    "    c = datetime.now()\n",
    "    print(\"Inside myFunc. Time = \" + c.strftime(\"%H:%M:%S\"))\n",
    "\n",
    "    print(\"Functions already processed\")\n",
    "    global existing_functions\n",
    "    for funcs in existing_functions:\n",
    "        print(f\"{funcs}\")\n",
    "\n",
    "    print(\"Dask Graph Tasks\")\n",
    "    for collection in collections:\n",
    "        print(f\"Task Name: {collection.name}\")\n",
    "        print(\"Dask Graph\")\n",
    "        print(collection.dask)\n",
    "        if collection.name not in existing_functions:\n",
    "            print(f\"Adding {collection.name} to existing_functions\")\n",
    "            existing_functions.append(collection.name)\n",
    "        else:\n",
    "            print(f\"{collection.name} has already been processed\")\n",
    "            # TODO: Continue playing around with the dask graph so return is not a string\n",
    "            # TODO: Use collection hash rather than collection name\n",
    "            layers = {\n",
    "                f\"add_to_three-{(collection.name)}\": {\n",
    "                    (f\"add_to_three-{(collection.name)}\", 0): (add_to_three, 20)\n",
    "                }\n",
    "            }\n",
    "            dependencies = {f\"add_to_three-{(collection.name)}\": set()}\n",
    "            graph = HighLevelGraph(layers, dependencies)\n",
    "            collection.dask = graph\n",
    "            # layers = {f\"add_to_thre11e-{(collection.name)}\": {(f\"add_to_three-{(collection.name)}\", 0): (add_to_three, 20)}}\n",
    "            # layers = {f\"add_to_thre11e-{(collection.name)}\": (add_to_three, 20)}\n",
    "            # dependencies = {f\"add_to_three-{(collection.name)}\": set()}\n",
    "            # graph = HighLevelGraph(layers, dependencies)\n",
    "            # collection.dask = graph\n",
    "            print(\"New Dask Graph\")\n",
    "            print(collection.dask)\n",
    "\n",
    "    print(\"-----------------\")\n",
    "\n",
    "    return original_collections_to_dsk(collections, *args, **kwargs)"
   ]
  },
  {
   "cell_type": "code",
   "execution_count": 22,
   "metadata": {},
   "outputs": [],
   "source": [
    "client.collections_to_dsk = modified_collections_to_dsk"
   ]
  },
  {
   "cell_type": "code",
   "execution_count": 23,
   "metadata": {},
   "outputs": [],
   "source": [
    "def add_to_three(number):\n",
    "    return number + 3"
   ]
  },
  {
   "cell_type": "code",
   "execution_count": 24,
   "metadata": {},
   "outputs": [
    {
     "name": "stdout",
     "output_type": "stream",
     "text": [
      "Inside myFunc. Time = 19:43:16\n",
      "Functions already processed\n",
      "mean_agg-aggregate-c50263a0ad47c330577b3058195ad928\n",
      "Dask Graph Tasks\n",
      "Task Name: mean_agg-aggregate-c50263a0ad47c330577b3058195ad928\n",
      "Dask Graph\n",
      "HighLevelGraph with 7 layers.\n",
      "<dask.highlevelgraph.HighLevelGraph object at 0x7f9608d4ba90>\n",
      " 0. ones_like-c53a97836143a00162e3470fef213e1e\n",
      " 1. add-098526cf93d1ac0d3a8744f59d0814fb\n",
      " 2. mean_chunk-4e5168d025885dfbdfd76df3f8083cda\n",
      " 3. mean_combine-partial-0832826c732652f3243668d740a0d5f3\n",
      " 4. mean_combine-partial-f33215f12dcb169d48ded3405ae5b4a2\n",
      " 5. mean_combine-partial-f380b3499d120118c907e62d760350cc\n",
      " 6. mean_agg-aggregate-c50263a0ad47c330577b3058195ad928\n",
      "\n",
      "mean_agg-aggregate-c50263a0ad47c330577b3058195ad928 has already been processed\n",
      "New Dask Graph\n",
      "HighLevelGraph with 1 layers.\n",
      "<dask.highlevelgraph.HighLevelGraph object at 0x7f95fa07fa00>\n",
      " 0. add_to_three-mean_agg-aggregate-c50263a0ad47c330577b3058195ad928\n",
      "\n",
      "-----------------\n"
     ]
    }
   ],
   "source": [
    "x = da.ones((1000, 1000), chunks=(100, 100))\n",
    "y = x + 1\n",
    "z = y.mean()\n",
    "result = client.compute(z)"
   ]
  },
  {
   "cell_type": "code",
   "execution_count": 25,
   "metadata": {},
   "outputs": [
    {
     "data": {
      "text/html": [
       "<strong>Future: finalize</strong>\n",
       "<span style=\"color: var(--jp-ui-font-color2, gray)\"> status: </span>\n",
       "\n",
       "\n",
       "<span style=\"color: var(--jp-error-color0, black)\">finished</span>,\n",
       "\n",
       "\n",
       "\n",
       "<span style=\"color: var(--jp-ui-font-color2, gray)\"> type:</span> str,\n",
       "\n",
       "\n",
       "<span style=\"color: var(--jp-ui-font-color2, gray)\"> key:</span> finalize-3daf4f11543bcdbd0d181b8d6c929af3"
      ],
      "text/plain": [
       "<Future: finished, type: str, key: finalize-3daf4f11543bcdbd0d181b8d6c929af3>"
      ]
     },
     "execution_count": 25,
     "metadata": {},
     "output_type": "execute_result"
    }
   ],
   "source": [
    "result"
   ]
  },
  {
   "cell_type": "code",
   "execution_count": 26,
   "metadata": {},
   "outputs": [
    {
     "data": {
      "text/plain": [
       "'mean_agg-aggregate-c50263a0ad47c330577b3058195ad928'"
      ]
     },
     "execution_count": 26,
     "metadata": {},
     "output_type": "execute_result"
    }
   ],
   "source": [
    "result.result()"
   ]
  },
  {
   "cell_type": "markdown",
   "metadata": {},
   "source": [
    "### Example 3.3: Try with blockwise"
   ]
  },
  {
   "cell_type": "code",
   "execution_count": 5,
   "metadata": {},
   "outputs": [
    {
     "name": "stderr",
     "output_type": "stream",
     "text": [
      "/software/swift-hep/envs/dask_dirac/lib/python3.10/site-packages/distributed/node.py:182: UserWarning: Port 8787 is already in use.\n",
      "Perhaps you already have a cluster running?\n",
      "Hosting the HTTP server on port 16985 instead\n",
      "  warnings.warn(\n",
      "2024-06-24 22:40:59,285 - distributed.scheduler - WARNING - Removing worker 'tcp://127.0.0.1:16327' caused the cluster to lose already computed task(s), which will be recomputed elsewhere: {'finalize-99beb22034172632fdd161427fa0c2cc'} (stimulus_id='handle-worker-cleanup-1719265259.285501')\n"
     ]
    },
    {
     "name": "stdout",
     "output_type": "stream",
     "text": [
      "------------\n",
      "[20 35 54]\n"
     ]
    }
   ],
   "source": [
    "from dask.distributed import Client\n",
    "import dask\n",
    "import dask.array as da\n",
    "import numpy as np\n",
    "from dask.highlevelgraph import HighLevelGraph\n",
    "from datetime import datetime\n",
    "from dask.array.core import Array\n",
    "\n",
    "client = Client()\n",
    "\n",
    "# Define some simple functions to use in the graph\n",
    "def add(x, y):\n",
    "    return x + y\n",
    "\n",
    "\n",
    "def multiply(x, y):\n",
    "    return x * y\n",
    "\n",
    "\n",
    "# Create a Dask array from the HighLevelGraph\n",
    "# Note: We need to specify the shape and chunks of the resulting array\n",
    "dask_array = da.blockwise(\n",
    "    lambda x, y: multiply(add(x, y), y),\n",
    "    \"i\",\n",
    "    np.array([1, 2, 3]),\n",
    "    \"i\",\n",
    "    np.array([4, 5, 6]),\n",
    "    \"i\",\n",
    "    dtype=np.int64,\n",
    ")\n",
    "\n",
    "# Use client.compute to compute the result\n",
    "future = client.compute(dask_array)\n",
    "result = future.result()\n",
    "\n",
    "client.shutdown()\n",
    "\n",
    "print(\"------------\")\n",
    "print(result)"
   ]
  },
  {
   "cell_type": "code",
   "execution_count": 6,
   "metadata": {},
   "outputs": [
    {
     "name": "stderr",
     "output_type": "stream",
     "text": [
      "/software/swift-hep/envs/dask_dirac/lib/python3.10/site-packages/distributed/node.py:182: UserWarning: Port 8787 is already in use.\n",
      "Perhaps you already have a cluster running?\n",
      "Hosting the HTTP server on port 25436 instead\n",
      "  warnings.warn(\n"
     ]
    },
    {
     "name": "stdout",
     "output_type": "stream",
     "text": [
      "Inside myFunc. Time = 22:41:44\n",
      "Functions already processed\n",
      "Dask Graph Tasks\n",
      "Task Name: lambda-bd96b5ee7bd8b34908deaa71441f1d4a\n",
      "Dask Graph\n",
      "HighLevelGraph with 3 layers.\n",
      "<dask.highlevelgraph.HighLevelGraph object at 0x7fae2833ff10>\n",
      " 0. array-93899268a02d75f85755ccb59b755ad1\n",
      " 1. array-08b8023b2db8bebf73813d166e3f6b63\n",
      " 2. lambda-bd96b5ee7bd8b34908deaa71441f1d4a\n",
      "\n",
      "-----------------\n",
      "Edditing Dask Graph\n",
      "New Dask Graph\n",
      "HighLevelGraph with 3 layers.\n",
      "<dask.highlevelgraph.HighLevelGraph object at 0x7fae481a7190>\n",
      " 0. array-71a7394e5f14de7dc72bb0b1b251ce84\n",
      " 1. array-e3622cdb87acdb3eed57eec6c2ef9fb7\n",
      " 2. lambda-19e9145bca12a9b712321a40e73e64bd\n",
      "\n",
      "-----------------\n"
     ]
    },
    {
     "name": "stderr",
     "output_type": "stream",
     "text": [
      "2024-06-24 22:41:45,478 - distributed.scheduler - WARNING - Removing worker 'tcp://127.0.0.1:21393' caused the cluster to lose already computed task(s), which will be recomputed elsewhere: {'finalize-a78071afc5b678a3bf5936b8a138ce3f'} (stimulus_id='handle-worker-cleanup-1719265305.478143')\n"
     ]
    },
    {
     "name": "stdout",
     "output_type": "stream",
     "text": [
      "------------\n",
      "[104 135 170]\n"
     ]
    }
   ],
   "source": [
    "from dask.distributed import Client\n",
    "import dask\n",
    "import dask.array as da\n",
    "import numpy as np\n",
    "from dask.highlevelgraph import HighLevelGraph\n",
    "from datetime import datetime\n",
    "from dask.array.core import Array\n",
    "\n",
    "\n",
    "def modified_collections_to_dsk(collections, *args, **kwargs):\n",
    "    c = datetime.now()\n",
    "    print(\"Inside myFunc. Time = \" + c.strftime(\"%H:%M:%S\"))\n",
    "\n",
    "    print(\"Functions already processed\")\n",
    "\n",
    "    print(\"Dask Graph Tasks\")\n",
    "    for collection in collections:\n",
    "        print(f\"Task Name: {collection.name}\")\n",
    "        print(\"Dask Graph\")\n",
    "        print(collection.dask)\n",
    "        print(\"-----------------\")\n",
    "        print(\"Edditing Dask Graph\")\n",
    "        dask_array = da.blockwise(\n",
    "            lambda x, y: multiply(add(x, y), y),\n",
    "            \"i\",\n",
    "            np.array([5, 6, 7]),\n",
    "            \"i\",\n",
    "            np.array([8, 9, 10]),\n",
    "            \"i\",\n",
    "            dtype=np.int64,\n",
    "        )\n",
    "        collection.dask = dask_array.dask\n",
    "        collection.__dask_keys__ = dask_array.__dask_keys__\n",
    "\n",
    "        print(\"New Dask Graph\")\n",
    "        print(collection.dask)\n",
    "\n",
    "    print(\"-----------------\")\n",
    "\n",
    "    return original_collections_to_dsk(collections, *args, **kwargs)\n",
    "\n",
    "\n",
    "client = Client()\n",
    "\n",
    "original_collections_to_dsk = client.collections_to_dsk\n",
    "\n",
    "client.collections_to_dsk = modified_collections_to_dsk\n",
    "\n",
    "# Define some simple functions to use in the graph\n",
    "def add(x, y):\n",
    "    return x + y\n",
    "\n",
    "\n",
    "def multiply(x, y):\n",
    "    return x * y\n",
    "\n",
    "\n",
    "# Create a Dask array from the HighLevelGraph\n",
    "# Note: We need to specify the shape and chunks of the resulting array\n",
    "dask_array = da.blockwise(\n",
    "    lambda x, y: multiply(add(x, y), y),\n",
    "    \"i\",\n",
    "    np.array([1, 2, 3]),\n",
    "    \"i\",\n",
    "    np.array([4, 5, 6]),\n",
    "    \"i\",\n",
    "    dtype=np.int64,\n",
    ")\n",
    "\n",
    "# Use client.compute to compute the result\n",
    "future = client.compute(dask_array)\n",
    "result = future.result()\n",
    "\n",
    "client.shutdown()\n",
    "\n",
    "print(\"------------\")\n",
    "print(result)"
   ]
  },
  {
   "cell_type": "markdown",
   "metadata": {},
   "source": [
    "### Example 3.4: ones and blockwise"
   ]
  },
  {
   "cell_type": "markdown",
   "metadata": {},
   "source": [
    "In this example, a HighLevelGraph containing two tasks is submitted to the client.\n",
    "Prior to being sent to the scheduler, the HighLevelGraph is replaced with a HighLevelGraph defined by blockwise.\n"
   ]
  },
  {
   "cell_type": "code",
   "execution_count": 1,
   "metadata": {},
   "outputs": [
    {
     "name": "stdout",
     "output_type": "stream",
     "text": [
      "Inside myFunc. Time = 16:05:15\n",
      "Functions already processed\n",
      "Dask Graph Tasks\n",
      "Task Name: add-098526cf93d1ac0d3a8744f59d0814fb\n",
      "Dask Graph\n",
      "HighLevelGraph with 2 layers.\n",
      "<dask.highlevelgraph.HighLevelGraph object at 0x7efc31c09210>\n",
      " 0. ones_like-c53a97836143a00162e3470fef213e1e\n",
      " 1. add-098526cf93d1ac0d3a8744f59d0814fb\n",
      "\n",
      "-----------------\n",
      "Edditing Dask Graph\n",
      "New Dask Graph\n",
      "HighLevelGraph with 3 layers.\n",
      "<dask.highlevelgraph.HighLevelGraph object at 0x7efc31c09810>\n",
      " 0. array-71a7394e5f14de7dc72bb0b1b251ce84\n",
      " 1. array-e3622cdb87acdb3eed57eec6c2ef9fb7\n",
      " 2. lambda-75f9fecc0d97ebf395a496c2575f03d0\n",
      "\n",
      "-----------------\n"
     ]
    },
    {
     "name": "stderr",
     "output_type": "stream",
     "text": [
      "2024-06-25 16:05:15,426 - distributed.scheduler - WARNING - Removing worker 'tcp://127.0.0.1:13193' caused the cluster to lose already computed task(s), which will be recomputed elsewhere: {'finalize-c0d5d498f2169d9602849de30cd6a0a0'} (stimulus_id='handle-worker-cleanup-1719327915.4264529')\n"
     ]
    },
    {
     "name": "stdout",
     "output_type": "stream",
     "text": [
      "------------\n",
      "[104 135 170]\n"
     ]
    }
   ],
   "source": [
    "from dask.distributed import Client\n",
    "import dask\n",
    "import dask.array as da\n",
    "import numpy as np\n",
    "from dask.highlevelgraph import HighLevelGraph\n",
    "from datetime import datetime\n",
    "from dask.array.core import Array\n",
    "\n",
    "\n",
    "def modified_collections_to_dsk(collections, *args, **kwargs):\n",
    "    c = datetime.now()\n",
    "    print(\"Inside myFunc. Time = \" + c.strftime(\"%H:%M:%S\"))\n",
    "\n",
    "    print(\"Functions already processed\")\n",
    "\n",
    "    print(\"Dask Graph Tasks\")\n",
    "    for collection in collections:\n",
    "        print(f\"Task Name: {collection.name}\")\n",
    "        print(\"Dask Graph\")\n",
    "        print(collection.dask)\n",
    "        print(\"-----------------\")\n",
    "        print(\"Edditing Dask Graph\")\n",
    "        dask_array = da.blockwise(\n",
    "            lambda x, y: multiply(add(x, y), y),\n",
    "            \"i\",\n",
    "            np.array([5, 6, 7]),\n",
    "            \"i\",\n",
    "            np.array([8, 9, 10]),\n",
    "            \"i\",\n",
    "            dtype=np.int64,\n",
    "        )\n",
    "        collection.dask = dask_array.dask\n",
    "        collection.__dask_keys__ = dask_array.__dask_keys__\n",
    "\n",
    "        print(\"New Dask Graph\")\n",
    "        print(collection.dask)\n",
    "\n",
    "    print(\"-----------------\")\n",
    "\n",
    "    return original_collections_to_dsk(collections, *args, **kwargs)\n",
    "\n",
    "\n",
    "client = Client()\n",
    "\n",
    "original_collections_to_dsk = client.collections_to_dsk\n",
    "\n",
    "client.collections_to_dsk = modified_collections_to_dsk\n",
    "\n",
    "# Define some simple functions to use in the graph\n",
    "def add(x, y):\n",
    "    return x + y\n",
    "\n",
    "\n",
    "def multiply(x, y):\n",
    "    return x * y\n",
    "\n",
    "\n",
    "# Create a Dask array from the HighLevelGraph\n",
    "# Note: We need to specify the shape and chunks of the resulting array\n",
    "dask_array = da.ones((1000, 1000), chunks=(100, 100)) + 1\n",
    "\n",
    "\n",
    "# Use client.compute to compute the result\n",
    "future = client.compute(dask_array)\n",
    "result = future.result()\n",
    "\n",
    "client.shutdown()\n",
    "\n",
    "print(\"------------\")\n",
    "print(result)"
   ]
  },
  {
   "cell_type": "code",
   "execution_count": null,
   "metadata": {},
   "outputs": [],
   "source": []
  },
  {
   "cell_type": "markdown",
   "metadata": {},
   "source": [
    "## Example 4: Hashing"
   ]
  },
  {
   "cell_type": "markdown",
   "metadata": {},
   "source": [
    "### Example 4.1: Hashing"
   ]
  },
  {
   "cell_type": "markdown",
   "metadata": {},
   "source": [
    "In this example, a hash is created using hashlib. \n",
    "dask.tokenize is not used as it is not repeatable in different environments.\n",
    "\n",
    "Expected hash is `ec2f2283b6f02591655b83abe2be321d08b8b54983b0d9083da5eda81e837d490c838fdb882d8891161f832d30ff1cd8`"
   ]
  },
  {
   "cell_type": "code",
   "execution_count": 1,
   "metadata": {},
   "outputs": [
    {
     "name": "stdout",
     "output_type": "stream",
     "text": [
      "HighLevelGraph with 2 layers.\n",
      "<dask.highlevelgraph.HighLevelGraph object at 0x7fd920bf3970>\n",
      " 0. ones_like-c53a97836143a00162e3470fef213e1e\n",
      " 1. add-34435cc4a153f02b208c5e30ee811e3d\n",
      "\n"
     ]
    }
   ],
   "source": [
    "import dask.array as da\n",
    "import hashlib\n",
    "\n",
    "dask_array = da.ones((1000, 1000), chunks=(100, 100)) + 20231\n",
    "graph = dask_array.__dask_graph__()\n",
    "print(graph)"
   ]
  },
  {
   "cell_type": "code",
   "execution_count": 2,
   "metadata": {},
   "outputs": [
    {
     "name": "stdout",
     "output_type": "stream",
     "text": [
      "Layer: ones_like-c53a97836143a00162e3470fef213e1e\n",
      "short_layer_name: ones_like\n",
      "len: 100\n",
      "args: ((100, 100),)\n",
      "args: (100, 100)\n",
      "function: subgraph_callable-f646aaf1ae08e118dd013a3d16eb54ec\n",
      "----------------------\n",
      "Layer: add-34435cc4a153f02b208c5e30ee811e3d\n",
      "short_layer_name: add\n",
      "len: 100\n",
      "args: (('ones_like-c53a97836143a00162e3470fef213e1e', 9, 9), 20231)\n",
      "args: 20231\n",
      "function: subgraph_callable-67aaf28825d396a0abf7512dfd79c838\n",
      "----------------------\n",
      "total graph description:\n",
      "[{'function:': 'ones_like', 'layer_length': 100, 'layer_args': (100, 100)}, {'function:': 'add', 'layer_length': 100, 'layer_args': 20231}]\n"
     ]
    }
   ],
   "source": [
    "total_graph_description = []\n",
    "for i, (layer_name, layer) in enumerate(graph.layers.items()):\n",
    "    print(f\"Layer: {layer_name}\")\n",
    "    short_layer_name = layer_name[: layer_name.rfind(\"-\")]\n",
    "    print(f\"short_layer_name: {short_layer_name}\")\n",
    "    print(f\"len: {len(layer.items())}\")\n",
    "    # Lazy looping to get the args of one layer.\n",
    "    # Possible extension would get all hash of each layer\n",
    "    for task_key, task in layer.items():\n",
    "        function = task[0]\n",
    "        args = task[1:]\n",
    "    print(f\"args: {args}\")\n",
    "    if i == 0:\n",
    "        print(f\"args: {args[0]}\")\n",
    "        layer_args = args[0]\n",
    "\n",
    "    else:\n",
    "        print(f\"args: {args[1]}\")\n",
    "        layer_args = args[1]\n",
    "    print(f\"function: {function}\")\n",
    "    layer_description = {\n",
    "        \"function:\": short_layer_name,\n",
    "        \"layer_length\": len(layer.items()),\n",
    "        \"layer_args\": layer_args,\n",
    "    }\n",
    "    total_graph_description.append(layer_description)\n",
    "    print(\"----------------------\")\n",
    "\n",
    "print(\"total graph description:\")\n",
    "print(total_graph_description)"
   ]
  },
  {
   "cell_type": "code",
   "execution_count": 3,
   "metadata": {},
   "outputs": [
    {
     "data": {
      "text/plain": [
       "'ec2f2283b6f02591655b83abe2be321d08b8b54983b0d9083da5eda81e837d490c838fdb882d8891161f832d30ff1cd8'"
      ]
     },
     "execution_count": 3,
     "metadata": {},
     "output_type": "execute_result"
    }
   ],
   "source": [
    "hashlib.sha3_384(str(total_graph_description).encode()).hexdigest()"
   ]
  },
  {
   "cell_type": "markdown",
   "metadata": {},
   "source": [
    "`ec2f2283b6f02591655b83abe2be321d08b8b54983b0d9083da5eda81e837d490c838fdb882d8891161f832d30ff1cd8`\n",
    "\n",
    "is the expected result"
   ]
  },
  {
   "cell_type": "code",
   "execution_count": 4,
   "metadata": {},
   "outputs": [
    {
     "data": {
      "text/plain": [
       "array([[20232., 20232., 20232., ..., 20232., 20232., 20232.],\n",
       "       [20232., 20232., 20232., ..., 20232., 20232., 20232.],\n",
       "       [20232., 20232., 20232., ..., 20232., 20232., 20232.],\n",
       "       ...,\n",
       "       [20232., 20232., 20232., ..., 20232., 20232., 20232.],\n",
       "       [20232., 20232., 20232., ..., 20232., 20232., 20232.],\n",
       "       [20232., 20232., 20232., ..., 20232., 20232., 20232.]])"
      ]
     },
     "execution_count": 4,
     "metadata": {},
     "output_type": "execute_result"
    }
   ],
   "source": [
    "dask_array.compute()"
   ]
  },
  {
   "cell_type": "markdown",
   "metadata": {},
   "source": [
    "### Example 4.2: Move the hash determination into collections_to_dsk"
   ]
  },
  {
   "cell_type": "code",
   "execution_count": 1,
   "metadata": {},
   "outputs": [],
   "source": [
    "import dask.array as da\n",
    "import hashlib\n",
    "from datetime import datetime\n",
    "from dask.distributed import Client\n",
    "from pprint import pprint"
   ]
  },
  {
   "cell_type": "code",
   "execution_count": 2,
   "metadata": {},
   "outputs": [],
   "source": [
    "def modified_collections_to_dsk(collections, *args, **kwargs):\n",
    "    c = datetime.now()\n",
    "    print(\"Inside myFunc. Time = \" + c.strftime(\"%H:%M:%S\"))\n",
    "\n",
    "    print(\"Functions already processed\")\n",
    "\n",
    "    print(\"Dask Graph Tasks\")\n",
    "    for collection in collections:\n",
    "        graph = collection.dask\n",
    "\n",
    "        print(f\"Task Name: {collection.name}\")\n",
    "        print(\"Dask Graph\")\n",
    "        print(graph)\n",
    "        total_graph_description = []\n",
    "        for i, (layer_name, layer) in enumerate(graph.layers.items()):\n",
    "            short_layer_name = layer_name[: layer_name.rfind(\"-\")]\n",
    "            task_key, task = next(iter(layer.items()))\n",
    "            function = task[0]\n",
    "            task_args = task[1:]\n",
    "            if i == 0:\n",
    "                layer_args = task_args[0]\n",
    "            else:\n",
    "                layer_args = task_args[1]\n",
    "\n",
    "            layer_description = {\n",
    "                \"function:\": short_layer_name,\n",
    "                \"layer_length\": len(layer.items()),\n",
    "                \"layer_args\": layer_args,\n",
    "            }\n",
    "            total_graph_description.append(layer_description)\n",
    "        print(\"total_graph_description:\")\n",
    "        pprint(total_graph_description)\n",
    "        graph_hash = hashlib.sha3_384(str(total_graph_description).encode()).hexdigest()\n",
    "        print(f\"hash: \\033[93m {graph_hash} \\033[0m\")\n",
    "\n",
    "    print(\"----------------------\")\n",
    "\n",
    "    return original_collections_to_dsk(collections, *args, **kwargs)"
   ]
  },
  {
   "cell_type": "code",
   "execution_count": 3,
   "metadata": {},
   "outputs": [
    {
     "name": "stdout",
     "output_type": "stream",
     "text": [
      "Inside myFunc. Time = 20:57:57\n",
      "Functions already processed\n",
      "Dask Graph Tasks\n",
      "Task Name: add-34435cc4a153f02b208c5e30ee811e3d\n",
      "Dask Graph\n",
      "HighLevelGraph with 2 layers.\n",
      "<dask.highlevelgraph.HighLevelGraph object at 0x7f6bf7ebb9d0>\n",
      " 0. ones_like-c53a97836143a00162e3470fef213e1e\n",
      " 1. add-34435cc4a153f02b208c5e30ee811e3d\n",
      "\n",
      "total_graph_description:\n",
      "[{'function:': 'ones_like', 'layer_args': (100, 100), 'layer_length': 100},\n",
      " {'function:': 'add', 'layer_args': 20231, 'layer_length': 100}]\n",
      "hash: \u001b[93m ec2f2283b6f02591655b83abe2be321d08b8b54983b0d9083da5eda81e837d490c838fdb882d8891161f832d30ff1cd8 \u001b[0m\n",
      "----------------------\n"
     ]
    },
    {
     "name": "stderr",
     "output_type": "stream",
     "text": [
      "2024-07-02 20:57:58,396 - distributed.scheduler - WARNING - Removing worker 'tcp://127.0.0.1:5373' caused the cluster to lose already computed task(s), which will be recomputed elsewhere: {'finalize-236d3b698353fe74f1e05c293988becb'} (stimulus_id='handle-worker-cleanup-1719950278.395871')\n"
     ]
    },
    {
     "name": "stdout",
     "output_type": "stream",
     "text": [
      "------------\n",
      "[[20232. 20232. 20232. ... 20232. 20232. 20232.]\n",
      " [20232. 20232. 20232. ... 20232. 20232. 20232.]\n",
      " [20232. 20232. 20232. ... 20232. 20232. 20232.]\n",
      " ...\n",
      " [20232. 20232. 20232. ... 20232. 20232. 20232.]\n",
      " [20232. 20232. 20232. ... 20232. 20232. 20232.]\n",
      " [20232. 20232. 20232. ... 20232. 20232. 20232.]]\n"
     ]
    }
   ],
   "source": [
    "client = Client()\n",
    "\n",
    "original_collections_to_dsk = client.collections_to_dsk\n",
    "\n",
    "client.collections_to_dsk = modified_collections_to_dsk\n",
    "\n",
    "dask_array = da.ones((1000, 1000), chunks=(100, 100)) + 20231\n",
    "\n",
    "# Use client.compute to compute the result\n",
    "future = client.compute(dask_array)\n",
    "result = future.result()\n",
    "\n",
    "client.shutdown()\n",
    "\n",
    "print(\"------------\")\n",
    "print(result)"
   ]
  },
  {
   "cell_type": "markdown",
   "metadata": {},
   "source": [
    "### Example 4.3: Change graph based on hash"
   ]
  },
  {
   "cell_type": "code",
   "execution_count": 1,
   "metadata": {},
   "outputs": [],
   "source": [
    "import dask.array as da\n",
    "import hashlib\n",
    "from datetime import datetime\n",
    "from dask.distributed import Client\n",
    "from pprint import pprint\n",
    "import numpy as np"
   ]
  },
  {
   "cell_type": "code",
   "execution_count": 2,
   "metadata": {},
   "outputs": [],
   "source": [
    "def modified_collections_to_dsk(collections, *args, **kwargs):\n",
    "    c = datetime.now()\n",
    "    print(\"Inside myFunc. Time = \" + c.strftime(\"%H:%M:%S\"))\n",
    "\n",
    "    print(\"Functions already processed\")\n",
    "\n",
    "    global existing_hashes\n",
    "\n",
    "    print(\"Dask Graph Tasks\")\n",
    "    for collection in collections:\n",
    "        graph = collection.dask\n",
    "\n",
    "        print(f\"Task Name: {collection.name}\")\n",
    "        print(\"Dask Graph\")\n",
    "        print(graph)\n",
    "        total_graph_description = []\n",
    "        for i, (layer_name, layer) in enumerate(graph.layers.items()):\n",
    "            short_layer_name = layer_name[: layer_name.rfind(\"-\")]\n",
    "            task_key, task = next(iter(layer.items()))\n",
    "            function = task[0]\n",
    "            task_args = task[1:]\n",
    "            if i == 0:\n",
    "                layer_args = task_args[0]\n",
    "            else:\n",
    "                layer_args = task_args[1]\n",
    "\n",
    "            layer_description = {\n",
    "                \"function:\": short_layer_name,\n",
    "                \"layer_length\": len(layer.items()),\n",
    "                \"layer_args\": layer_args,\n",
    "            }\n",
    "            total_graph_description.append(layer_description)\n",
    "        print(\"total_graph_description:\")\n",
    "        pprint(total_graph_description)\n",
    "        graph_hash = hashlib.sha3_384(str(total_graph_description).encode()).hexdigest()\n",
    "        print(f\"hash: \\033[93m {graph_hash} \\033[0m\")\n",
    "        if graph_hash in existing_hashes:\n",
    "            print(\"\\nGraph found in existing_hashes... replacing graph\")\n",
    "            dask_array = da.blockwise(\n",
    "                lambda x, y: multiply(add(x, y), y),\n",
    "                \"i\",\n",
    "                np.array([5, 6, 7]),\n",
    "                \"i\",\n",
    "                np.array([8, 9, 10]),\n",
    "                \"i\",\n",
    "                dtype=np.int64,\n",
    "            )\n",
    "            collection.dask = dask_array.dask\n",
    "            collection.__dask_keys__ = dask_array.__dask_keys__\n",
    "            print(\"New Dask Graph\")\n",
    "            print(collection.dask)\n",
    "    print(\"----------------------\")\n",
    "\n",
    "    return original_collections_to_dsk(collections, *args, **kwargs)"
   ]
  },
  {
   "cell_type": "code",
   "execution_count": 3,
   "metadata": {},
   "outputs": [],
   "source": [
    "existing_hashes = [\n",
    "    \"ec2f2283b6f02591655b83abe2be321d08b8b54983b0d9083da5eda81e837d490c838fdb882d8891161f832d30ff1cd8\"\n",
    "]\n",
    "\n",
    "\n",
    "def add(x, y):\n",
    "    return x + y\n",
    "\n",
    "\n",
    "def multiply(x, y):\n",
    "    return x * y"
   ]
  },
  {
   "cell_type": "code",
   "execution_count": 4,
   "metadata": {},
   "outputs": [
    {
     "name": "stdout",
     "output_type": "stream",
     "text": [
      "Inside myFunc. Time = 20:57:24\n",
      "Functions already processed\n",
      "Dask Graph Tasks\n",
      "Task Name: add-34435cc4a153f02b208c5e30ee811e3d\n",
      "Dask Graph\n",
      "HighLevelGraph with 2 layers.\n",
      "<dask.highlevelgraph.HighLevelGraph object at 0x7fc0b64ab3a0>\n",
      " 0. ones_like-c53a97836143a00162e3470fef213e1e\n",
      " 1. add-34435cc4a153f02b208c5e30ee811e3d\n",
      "\n",
      "total_graph_description:\n",
      "[{'function:': 'ones_like', 'layer_args': (100, 100), 'layer_length': 100},\n",
      " {'function:': 'add', 'layer_args': 20231, 'layer_length': 100}]\n",
      "hash: \u001b[93m ec2f2283b6f02591655b83abe2be321d08b8b54983b0d9083da5eda81e837d490c838fdb882d8891161f832d30ff1cd8 \u001b[0m\n",
      "\n",
      "Graph found in existing_hashes... replacing graph\n",
      "New Dask Graph\n",
      "HighLevelGraph with 3 layers.\n",
      "<dask.highlevelgraph.HighLevelGraph object at 0x7fc0a6773400>\n",
      " 0. array-71a7394e5f14de7dc72bb0b1b251ce84\n",
      " 1. array-e3622cdb87acdb3eed57eec6c2ef9fb7\n",
      " 2. lambda-83b0b2050c699e9e26592de20f8e625b\n",
      "\n",
      "----------------------\n"
     ]
    },
    {
     "name": "stderr",
     "output_type": "stream",
     "text": [
      "2024-07-02 20:57:25,128 - distributed.scheduler - WARNING - Removing worker 'tcp://127.0.0.1:25830' caused the cluster to lose already computed task(s), which will be recomputed elsewhere: {'finalize-236d3b698353fe74f1e05c293988becb'} (stimulus_id='handle-worker-cleanup-1719950245.1277432')\n"
     ]
    },
    {
     "name": "stdout",
     "output_type": "stream",
     "text": [
      "------------\n",
      "[104 135 170]\n"
     ]
    }
   ],
   "source": [
    "client = Client()\n",
    "\n",
    "original_collections_to_dsk = client.collections_to_dsk\n",
    "\n",
    "client.collections_to_dsk = modified_collections_to_dsk\n",
    "\n",
    "dask_array = da.ones((1000, 1000), chunks=(100, 100)) + 20231\n",
    "\n",
    "# Use client.compute to compute the result\n",
    "future = client.compute(dask_array)\n",
    "result = future.result()\n",
    "\n",
    "client.shutdown()\n",
    "\n",
    "print(\"------------\")\n",
    "print(result)"
   ]
  },
  {
   "cell_type": "markdown",
   "metadata": {},
   "source": [
    "### Example 4.4: Increase graph complexity for hash"
   ]
  },
  {
   "cell_type": "markdown",
   "metadata": {},
   "source": [
    "This highlights one of the difficaulting of getting a functions arguments. \n",
    "Sometimes the task_args is a list of tuples."
   ]
  },
  {
   "cell_type": "code",
   "execution_count": 1,
   "metadata": {},
   "outputs": [],
   "source": [
    "import dask.array as da\n",
    "import hashlib\n",
    "from pprint import pprint"
   ]
  },
  {
   "cell_type": "code",
   "execution_count": 2,
   "metadata": {},
   "outputs": [],
   "source": [
    "def get_graph_layers(graph):\n",
    "    print(\"graph\")\n",
    "    pprint(graph)\n",
    "    print(\"-----------------------------------\")\n",
    "    for i, (layer_name, layer) in enumerate(graph.layers.items()):\n",
    "        short_layer_name = layer_name[: layer_name.rfind(\"-\")]\n",
    "        task_key, task = next(iter(layer.items()))\n",
    "        function = task[0]\n",
    "        task_args = task[1:]\n",
    "        print(f\"layer {i}\")\n",
    "        print(f\"function: {short_layer_name}\")\n",
    "        print(f\"task_args: {task_args}\")\n",
    "        print(\"-----------------------------------\")"
   ]
  },
  {
   "cell_type": "code",
   "execution_count": 3,
   "metadata": {},
   "outputs": [],
   "source": [
    "dask_array = da.ones((100, 100), chunks=(100, 100)) + 20231\n",
    "complex_dask_array = dask_array.mean()\n",
    "simple_graph = dask_array.dask\n",
    "complex_graph = complex_dask_array.dask"
   ]
  },
  {
   "cell_type": "code",
   "execution_count": 4,
   "metadata": {},
   "outputs": [
    {
     "name": "stdout",
     "output_type": "stream",
     "text": [
      "graph\n",
      "HighLevelGraph with 2 layers.\n",
      "<dask.highlevelgraph.HighLevelGraph object at 0x7f7d27dbbaf0>\n",
      " 0. ones_like-28c9cae68f942f8b695446a89cd7648f\n",
      " 1. add-aaf5cfbf1c212eb783889117ff533b5a\n",
      "\n",
      "-----------------------------------\n",
      "layer 0\n",
      "function: ones_like\n",
      "task_args: ((100, 100),)\n",
      "-----------------------------------\n",
      "layer 1\n",
      "function: add\n",
      "task_args: (('ones_like-28c9cae68f942f8b695446a89cd7648f', 0, 0), 20231)\n",
      "-----------------------------------\n"
     ]
    }
   ],
   "source": [
    "get_graph_layers(simple_graph)"
   ]
  },
  {
   "cell_type": "code",
   "execution_count": 5,
   "metadata": {},
   "outputs": [
    {
     "name": "stdout",
     "output_type": "stream",
     "text": [
      "graph\n",
      "HighLevelGraph with 4 layers.\n",
      "<dask.highlevelgraph.HighLevelGraph object at 0x7f7d27dbb9a0>\n",
      " 0. ones_like-28c9cae68f942f8b695446a89cd7648f\n",
      " 1. add-aaf5cfbf1c212eb783889117ff533b5a\n",
      " 2. mean_chunk-3aa3271bdf64f79fa8abf07b12eb1305\n",
      " 3. mean_agg-aggregate-ac691a2688d4b54a1bce95970905fce1\n",
      "\n",
      "-----------------------------------\n",
      "layer 0\n",
      "function: ones_like\n",
      "task_args: ((100, 100),)\n",
      "-----------------------------------\n",
      "layer 1\n",
      "function: add\n",
      "task_args: (('ones_like-28c9cae68f942f8b695446a89cd7648f', 0, 0), 20231)\n",
      "-----------------------------------\n",
      "layer 2\n",
      "function: mean_chunk\n",
      "task_args: (('add-aaf5cfbf1c212eb783889117ff533b5a', 0, 0),)\n",
      "-----------------------------------\n",
      "layer 3\n",
      "function: mean_agg-aggregate\n",
      "task_args: ([[('mean_chunk-3aa3271bdf64f79fa8abf07b12eb1305', 0, 0)]],)\n",
      "-----------------------------------\n"
     ]
    }
   ],
   "source": [
    "get_graph_layers(complex_graph)"
   ]
  },
  {
   "cell_type": "code",
   "execution_count": 6,
   "metadata": {},
   "outputs": [],
   "source": [
    "dask_array = da.ones((1000, 1000), chunks=(100, 100)) + 20231\n",
    "complex_dask_array = dask_array.mean()\n",
    "simple_graph = dask_array.dask\n",
    "complex_graph = complex_dask_array.dask"
   ]
  },
  {
   "cell_type": "code",
   "execution_count": 7,
   "metadata": {},
   "outputs": [
    {
     "name": "stdout",
     "output_type": "stream",
     "text": [
      "graph\n",
      "HighLevelGraph with 2 layers.\n",
      "<dask.highlevelgraph.HighLevelGraph object at 0x7f7d8c391bd0>\n",
      " 0. ones_like-c53a97836143a00162e3470fef213e1e\n",
      " 1. add-34435cc4a153f02b208c5e30ee811e3d\n",
      "\n",
      "-----------------------------------\n",
      "layer 0\n",
      "function: ones_like\n",
      "task_args: ((100, 100),)\n",
      "-----------------------------------\n",
      "layer 1\n",
      "function: add\n",
      "task_args: (('ones_like-c53a97836143a00162e3470fef213e1e', 0, 0), 20231)\n",
      "-----------------------------------\n"
     ]
    }
   ],
   "source": [
    "get_graph_layers(simple_graph)"
   ]
  },
  {
   "cell_type": "code",
   "execution_count": 8,
   "metadata": {},
   "outputs": [
    {
     "name": "stdout",
     "output_type": "stream",
     "text": [
      "graph\n",
      "HighLevelGraph with 7 layers.\n",
      "<dask.highlevelgraph.HighLevelGraph object at 0x7f7d27b140a0>\n",
      " 0. ones_like-c53a97836143a00162e3470fef213e1e\n",
      " 1. add-34435cc4a153f02b208c5e30ee811e3d\n",
      " 2. mean_chunk-fe9277ba8994ee27c6bb4e799a51706f\n",
      " 3. mean_combine-partial-89593f47b9e82ecdc97833a1289ab5a9\n",
      " 4. mean_combine-partial-0425fc2319495f2d7819484790b30613\n",
      " 5. mean_combine-partial-9e2d74724eb72b408a695fce97bf9ad3\n",
      " 6. mean_agg-aggregate-42197768bf4bef77e6dbd8fdd78c5b69\n",
      "\n",
      "-----------------------------------\n",
      "layer 0\n",
      "function: ones_like\n",
      "task_args: ((100, 100),)\n",
      "-----------------------------------\n",
      "layer 1\n",
      "function: add\n",
      "task_args: (('ones_like-c53a97836143a00162e3470fef213e1e', 0, 0), 20231)\n",
      "-----------------------------------\n",
      "layer 2\n",
      "function: mean_chunk\n",
      "task_args: (('add-34435cc4a153f02b208c5e30ee811e3d', 0, 0),)\n",
      "-----------------------------------\n",
      "layer 3\n",
      "function: mean_combine-partial\n",
      "task_args: ([[('mean_chunk-fe9277ba8994ee27c6bb4e799a51706f', 0, 0), ('mean_chunk-fe9277ba8994ee27c6bb4e799a51706f', 0, 1)], [('mean_chunk-fe9277ba8994ee27c6bb4e799a51706f', 1, 0), ('mean_chunk-fe9277ba8994ee27c6bb4e799a51706f', 1, 1)]],)\n",
      "-----------------------------------\n",
      "layer 4\n",
      "function: mean_combine-partial\n",
      "task_args: ([[('mean_combine-partial-89593f47b9e82ecdc97833a1289ab5a9', 0, 0), ('mean_combine-partial-89593f47b9e82ecdc97833a1289ab5a9', 0, 1)], [('mean_combine-partial-89593f47b9e82ecdc97833a1289ab5a9', 1, 0), ('mean_combine-partial-89593f47b9e82ecdc97833a1289ab5a9', 1, 1)]],)\n",
      "-----------------------------------\n",
      "layer 5\n",
      "function: mean_combine-partial\n",
      "task_args: ([[('mean_combine-partial-0425fc2319495f2d7819484790b30613', 0, 0), ('mean_combine-partial-0425fc2319495f2d7819484790b30613', 0, 1)], [('mean_combine-partial-0425fc2319495f2d7819484790b30613', 1, 0), ('mean_combine-partial-0425fc2319495f2d7819484790b30613', 1, 1)]],)\n",
      "-----------------------------------\n",
      "layer 6\n",
      "function: mean_agg-aggregate\n",
      "task_args: ([[('mean_combine-partial-9e2d74724eb72b408a695fce97bf9ad3', 0, 0), ('mean_combine-partial-9e2d74724eb72b408a695fce97bf9ad3', 0, 1)], [('mean_combine-partial-9e2d74724eb72b408a695fce97bf9ad3', 1, 0), ('mean_combine-partial-9e2d74724eb72b408a695fce97bf9ad3', 1, 1)]],)\n",
      "-----------------------------------\n"
     ]
    }
   ],
   "source": [
    "get_graph_layers(complex_graph)"
   ]
  },
  {
   "cell_type": "markdown",
   "metadata": {},
   "source": [
    "## Example 5: Intercepting Futures"
   ]
  },
  {
   "cell_type": "markdown",
   "metadata": {},
   "source": [
    "### Example 5.1: Write result to file before it's returned"
   ]
  },
  {
   "cell_type": "code",
   "execution_count": 9,
   "metadata": {},
   "outputs": [],
   "source": [
    "import dask.array as da\n",
    "from datetime import datetime\n",
    "from dask.distributed import Client\n",
    "import numpy as np"
   ]
  },
  {
   "cell_type": "code",
   "execution_count": 21,
   "metadata": {},
   "outputs": [],
   "source": [
    "def modified_compute(*args, **kwargs):\n",
    "    print(\"Inside modified_compute. Time = \" + datetime.now().strftime(\"%H:%M:%S\"))\n",
    "    print(\"Intercepting Compute\")\n",
    "    future = original_compute(*args, **kwargs)\n",
    "    # wait for the future to complete\n",
    "    result = future.result()\n",
    "    print(\"Compute Completed\")\n",
    "    global hash\n",
    "    output_save_loc = \"/shared/scratch/ak18773/dask-dirac/\" + hash + \".npy\"\n",
    "    np.save(output_save_loc, result, allow_pickle=True)\n",
    "    print(f\"Output Written to: {output_save_loc}\")\n",
    "    print(\"-------------------------------\")\n",
    "    return result"
   ]
  },
  {
   "cell_type": "code",
   "execution_count": 22,
   "metadata": {},
   "outputs": [
    {
     "name": "stderr",
     "output_type": "stream",
     "text": [
      "/software/swift-hep/envs/dask_dirac/lib/python3.10/site-packages/distributed/node.py:182: UserWarning: Port 8787 is already in use.\n",
      "Perhaps you already have a cluster running?\n",
      "Hosting the HTTP server on port 15087 instead\n",
      "  warnings.warn(\n"
     ]
    },
    {
     "name": "stdout",
     "output_type": "stream",
     "text": [
      "Inside modified_compute. Time = 17:13:16\n",
      "Intercepting Compute\n",
      "Compute Completed\n",
      "Output Written to: /shared/scratch/ak18773/dask-dirac/example_5_1.npy\n",
      "-------------------------------\n",
      "[[20232. 20232. 20232. ... 20232. 20232. 20232.]\n",
      " [20232. 20232. 20232. ... 20232. 20232. 20232.]\n",
      " [20232. 20232. 20232. ... 20232. 20232. 20232.]\n",
      " ...\n",
      " [20232. 20232. 20232. ... 20232. 20232. 20232.]\n",
      " [20232. 20232. 20232. ... 20232. 20232. 20232.]\n",
      " [20232. 20232. 20232. ... 20232. 20232. 20232.]]\n"
     ]
    }
   ],
   "source": [
    "client = Client()\n",
    "\n",
    "hash = \"example_5_1\"\n",
    "dask_array = da.ones((1000, 1000), chunks=(100, 100)) + 20231\n",
    "original_compute = client.compute\n",
    "client.compute = modified_compute\n",
    "\n",
    "# Returning the result rather than a future now\n",
    "result = client.compute(dask_array)\n",
    "client.shutdown()\n",
    "\n",
    "print(result)"
   ]
  },
  {
   "cell_type": "markdown",
   "metadata": {},
   "source": [
    "## Example 6: Caching"
   ]
  },
  {
   "cell_type": "markdown",
   "metadata": {},
   "source": [
    "### Example 6.1: Determine hash in collections_to_dsk and save result in compute"
   ]
  },
  {
   "cell_type": "code",
   "execution_count": 1,
   "metadata": {},
   "outputs": [],
   "source": [
    "import dask.array as da\n",
    "import hashlib\n",
    "from datetime import datetime\n",
    "from dask.distributed import Client\n",
    "from pprint import pprint\n",
    "import numpy as np"
   ]
  },
  {
   "cell_type": "code",
   "execution_count": 2,
   "metadata": {},
   "outputs": [],
   "source": [
    "def modified_collections_to_dsk(collections, *args, **kwargs):\n",
    "    c = datetime.now()\n",
    "    print(\"Inside myFunc. Time = \" + c.strftime(\"%H:%M:%S\"))\n",
    "\n",
    "    print(\"Functions already processed\")\n",
    "\n",
    "    global existing_hashes\n",
    "\n",
    "    print(\"Dask Graph Tasks\")\n",
    "    for collection in collections:\n",
    "        graph = collection.dask\n",
    "\n",
    "        print(f\"Task Name: {collection.name}\")\n",
    "        print(\"Dask Graph\")\n",
    "        print(graph)\n",
    "        total_graph_description = []\n",
    "        for i, (layer_name, layer) in enumerate(graph.layers.items()):\n",
    "            short_layer_name = layer_name[: layer_name.rfind(\"-\")]\n",
    "            task_key, task = next(iter(layer.items()))\n",
    "            function = task[0]\n",
    "            task_args = task[1:]\n",
    "            if i == 0:\n",
    "                layer_args = task_args[0]\n",
    "            else:\n",
    "                layer_args = task_args[1]\n",
    "\n",
    "            layer_description = {\n",
    "                \"function:\": short_layer_name,\n",
    "                \"layer_length\": len(layer.items()),\n",
    "                \"layer_args\": layer_args,\n",
    "            }\n",
    "            total_graph_description.append(layer_description)\n",
    "        print(\"total_graph_description:\")\n",
    "        pprint(total_graph_description)\n",
    "        graph_hash = hashlib.sha3_384(str(total_graph_description).encode()).hexdigest()\n",
    "        print(f\"hash: \\033[93m {graph_hash} \\033[0m\")\n",
    "        if graph_hash in existing_hashes:\n",
    "            print(\"\\nGraph found in existing_hashes... replacing graph\")\n",
    "            output_save_loc = (\n",
    "                \"/shared/scratch/ak18773/dask-dirac/\" + graph_hash + \".npy\"\n",
    "            )\n",
    "            dask_array = da.blockwise(\n",
    "                np.load,\n",
    "                \"\",\n",
    "                output_save_loc,\n",
    "                None,\n",
    "                dtype=np.int64,\n",
    "            )\n",
    "            collection.dask = dask_array.dask\n",
    "            collection.__dask_keys__ = dask_array.__dask_keys__\n",
    "            print(\"New Dask Graph\")\n",
    "            print(collection.dask)\n",
    "        existing_hashes.append(graph_hash)\n",
    "    print(\"----------------------\")\n",
    "\n",
    "    return original_collections_to_dsk(collections, *args, **kwargs)"
   ]
  },
  {
   "cell_type": "code",
   "execution_count": 3,
   "metadata": {},
   "outputs": [],
   "source": [
    "def modified_compute(*args, **kwargs):\n",
    "    print(\"Inside modified_compute. Time = \" + datetime.now().strftime(\"%H:%M:%S\"))\n",
    "    print(\"Intercepting Compute\")\n",
    "    future = original_compute(*args, **kwargs)\n",
    "    # wait for the future to complete\n",
    "    result = future.result()\n",
    "    print(\"Compute Completed\")\n",
    "    global existing_hashes\n",
    "    hash = existing_hashes[-1]\n",
    "    output_save_loc = \"/shared/scratch/ak18773/dask-dirac/\" + hash + \".npy\"\n",
    "    if os.path.isfile(output_save_loc):\n",
    "        print(f\"File already exists at: {output_save_loc}\")\n",
    "        print(\"Skipping write\")\n",
    "    else:\n",
    "        np.save(output_save_loc, result, allow_pickle=True)\n",
    "        print(f\"Output Written to: {output_save_loc}\")\n",
    "    print(\"-------------------------------\")\n",
    "    return result"
   ]
  },
  {
   "cell_type": "code",
   "execution_count": 4,
   "metadata": {},
   "outputs": [
    {
     "name": "stdout",
     "output_type": "stream",
     "text": [
      "Inside modified_compute. Time = 17:24:15\n",
      "Intercepting Compute\n",
      "Inside myFunc. Time = 17:24:15\n",
      "Functions already processed\n",
      "Dask Graph Tasks\n",
      "Task Name: add-34435cc4a153f02b208c5e30ee811e3d\n",
      "Dask Graph\n",
      "HighLevelGraph with 2 layers.\n",
      "<dask.highlevelgraph.HighLevelGraph object at 0x7f05a439b790>\n",
      " 0. ones_like-c53a97836143a00162e3470fef213e1e\n",
      " 1. add-34435cc4a153f02b208c5e30ee811e3d\n",
      "\n",
      "total_graph_description:\n",
      "[{'function:': 'ones_like', 'layer_args': (100, 100), 'layer_length': 100},\n",
      " {'function:': 'add', 'layer_args': 20231, 'layer_length': 100}]\n",
      "hash: \u001b[93m ec2f2283b6f02591655b83abe2be321d08b8b54983b0d9083da5eda81e837d490c838fdb882d8891161f832d30ff1cd8 \u001b[0m\n",
      "----------------------\n",
      "Compute Completed\n",
      "Output Written to: /shared/scratch/ak18773/dask-dirac/ec2f2283b6f02591655b83abe2be321d08b8b54983b0d9083da5eda81e837d490c838fdb882d8891161f832d30ff1cd8.npy\n",
      "-------------------------------\n",
      "------------\n",
      "[[20232. 20232. 20232. ... 20232. 20232. 20232.]\n",
      " [20232. 20232. 20232. ... 20232. 20232. 20232.]\n",
      " [20232. 20232. 20232. ... 20232. 20232. 20232.]\n",
      " ...\n",
      " [20232. 20232. 20232. ... 20232. 20232. 20232.]\n",
      " [20232. 20232. 20232. ... 20232. 20232. 20232.]\n",
      " [20232. 20232. 20232. ... 20232. 20232. 20232.]]\n"
     ]
    }
   ],
   "source": [
    "existing_hashes = []\n",
    "\n",
    "dask_array = da.ones((1000, 1000), chunks=(100, 100)) + 20231\n",
    "\n",
    "client = Client()\n",
    "\n",
    "# Replace functions\n",
    "original_collections_to_dsk = client.collections_to_dsk\n",
    "client.collections_to_dsk = modified_collections_to_dsk\n",
    "original_compute = client.compute\n",
    "client.compute = modified_compute\n",
    "\n",
    "\n",
    "result = client.compute(dask_array)\n",
    "\n",
    "client.shutdown()\n",
    "\n",
    "print(\"------------\")\n",
    "print(result)"
   ]
  },
  {
   "cell_type": "markdown",
   "metadata": {},
   "source": [
    "### Example 6.2: Same as 6.1 but check if file exists to avoid overwriting file"
   ]
  },
  {
   "cell_type": "code",
   "execution_count": 1,
   "metadata": {},
   "outputs": [],
   "source": [
    "import dask.array as da\n",
    "import hashlib\n",
    "from datetime import datetime\n",
    "from dask.distributed import Client\n",
    "from pprint import pprint\n",
    "import numpy as np\n",
    "import os"
   ]
  },
  {
   "cell_type": "code",
   "execution_count": 2,
   "metadata": {},
   "outputs": [],
   "source": [
    "def modified_collections_to_dsk(collections, *args, **kwargs):\n",
    "    c = datetime.now()\n",
    "    print(\"Inside myFunc. Time = \" + c.strftime(\"%H:%M:%S\"))\n",
    "\n",
    "    print(\"Functions already processed\")\n",
    "\n",
    "    global existing_hashes\n",
    "\n",
    "    print(\"Dask Graph Tasks\")\n",
    "    for collection in collections:\n",
    "        graph = collection.dask\n",
    "\n",
    "        print(f\"Task Name: {collection.name}\")\n",
    "        print(\"Dask Graph\")\n",
    "        print(graph)\n",
    "        total_graph_description = []\n",
    "        for i, (layer_name, layer) in enumerate(graph.layers.items()):\n",
    "            short_layer_name = layer_name[: layer_name.rfind(\"-\")]\n",
    "            task_key, task = next(iter(layer.items()))\n",
    "            function = task[0]\n",
    "            task_args = task[1:]\n",
    "            if i == 0:\n",
    "                layer_args = task_args[0]\n",
    "            else:\n",
    "                layer_args = task_args[1]\n",
    "\n",
    "            layer_description = {\n",
    "                \"function:\": short_layer_name,\n",
    "                \"layer_length\": len(layer.items()),\n",
    "                \"layer_args\": layer_args,\n",
    "            }\n",
    "            total_graph_description.append(layer_description)\n",
    "        print(\"total_graph_description:\")\n",
    "        pprint(total_graph_description)\n",
    "        graph_hash = hashlib.sha3_384(str(total_graph_description).encode()).hexdigest()\n",
    "        print(f\"hash: \\033[93m {graph_hash} \\033[0m\")\n",
    "        if graph_hash in existing_hashes:\n",
    "            print(\"\\nGraph found in existing_hashes... replacing graph\")\n",
    "            output_save_loc = (\n",
    "                \"/shared/scratch/ak18773/dask-dirac/\" + graph_hash + \".npy\"\n",
    "            )\n",
    "            dask_array = da.blockwise(\n",
    "                np.load,\n",
    "                \"\",\n",
    "                output_save_loc,\n",
    "                None,\n",
    "                dtype=np.int64,\n",
    "            )\n",
    "            collection.dask = dask_array.dask\n",
    "            collection.__dask_keys__ = dask_array.__dask_keys__\n",
    "            print(\"New Dask Graph\")\n",
    "            print(collection.dask)\n",
    "        existing_hashes.append(graph_hash)\n",
    "    print(\"----------------------\")\n",
    "\n",
    "    return original_collections_to_dsk(collections, *args, **kwargs)"
   ]
  },
  {
   "cell_type": "code",
   "execution_count": 3,
   "metadata": {},
   "outputs": [],
   "source": [
    "def modified_compute(*args, **kwargs):\n",
    "    print(\"Inside modified_compute. Time = \" + datetime.now().strftime(\"%H:%M:%S\"))\n",
    "    print(\"Intercepting Compute\")\n",
    "    future = original_compute(*args, **kwargs)\n",
    "    # wait for the future to complete\n",
    "    result = future.result()\n",
    "    print(\"Compute Completed\")\n",
    "    global existing_hashes\n",
    "    hash = existing_hashes[-1]\n",
    "    output_save_loc = \"/shared/scratch/ak18773/dask-dirac/\" + hash + \".npy\"\n",
    "    if os.path.isfile(output_save_loc):\n",
    "        print(f\"File already exists at: {output_save_loc}\")\n",
    "        print(\"Skipping write\")\n",
    "    else:\n",
    "        np.save(output_save_loc, result, allow_pickle=True)\n",
    "        print(f\"Output Written to: {output_save_loc}\")\n",
    "    print(\"-------------------------------\")\n",
    "    return result"
   ]
  },
  {
   "cell_type": "code",
   "execution_count": 4,
   "metadata": {},
   "outputs": [
    {
     "name": "stdout",
     "output_type": "stream",
     "text": [
      "Inside modified_compute. Time = 17:38:08\n",
      "Intercepting Compute\n",
      "Inside myFunc. Time = 17:38:08\n",
      "Functions already processed\n",
      "Dask Graph Tasks\n",
      "Task Name: add-34435cc4a153f02b208c5e30ee811e3d\n",
      "Dask Graph\n",
      "HighLevelGraph with 2 layers.\n",
      "<dask.highlevelgraph.HighLevelGraph object at 0x7f3af6351ea0>\n",
      " 0. ones_like-c53a97836143a00162e3470fef213e1e\n",
      " 1. add-34435cc4a153f02b208c5e30ee811e3d\n",
      "\n",
      "total_graph_description:\n",
      "[{'function:': 'ones_like', 'layer_args': (100, 100), 'layer_length': 100},\n",
      " {'function:': 'add', 'layer_args': 20231, 'layer_length': 100}]\n",
      "hash: \u001b[93m ec2f2283b6f02591655b83abe2be321d08b8b54983b0d9083da5eda81e837d490c838fdb882d8891161f832d30ff1cd8 \u001b[0m\n",
      "----------------------\n",
      "Compute Completed\n",
      "File already exists at: /shared/scratch/ak18773/dask-dirac/ec2f2283b6f02591655b83abe2be321d08b8b54983b0d9083da5eda81e837d490c838fdb882d8891161f832d30ff1cd8.npy\n",
      "Skipping write\n",
      "-------------------------------\n",
      "------------\n",
      "[[20232. 20232. 20232. ... 20232. 20232. 20232.]\n",
      " [20232. 20232. 20232. ... 20232. 20232. 20232.]\n",
      " [20232. 20232. 20232. ... 20232. 20232. 20232.]\n",
      " ...\n",
      " [20232. 20232. 20232. ... 20232. 20232. 20232.]\n",
      " [20232. 20232. 20232. ... 20232. 20232. 20232.]\n",
      " [20232. 20232. 20232. ... 20232. 20232. 20232.]]\n"
     ]
    }
   ],
   "source": [
    "existing_hashes = []\n",
    "\n",
    "dask_array = da.ones((1000, 1000), chunks=(100, 100)) + 20231\n",
    "\n",
    "client = Client()\n",
    "\n",
    "# Replace functions\n",
    "original_collections_to_dsk = client.collections_to_dsk\n",
    "client.collections_to_dsk = modified_collections_to_dsk\n",
    "original_compute = client.compute\n",
    "client.compute = modified_compute\n",
    "\n",
    "\n",
    "result = client.compute(dask_array)\n",
    "\n",
    "client.shutdown()\n",
    "\n",
    "print(\"------------\")\n",
    "print(result)"
   ]
  },
  {
   "cell_type": "markdown",
   "metadata": {},
   "source": [
    "### Example 6.3: Complete example"
   ]
  },
  {
   "cell_type": "code",
   "execution_count": 1,
   "metadata": {},
   "outputs": [],
   "source": [
    "import dask.array as da\n",
    "import hashlib\n",
    "from datetime import datetime\n",
    "from dask.distributed import Client\n",
    "from pprint import pprint\n",
    "import numpy as np\n",
    "import os\n",
    "import glob"
   ]
  },
  {
   "cell_type": "code",
   "execution_count": 2,
   "metadata": {},
   "outputs": [],
   "source": [
    "def modified_collections_to_dsk(collections, *args, **kwargs):\n",
    "    c = datetime.now()\n",
    "    print(\"Inside myFunc. Time = \" + c.strftime(\"%H:%M:%S\"))\n",
    "\n",
    "    print(\"Functions already processed\")\n",
    "\n",
    "    global existing_hashes\n",
    "    global this_graph_hash\n",
    "\n",
    "    print(\"Dask Graph Tasks\")\n",
    "    for collection in collections:\n",
    "        graph = collection.dask\n",
    "\n",
    "        print(f\"Task Name: {collection.name}\")\n",
    "        print(\"Dask Graph\")\n",
    "        print(graph)\n",
    "        total_graph_description = []\n",
    "        for i, (layer_name, layer) in enumerate(graph.layers.items()):\n",
    "            short_layer_name = layer_name[: layer_name.rfind(\"-\")]\n",
    "            task_key, task = next(iter(layer.items()))\n",
    "            function = task[0]\n",
    "            task_args = task[1:]\n",
    "            if i == 0:\n",
    "                layer_args = task_args[0]\n",
    "            else:\n",
    "                layer_args = task_args[1]\n",
    "\n",
    "            layer_description = {\n",
    "                \"function:\": short_layer_name,\n",
    "                \"layer_length\": len(layer.items()),\n",
    "                \"layer_args\": layer_args,\n",
    "            }\n",
    "            total_graph_description.append(layer_description)\n",
    "        print(\"total_graph_description:\")\n",
    "        pprint(total_graph_description)\n",
    "        graph_hash = hashlib.sha3_384(str(total_graph_description).encode()).hexdigest()\n",
    "        print(f\"hash: \\033[93m {graph_hash} \\033[0m\")\n",
    "        if graph_hash in existing_hashes:\n",
    "            print(\"\\nGraph found in existing_hashes... replacing graph\")\n",
    "            output_save_loc = (\n",
    "                \"/shared/scratch/ak18773/dask-dirac/\" + graph_hash + \".npy\"\n",
    "            )\n",
    "            dask_array = da.blockwise(\n",
    "                np.load,\n",
    "                \"\",\n",
    "                output_save_loc,\n",
    "                None,\n",
    "                dtype=np.int64,\n",
    "            )\n",
    "            collection.dask = dask_array.dask\n",
    "            collection.__dask_keys__ = dask_array.__dask_keys__\n",
    "            print(\"New Dask Graph\")\n",
    "            print(collection.dask)\n",
    "        existing_hashes.append(graph_hash)\n",
    "        this_graph_hash = graph_hash\n",
    "    print(\"----------------------\")\n",
    "\n",
    "    return original_collections_to_dsk(collections, *args, **kwargs)"
   ]
  },
  {
   "cell_type": "code",
   "execution_count": 3,
   "metadata": {},
   "outputs": [],
   "source": [
    "def modified_compute(*args, **kwargs):\n",
    "    print(\"Inside modified_compute. Time = \" + datetime.now().strftime(\"%H:%M:%S\"))\n",
    "    print(\"Intercepting Compute\")\n",
    "    future = original_compute(*args, **kwargs)\n",
    "    # wait for the future to complete\n",
    "    result = future.result()\n",
    "    print(\"Compute Completed\")\n",
    "    global this_graph_hash\n",
    "    hash = this_graph_hash\n",
    "    output_save_loc = \"/shared/scratch/ak18773/dask-dirac/\" + hash + \".npy\"\n",
    "    if os.path.isfile(output_save_loc):\n",
    "        print(f\"File already exists at: {output_save_loc}\")\n",
    "        print(\"Skipping write\")\n",
    "    else:\n",
    "        np.save(output_save_loc, result, allow_pickle=True)\n",
    "        print(f\"Output Written to: {output_save_loc}\")\n",
    "    print(\"-------------------------------\")\n",
    "    return result"
   ]
  },
  {
   "cell_type": "code",
   "execution_count": 4,
   "metadata": {},
   "outputs": [
    {
     "data": {
      "text/plain": [
       "['example_5_1',\n",
       " 'ec2f2283b6f02591655b83abe2be321d08b8b54983b0d9083da5eda81e837d490c838fdb882d8891161f832d30ff1cd8']"
      ]
     },
     "execution_count": 4,
     "metadata": {},
     "output_type": "execute_result"
    }
   ],
   "source": [
    "existing_hashes = glob.glob(\"/shared/scratch/ak18773/dask-dirac/*.npy\")\n",
    "existing_hashes = [h[h.rfind(\"/\") + 1 : -4] for h in existing_hashes]\n",
    "existing_hashes"
   ]
  },
  {
   "cell_type": "code",
   "execution_count": 5,
   "metadata": {},
   "outputs": [
    {
     "name": "stdout",
     "output_type": "stream",
     "text": [
      "Inside modified_compute. Time = 17:48:01\n",
      "Intercepting Compute\n",
      "Inside myFunc. Time = 17:48:01\n",
      "Functions already processed\n",
      "Dask Graph Tasks\n",
      "Task Name: add-34435cc4a153f02b208c5e30ee811e3d\n",
      "Dask Graph\n",
      "HighLevelGraph with 2 layers.\n",
      "<dask.highlevelgraph.HighLevelGraph object at 0x7efe2d668be0>\n",
      " 0. ones_like-c53a97836143a00162e3470fef213e1e\n",
      " 1. add-34435cc4a153f02b208c5e30ee811e3d\n",
      "\n",
      "total_graph_description:\n",
      "[{'function:': 'ones_like', 'layer_args': (100, 100), 'layer_length': 100},\n",
      " {'function:': 'add', 'layer_args': 20231, 'layer_length': 100}]\n",
      "hash: \u001b[93m ec2f2283b6f02591655b83abe2be321d08b8b54983b0d9083da5eda81e837d490c838fdb882d8891161f832d30ff1cd8 \u001b[0m\n",
      "\n",
      "Graph found in existing_hashes... replacing graph\n",
      "New Dask Graph\n",
      "HighLevelGraph with 1 layers.\n",
      "<dask.highlevelgraph.HighLevelGraph object at 0x7efe2d669d80>\n",
      " 0. load-4741a7a860db3b3e4c5fefd6147a9633\n",
      "\n",
      "----------------------\n",
      "Compute Completed\n",
      "File already exists at: /shared/scratch/ak18773/dask-dirac/ec2f2283b6f02591655b83abe2be321d08b8b54983b0d9083da5eda81e837d490c838fdb882d8891161f832d30ff1cd8.npy\n",
      "Skipping write\n",
      "-------------------------------\n",
      "------------\n",
      "[[20232. 20232. 20232. ... 20232. 20232. 20232.]\n",
      " [20232. 20232. 20232. ... 20232. 20232. 20232.]\n",
      " [20232. 20232. 20232. ... 20232. 20232. 20232.]\n",
      " ...\n",
      " [20232. 20232. 20232. ... 20232. 20232. 20232.]\n",
      " [20232. 20232. 20232. ... 20232. 20232. 20232.]\n",
      " [20232. 20232. 20232. ... 20232. 20232. 20232.]]\n"
     ]
    }
   ],
   "source": [
    "this_graph_hash = \"\"\n",
    "\n",
    "dask_array = da.ones((1000, 1000), chunks=(100, 100)) + 20231\n",
    "\n",
    "client = Client()\n",
    "\n",
    "# Replace functions\n",
    "original_collections_to_dsk = client.collections_to_dsk\n",
    "client.collections_to_dsk = modified_collections_to_dsk\n",
    "original_compute = client.compute\n",
    "client.compute = modified_compute\n",
    "\n",
    "\n",
    "result = client.compute(dask_array)\n",
    "\n",
    "client.shutdown()\n",
    "\n",
    "print(\"------------\")\n",
    "print(result)"
   ]
  },
  {
   "cell_type": "markdown",
   "metadata": {},
   "source": [
    "## Example 7: Using client.map, client.submit and client.compute"
   ]
  },
  {
   "cell_type": "markdown",
   "metadata": {},
   "source": [
    "### Example 7.1: Simple square function"
   ]
  },
  {
   "cell_type": "code",
   "execution_count": 2,
   "metadata": {},
   "outputs": [],
   "source": [
    "import dask.array as da\n",
    "import hashlib\n",
    "from datetime import datetime\n",
    "from dask.distributed import Client\n",
    "from dask.highlevelgraph import HighLevelGraph\n",
    "from pprint import pprint\n",
    "import numpy as np\n",
    "import os\n",
    "import glob\n",
    "import time"
   ]
  },
  {
   "cell_type": "code",
   "execution_count": 3,
   "metadata": {},
   "outputs": [],
   "source": [
    "def modified_graph_to_futures(dsk, *args, **kwargs):\n",
    "    c = datetime.now()\n",
    "    print(\"Inside modified_graph_to_futures. Time = \" + c.strftime(\"%H:%M:%S\"))\n",
    "\n",
    "    print(f\"Dask Graph: {type(dsk)}\")\n",
    "    pprint(dsk)\n",
    "\n",
    "    if not isinstance(dsk, HighLevelGraph):\n",
    "        # Create layers with function names\n",
    "        layers = {\n",
    "            f\"layer-{i}\": {k: v for k, v in dsk.items()}\n",
    "            for i, (k, v) in enumerate(dsk.items())\n",
    "        }\n",
    "        dependencies = {f\"layer-{i}\": set() for i in range(len(dsk))}\n",
    "        dsk = HighLevelGraph(layers, dependencies)\n",
    "\n",
    "        print(f\"Converted to HighLevelGraph: {type(dsk)}\")\n",
    "        print(dsk)\n",
    "        print(layers)\n",
    "        print(dependencies)\n",
    "\n",
    "    return original_graph_to_futures(dsk, *args, **kwargs)"
   ]
  },
  {
   "cell_type": "code",
   "execution_count": 4,
   "metadata": {},
   "outputs": [],
   "source": [
    "def square(x):\n",
    "    return x**2"
   ]
  },
  {
   "cell_type": "code",
   "execution_count": 5,
   "metadata": {},
   "outputs": [
    {
     "name": "stderr",
     "output_type": "stream",
     "text": [
      "/software/swift-hep/envs/dask_dirac/lib/python3.10/site-packages/distributed/node.py:182: UserWarning: Port 8787 is already in use.\n",
      "Perhaps you already have a cluster running?\n",
      "Hosting the HTTP server on port 39603 instead\n",
      "  warnings.warn(\n"
     ]
    },
    {
     "name": "stdout",
     "output_type": "stream",
     "text": [
      "\u001b[93m Using client.submit \u001b[0m\n",
      "Inside modified_graph_to_futures. Time = 15:26:53\n",
      "Dask Graph: <class 'dict'>\n",
      "{'square-8ec529b41dd93f4f41e73bcf29eb2a48': (<function square at 0x7f7fd46bc9d0>,\n",
      "                                             2)}\n",
      "Converted to HighLevelGraph: <class 'dask.highlevelgraph.HighLevelGraph'>\n",
      "HighLevelGraph with 1 layers.\n",
      "<dask.highlevelgraph.HighLevelGraph object at 0x7f7fd46cfac0>\n",
      " 0. layer-0\n",
      "\n",
      "{'layer-0': {'square-8ec529b41dd93f4f41e73bcf29eb2a48': (<function square at 0x7f7fd46bc9d0>, 2)}}\n",
      "{'layer-0': set()}\n",
      "------------\n",
      "result: 4\n",
      "\u001b[93m Using client.map \u001b[0m\n",
      "Inside modified_graph_to_futures. Time = 15:26:53\n",
      "Dask Graph: <class 'dict'>\n",
      "{'square-8ec529b41dd93f4f41e73bcf29eb2a48': (<function square at 0x7f7fd46bc9d0>,\n",
      "                                             2)}\n",
      "Converted to HighLevelGraph: <class 'dask.highlevelgraph.HighLevelGraph'>\n",
      "HighLevelGraph with 1 layers.\n",
      "<dask.highlevelgraph.HighLevelGraph object at 0x7f7ab87f5780>\n",
      " 0. layer-0\n",
      "\n",
      "{'layer-0': {'square-8ec529b41dd93f4f41e73bcf29eb2a48': (<function square at 0x7f7fd46bc9d0>, 2)}}\n",
      "{'layer-0': set()}\n",
      "------------\n",
      "result: [4]\n",
      "\u001b[93m Using client.compute \u001b[0m\n",
      "Inside modified_graph_to_futures. Time = 15:26:53\n",
      "Dask Graph: <class 'dask.highlevelgraph.HighLevelGraph'>\n",
      "HighLevelGraph with 2 layers.\n",
      "<dask.highlevelgraph.HighLevelGraph object at 0x7f7fd46cea40>\n",
      " 0. 140165327987520\n",
      " 1. 2fbe7e6f0c3d3c53dfdeb2af4c92337f\n",
      "\n",
      "------------\n",
      "result: [4]\n"
     ]
    }
   ],
   "source": [
    "client = Client()\n",
    "\n",
    "# Replace functions\n",
    "original_graph_to_futures = client._graph_to_futures\n",
    "client._graph_to_futures = modified_graph_to_futures\n",
    "\n",
    "\n",
    "print(f\"\\033[93m Using client.submit \\033[0m\")\n",
    "futures = client.submit(square, 2)\n",
    "result = client.gather(futures)\n",
    "print(\"------------\")\n",
    "print(f\"result: {result}\")\n",
    "\n",
    "print(f\"\\033[93m Using client.map \\033[0m\")\n",
    "futures2 = client.map(square, [2])\n",
    "result2 = client.gather(futures2)\n",
    "print(\"------------\")\n",
    "print(f\"result: {result2}\")\n",
    "\n",
    "print(f\"\\033[93m Using client.compute \\033[0m\")\n",
    "result3 = client.compute([square(2)])\n",
    "print(\"------------\")\n",
    "print(f\"result: {result3}\")\n",
    "\n",
    "client.close()"
   ]
  },
  {
   "cell_type": "markdown",
   "metadata": {},
   "source": [
    "## Example 8: Complex caching"
   ]
  },
  {
   "cell_type": "markdown",
   "metadata": {},
   "source": [
    "### Example 8.1: Building a High Level Graph"
   ]
  },
  {
   "cell_type": "code",
   "execution_count": 1,
   "metadata": {},
   "outputs": [],
   "source": [
    "from datetime import datetime\n",
    "from dask.distributed import Client\n",
    "from dask.highlevelgraph import HighLevelGraph\n",
    "from pprint import pprint\n",
    "import numpy as np\n",
    "from dask.array.core import Array"
   ]
  },
  {
   "cell_type": "code",
   "execution_count": 2,
   "metadata": {},
   "outputs": [],
   "source": [
    "client = Client()"
   ]
  },
  {
   "cell_type": "code",
   "execution_count": 3,
   "metadata": {},
   "outputs": [],
   "source": [
    "def func_a(x):\n",
    "    return x**2\n",
    "\n",
    "\n",
    "def func_b(x):\n",
    "    return x**3\n",
    "\n",
    "\n",
    "def func_c(x):\n",
    "    return x + 120"
   ]
  },
  {
   "cell_type": "code",
   "execution_count": 4,
   "metadata": {},
   "outputs": [],
   "source": [
    "# define highlevelgraph\n",
    "layers = {\n",
    "    \"func_a\": {(\"func_a\", 0): (func_a, 2)},\n",
    "    \"func_b\": {(\"func_b\", 0): (func_b, (\"func_a\", 0))},\n",
    "    \"func_c\": {(\"func_c\", 0): (func_c, (\"func_b\", 0))},\n",
    "}\n",
    "dependencies = {\"func_a\": set(), \"func_b\": {\"func_a\"}, \"func_c\": {\"func_b\"}}\n",
    "\n",
    "hlg = HighLevelGraph(layers, dependencies)"
   ]
  },
  {
   "cell_type": "code",
   "execution_count": 5,
   "metadata": {},
   "outputs": [],
   "source": [
    "# Create a Dask Array from the HighLevelGraph\n",
    "array = Array(hlg, \"func_c\", shape=(1,), dtype=int, chunks=(1,))"
   ]
  },
  {
   "cell_type": "code",
   "execution_count": 6,
   "metadata": {},
   "outputs": [
    {
     "data": {
      "image/png": "[encoded data removed]",
      "text/plain": [
       "<IPython.core.display.Image object>"
      ]
     },
     "execution_count": 6,
     "metadata": {},
     "output_type": "execute_result"
    }
   ],
   "source": [
    "array.visualize()"
   ]
  },
  {
   "cell_type": "code",
   "execution_count": 7,
   "metadata": {},
   "outputs": [
    {
     "name": "stdout",
     "output_type": "stream",
     "text": [
      "184\n"
     ]
    }
   ],
   "source": [
    "result = array.compute()\n",
    "print(result)"
   ]
  },
  {
   "cell_type": "code",
   "execution_count": 8,
   "metadata": {},
   "outputs": [],
   "source": [
    "client.close()"
   ]
  },
  {
   "cell_type": "markdown",
   "metadata": {},
   "source": [
    "### Example 8.2: Multi-node HighLevelGraph"
   ]
  },
  {
   "cell_type": "code",
   "execution_count": 1,
   "metadata": {},
   "outputs": [],
   "source": [
    "from datetime import datetime\n",
    "from dask.distributed import Client\n",
    "from dask.highlevelgraph import HighLevelGraph\n",
    "from pprint import pprint\n",
    "import numpy as np\n",
    "from dask.array.core import Array"
   ]
  },
  {
   "cell_type": "code",
   "execution_count": 2,
   "metadata": {},
   "outputs": [],
   "source": [
    "client = Client()"
   ]
  },
  {
   "cell_type": "code",
   "execution_count": 3,
   "metadata": {},
   "outputs": [],
   "source": [
    "def func_a(x):\n",
    "    return x**2\n",
    "\n",
    "\n",
    "def func_b(x):\n",
    "    return x**3\n",
    "\n",
    "\n",
    "def func_c(x):\n",
    "    return x + 120"
   ]
  },
  {
   "cell_type": "code",
   "execution_count": 4,
   "metadata": {},
   "outputs": [],
   "source": [
    "# define highlevelgraph\n",
    "layers = {\n",
    "    \"func_a\": {\n",
    "        (\"func_a\", 0): (func_a, 2),\n",
    "        (\"func_a\", 1): (func_a, 3),\n",
    "        (\"func_a\", 2): (func_a, 4),\n",
    "    },\n",
    "    \"func_b\": {\n",
    "        (\"func_b\", 0): (func_b, (\"func_a\", 0)),\n",
    "        (\"func_b\", 1): (func_b, (\"func_a\", 1)),\n",
    "        (\"func_b\", 2): (func_b, (\"func_a\", 2)),\n",
    "    },\n",
    "    \"func_c\": {\n",
    "        (\"func_c\", 0): (func_c, (\"func_b\", 0)),\n",
    "        (\"func_c\", 1): (func_c, (\"func_b\", 1)),\n",
    "        (\"func_c\", 2): (func_c, (\"func_b\", 2)),\n",
    "    },\n",
    "}\n",
    "dependencies = {\"func_a\": set(), \"func_b\": {\"func_a\"}, \"func_c\": {\"func_b\"}}\n",
    "\n",
    "hlg = HighLevelGraph(layers, dependencies)"
   ]
  },
  {
   "cell_type": "code",
   "execution_count": 5,
   "metadata": {},
   "outputs": [],
   "source": [
    "# Create a Dask Array from the HighLevelGraph\n",
    "array = Array(hlg, \"func_c\", shape=(3,), dtype=list, chunks=(1,))"
   ]
  },
  {
   "cell_type": "code",
   "execution_count": 6,
   "metadata": {},
   "outputs": [
    {
     "data": {
      "image/png": "[encoded data removed]",
      "text/plain": [
       "<IPython.core.display.Image object>"
      ]
     },
     "execution_count": 6,
     "metadata": {},
     "output_type": "execute_result"
    }
   ],
   "source": [
    "array.visualize()"
   ]
  },
  {
   "cell_type": "code",
   "execution_count": 7,
   "metadata": {},
   "outputs": [
    {
     "data": {
      "text/plain": [
       "array([ 184,  849, 4216])"
      ]
     },
     "execution_count": 7,
     "metadata": {},
     "output_type": "execute_result"
    }
   ],
   "source": [
    "array.compute()"
   ]
  },
  {
   "cell_type": "code",
   "execution_count": 8,
   "metadata": {},
   "outputs": [],
   "source": [
    "client.close()"
   ]
  },
  {
   "cell_type": "markdown",
   "metadata": {},
   "source": [
    "### Example 8.3: Explore layer nodes in each layer"
   ]
  },
  {
   "cell_type": "code",
   "execution_count": 156,
   "metadata": {},
   "outputs": [],
   "source": [
    "from datetime import datetime\n",
    "from dask.distributed import Client\n",
    "from dask.highlevelgraph import HighLevelGraph\n",
    "from pprint import pprint\n",
    "import numpy as np\n",
    "from dask.array.core import Array\n",
    "import hashlib"
   ]
  },
  {
   "cell_type": "code",
   "execution_count": 2,
   "metadata": {},
   "outputs": [],
   "source": [
    "def func_a(x):\n",
    "    return x**2\n",
    "\n",
    "\n",
    "def func_b(x):\n",
    "    return x**3\n",
    "\n",
    "\n",
    "def func_c(x):\n",
    "    return x + 120\n",
    "\n",
    "\n",
    "def func_d(x):\n",
    "    return x + 1"
   ]
  },
  {
   "cell_type": "code",
   "execution_count": 3,
   "metadata": {},
   "outputs": [],
   "source": [
    "# define highlevelgraph\n",
    "layers = {\n",
    "    \"func_a\": {\n",
    "        (\"func_a\", 0): (func_a, 2),\n",
    "        (\"func_a\", 1): (func_a, 3),\n",
    "        (\"func_a\", 2): (func_a, 4),\n",
    "    },\n",
    "    \"func_b\": {\n",
    "        (\"func_b\", 0): (func_b, (\"func_a\", 0)),\n",
    "        (\"func_b\", 1): (func_b, (\"func_a\", 1)),\n",
    "        (\"func_b\", 2): (func_b, (\"func_a\", 2)),\n",
    "    },\n",
    "    \"func_c\": {\n",
    "        (\"func_c\", 0): (func_c, (\"func_b\", 0)),\n",
    "        (\"func_c\", 1): (func_c, (\"func_b\", 1)),\n",
    "        (\"func_c\", 2): (func_c, (\"func_b\", 2)),\n",
    "    },\n",
    "}\n",
    "dependencies = {\"func_a\": set(), \"func_b\": {\"func_a\"}, \"func_c\": {\"func_b\"}}\n",
    "\n",
    "hlg = HighLevelGraph(layers, dependencies)"
   ]
  },
  {
   "cell_type": "code",
   "execution_count": 4,
   "metadata": {},
   "outputs": [
    {
     "data": {
      "image/svg+xml": [
       "<?xml version=\"1.0\" encoding=\"UTF-8\" standalone=\"no\"?>\n",
       "<!DOCTYPE svg PUBLIC \"-//W3C//DTD SVG 1.1//EN\"\n",
       " \"http://www.w3.org/Graphics/SVG/1.1/DTD/svg11.dtd\">\n",
       "<!-- Generated by graphviz version 6.0.2 (20221126.1951)\n",
       " -->\n",
       "<!-- Pages: 1 -->\n",
       "<svg width=\"85pt\" height=\"188pt\"\n",
       " viewBox=\"0.00 0.00 85.00 188.00\" xmlns=\"http://www.w3.org/2000/svg\" xmlns:xlink=\"http://www.w3.org/1999/xlink\">\n",
       "<g id=\"graph0\" class=\"graph\" transform=\"scale(1 1) rotate(0) translate(4 184)\">\n",
       "<polygon fill=\"white\" stroke=\"none\" points=\"-4,4 -4,-184 81,-184 81,4 -4,4\"/>\n",
       "<!-- &#45;6224181299450061664 -->\n",
       "<g id=\"node1\" class=\"node\">\n",
       "<title>&#45;6224181299450061664</title>\n",
       "<g id=\"a_node1\"><a xlink:title=\"A Materialized Layer with 3 Tasks.&#10;\">\n",
       "<polygon fill=\"none\" stroke=\"black\" points=\"77,-36 0,-36 0,0 77,0 77,-36\"/>\n",
       "<text text-anchor=\"middle\" x=\"38.5\" y=\"-13\" font-family=\"Helvetica,sans-Serif\" font-size=\"20.00\">func_a</text>\n",
       "</a>\n",
       "</g>\n",
       "</g>\n",
       "<!-- &#45;6950480609444908071 -->\n",
       "<g id=\"node2\" class=\"node\">\n",
       "<title>&#45;6950480609444908071</title>\n",
       "<g id=\"a_node2\"><a xlink:title=\"A Materialized Layer with 3 Tasks.&#10;\">\n",
       "<polygon fill=\"none\" stroke=\"black\" points=\"77,-108 0,-108 0,-72 77,-72 77,-108\"/>\n",
       "<text text-anchor=\"middle\" x=\"38.5\" y=\"-85\" font-family=\"Helvetica,sans-Serif\" font-size=\"20.00\">func_b</text>\n",
       "</a>\n",
       "</g>\n",
       "</g>\n",
       "<!-- &#45;6224181299450061664&#45;&gt;&#45;6950480609444908071 -->\n",
       "<g id=\"edge1\" class=\"edge\">\n",
       "<title>&#45;6224181299450061664&#45;&gt;&#45;6950480609444908071</title>\n",
       "<path fill=\"none\" stroke=\"black\" d=\"M38.5,-36.3C38.5,-44.02 38.5,-53.29 38.5,-61.89\"/>\n",
       "<polygon fill=\"black\" stroke=\"black\" points=\"35,-61.9 38.5,-71.9 42,-61.9 35,-61.9\"/>\n",
       "</g>\n",
       "<!-- 4221892276891365224 -->\n",
       "<g id=\"node3\" class=\"node\">\n",
       "<title>4221892276891365224</title>\n",
       "<g id=\"a_node3\"><a xlink:title=\"A Materialized Layer with 3 Tasks.&#10;\">\n",
       "<polygon fill=\"none\" stroke=\"black\" points=\"76,-180 1,-180 1,-144 76,-144 76,-180\"/>\n",
       "<text text-anchor=\"middle\" x=\"38.5\" y=\"-157\" font-family=\"Helvetica,sans-Serif\" font-size=\"20.00\">func_c</text>\n",
       "</a>\n",
       "</g>\n",
       "</g>\n",
       "<!-- &#45;6950480609444908071&#45;&gt;4221892276891365224 -->\n",
       "<g id=\"edge2\" class=\"edge\">\n",
       "<title>&#45;6950480609444908071&#45;&gt;4221892276891365224</title>\n",
       "<path fill=\"none\" stroke=\"black\" d=\"M38.5,-108.3C38.5,-116.02 38.5,-125.29 38.5,-133.89\"/>\n",
       "<polygon fill=\"black\" stroke=\"black\" points=\"35,-133.9 38.5,-143.9 42,-133.9 35,-133.9\"/>\n",
       "</g>\n",
       "</g>\n",
       "</svg>\n"
      ],
      "text/plain": [
       "<graphviz.graphs.Digraph at 0x7efe33997760>"
      ]
     },
     "execution_count": 4,
     "metadata": {},
     "output_type": "execute_result"
    }
   ],
   "source": [
    "hlg.visualize()"
   ]
  },
  {
   "cell_type": "code",
   "execution_count": 5,
   "metadata": {},
   "outputs": [
    {
     "name": "stdout",
     "output_type": "stream",
     "text": [
      "{('func_a', 0): (<function func_a at 0x7efdccb7f5b0>, 2),\n",
      " ('func_a', 1): (<function func_a at 0x7efdccb7f5b0>, 3),\n",
      " ('func_a', 2): (<function func_a at 0x7efdccb7f5b0>, 4),\n",
      " ('func_b', 0): (<function func_b at 0x7efdccb7f640>, ('func_a', 0)),\n",
      " ('func_b', 1): (<function func_b at 0x7efdccb7f640>, ('func_a', 1)),\n",
      " ('func_b', 2): (<function func_b at 0x7efdccb7f640>, ('func_a', 2)),\n",
      " ('func_c', 0): (<function func_c at 0x7efdccb7f6d0>, ('func_b', 0)),\n",
      " ('func_c', 1): (<function func_c at 0x7efdccb7f6d0>, ('func_b', 1)),\n",
      " ('func_c', 2): (<function func_c at 0x7efdccb7f6d0>, ('func_b', 2))}\n"
     ]
    }
   ],
   "source": [
    "pprint(hlg.to_dict())"
   ]
  },
  {
   "cell_type": "code",
   "execution_count": 6,
   "metadata": {},
   "outputs": [],
   "source": [
    "# Create a Dask Array from the HighLevelGraph\n",
    "array = Array(hlg, \"func_c\", shape=(3,), dtype=list, chunks=(1,))"
   ]
  },
  {
   "cell_type": "code",
   "execution_count": 63,
   "metadata": {},
   "outputs": [
    {
     "ename": "AttributeError",
     "evalue": "'Array' object has no attribute 'to_dict'",
     "output_type": "error",
     "traceback": [
      "\u001b[0;31m---------------------------------------------------------------------------\u001b[0m",
      "\u001b[0;31mAttributeError\u001b[0m                            Traceback (most recent call last)",
      "Cell \u001b[0;32mIn[63], line 1\u001b[0m\n\u001b[0;32m----> 1\u001b[0m \u001b[43marray\u001b[49m\u001b[38;5;241;43m.\u001b[39;49m\u001b[43mto_dict\u001b[49m()\n",
      "\u001b[0;31mAttributeError\u001b[0m: 'Array' object has no attribute 'to_dict'"
     ]
    }
   ],
   "source": []
  },
  {
   "cell_type": "code",
   "execution_count": 7,
   "metadata": {},
   "outputs": [
    {
     "data": {
      "image/png": "[encoded data removed]",
      "text/plain": [
       "<IPython.core.display.Image object>"
      ]
     },
     "execution_count": 7,
     "metadata": {},
     "output_type": "execute_result"
    }
   ],
   "source": [
    "array.visualize()"
   ]
  },
  {
   "cell_type": "code",
   "execution_count": 8,
   "metadata": {},
   "outputs": [
    {
     "data": {
      "text/plain": [
       "{('func_a', 0): (<function __main__.func_a(x)>, 2),\n",
       " ('func_a', 1): (<function __main__.func_a(x)>, 3),\n",
       " ('func_a', 2): (<function __main__.func_a(x)>, 4),\n",
       " ('func_b', 0): (<function __main__.func_b(x)>, ('func_a', 0)),\n",
       " ('func_b', 1): (<function __main__.func_b(x)>, ('func_a', 1)),\n",
       " ('func_b', 2): (<function __main__.func_b(x)>, ('func_a', 2)),\n",
       " ('func_c', 0): (<function __main__.func_c(x)>, ('func_b', 0)),\n",
       " ('func_c', 1): (<function __main__.func_c(x)>, ('func_b', 1)),\n",
       " ('func_c', 2): (<function __main__.func_c(x)>, ('func_b', 2))}"
      ]
     },
     "execution_count": 8,
     "metadata": {},
     "output_type": "execute_result"
    }
   ],
   "source": [
    "array.dask.to_dict()"
   ]
  },
  {
   "cell_type": "code",
   "execution_count": 160,
   "metadata": {},
   "outputs": [],
   "source": [
    "def modified_graph_to_futures(dsk, *args, **kwargs):\n",
    "    c = datetime.now()\n",
    "    print(\"Inside modified_graph_to_futures. Time = \" + c.strftime(\"%H:%M:%S\"))\n",
    "\n",
    "    print(f\"Dask Graph: {type(dsk)}\")\n",
    "    pprint(dsk)\n",
    "\n",
    "    if not isinstance(dsk, HighLevelGraph):\n",
    "        print(f\"Converted to HighLevelGraph\")\n",
    "        dsk = HighLevelGraph.from_collections(id(dsk), dsk, dependencies=dict())\n",
    "        print(dsk)\n",
    "\n",
    "    info = dsk.to_dict()\n",
    "    pprint(info)\n",
    "\n",
    "    print(\"---------\")\n",
    "    print(\"Examining dictionary entries\")\n",
    "    for key, value in info.items():\n",
    "        print(f\"Key: {key}, Value: {value}\")\n",
    "\n",
    "        # excursively examine the values until they aren't tuple\n",
    "        examine_value(value)\n",
    "\n",
    "        print(\"---------\")\n",
    "\n",
    "    return original_graph_to_futures(dsk, *args, **kwargs)\n",
    "\n",
    "\n",
    "def examine_value(value):\n",
    "    print(\"Exploring value:\", value)\n",
    "    print(\"Type:\", type(value))\n",
    "    if type(value) == tuple:\n",
    "        left = value[0]\n",
    "        right = value[1]\n",
    "        # left should be a function or a string\n",
    "        if not callable(left) and not type(right) == tuple:\n",
    "            final_left = left\n",
    "            final_right = right\n",
    "        else:\n",
    "            if callable(left):\n",
    "                # print(f'Function: {left.__name__}')\n",
    "                final_left = left.__name__\n",
    "                final_right = right\n",
    "\n",
    "            if type(right) == tuple:\n",
    "                examine_value(right)\n",
    "                final_left = left.__name__\n",
    "                final_right = right\n",
    "            else:\n",
    "                final_left = left.__name__\n",
    "                final_right = right\n",
    "\n",
    "    print(\"Layer Information\")\n",
    "    print(\"Left:\", final_left)\n",
    "    print(\"Right:\", final_right)\n",
    "    hash_name = str(final_left) + str(final_right)\n",
    "    print(\"hash: \" + hashlib.sha3_384(hash_name.encode()).hexdigest())"
   ]
  },
  {
   "cell_type": "code",
   "execution_count": 161,
   "metadata": {},
   "outputs": [
    {
     "name": "stderr",
     "output_type": "stream",
     "text": [
      "/software/swift-hep/envs/dask_dirac/lib/python3.10/site-packages/distributed/node.py:182: UserWarning: Port 8787 is already in use.\n",
      "Perhaps you already have a cluster running?\n",
      "Hosting the HTTP server on port 33013 instead\n",
      "  warnings.warn(\n"
     ]
    }
   ],
   "source": [
    "client = Client()"
   ]
  },
  {
   "cell_type": "code",
   "execution_count": 162,
   "metadata": {},
   "outputs": [
    {
     "name": "stdout",
     "output_type": "stream",
     "text": [
      "Inside modified_graph_to_futures. Time = 23:52:04\n",
      "Dask Graph: <class 'dict'>\n",
      "{('func_a-func_b-func_c', 0): (<function func_c at 0x7efdccb7f6d0>,\n",
      "                               (<function func_b at 0x7efdccb7f640>,\n",
      "                                (<function func_a at 0x7efdccb7f5b0>, 2))),\n",
      " ('func_a-func_b-func_c', 1): (<function func_c at 0x7efdccb7f6d0>,\n",
      "                               (<function func_b at 0x7efdccb7f640>,\n",
      "                                (<function func_a at 0x7efdccb7f5b0>, 3))),\n",
      " ('func_a-func_b-func_c', 2): (<function func_c at 0x7efdccb7f6d0>,\n",
      "                               (<function func_b at 0x7efdccb7f640>,\n",
      "                                (<function func_a at 0x7efdccb7f5b0>, 4))),\n",
      " ('func_c', 0): ('func_a-func_b-func_c', 0),\n",
      " ('func_c', 1): ('func_a-func_b-func_c', 1),\n",
      " ('func_c', 2): ('func_a-func_b-func_c', 2)}\n",
      "Converted to HighLevelGraph\n",
      "HighLevelGraph with 1 layers.\n",
      "<dask.highlevelgraph.HighLevelGraph object at 0x7efcc139d570>\n",
      " 0. 139624041726272\n",
      "\n",
      "{('func_a-func_b-func_c', 0): (<function func_c at 0x7efdccb7f6d0>,\n",
      "                               (<function func_b at 0x7efdccb7f640>,\n",
      "                                (<function func_a at 0x7efdccb7f5b0>, 2))),\n",
      " ('func_a-func_b-func_c', 1): (<function func_c at 0x7efdccb7f6d0>,\n",
      "                               (<function func_b at 0x7efdccb7f640>,\n",
      "                                (<function func_a at 0x7efdccb7f5b0>, 3))),\n",
      " ('func_a-func_b-func_c', 2): (<function func_c at 0x7efdccb7f6d0>,\n",
      "                               (<function func_b at 0x7efdccb7f640>,\n",
      "                                (<function func_a at 0x7efdccb7f5b0>, 4))),\n",
      " ('func_c', 0): ('func_a-func_b-func_c', 0),\n",
      " ('func_c', 1): ('func_a-func_b-func_c', 1),\n",
      " ('func_c', 2): ('func_a-func_b-func_c', 2)}\n",
      "---------\n",
      "Examining dictionary entries\n",
      "Key: ('func_c', 0), Value: ('func_a-func_b-func_c', 0)\n",
      "Exploring value: ('func_a-func_b-func_c', 0)\n",
      "Type: <class 'tuple'>\n",
      "Layer Information\n",
      "Left: func_a-func_b-func_c\n",
      "Right: 0\n",
      "hash: 1e8ea79c67e1dc0a3f6fbed6d4879f7c3b939f3ecfed16a7bc87fb33f19262a463d86009158e4e99d4e9d181d754d19a\n",
      "---------\n",
      "Key: ('func_c', 1), Value: ('func_a-func_b-func_c', 1)\n",
      "Exploring value: ('func_a-func_b-func_c', 1)\n",
      "Type: <class 'tuple'>\n",
      "Layer Information\n",
      "Left: func_a-func_b-func_c\n",
      "Right: 1\n",
      "hash: e45b302a699115d3d5856860ee484b7db100870ab695bd1e2bdf3b3a9cb00194f952b687e6deb3d9e41ea3f7c58aec28\n",
      "---------\n",
      "Key: ('func_c', 2), Value: ('func_a-func_b-func_c', 2)\n",
      "Exploring value: ('func_a-func_b-func_c', 2)\n",
      "Type: <class 'tuple'>\n",
      "Layer Information\n",
      "Left: func_a-func_b-func_c\n",
      "Right: 2\n",
      "hash: 5c67a8666de81534a992435990fc3c92a5027b388aa049d2d237953c9ff0835d87cf43ab5346ff00e190500891ca063b\n",
      "---------\n",
      "Key: ('func_a-func_b-func_c', 2), Value: (<function func_c at 0x7efdccb7f6d0>, (<function func_b at 0x7efdccb7f640>, (<function func_a at 0x7efdccb7f5b0>, 4)))\n",
      "Exploring value: (<function func_c at 0x7efdccb7f6d0>, (<function func_b at 0x7efdccb7f640>, (<function func_a at 0x7efdccb7f5b0>, 4)))\n",
      "Type: <class 'tuple'>\n",
      "Exploring value: (<function func_b at 0x7efdccb7f640>, (<function func_a at 0x7efdccb7f5b0>, 4))\n",
      "Type: <class 'tuple'>\n",
      "Exploring value: (<function func_a at 0x7efdccb7f5b0>, 4)\n",
      "Type: <class 'tuple'>\n",
      "Layer Information\n",
      "Left: func_a\n",
      "Right: 4\n",
      "hash: 770521a2860e03f0102245e0b6e0bc64d945d44487f3e0b4d391069ef7424098aa343b9ad34f6288915fb44a164dfc9d\n",
      "Layer Information\n",
      "Left: func_b\n",
      "Right: (<function func_a at 0x7efdccb7f5b0>, 4)\n",
      "hash: d043d713e9822a9d7f1e7aae3414370ec63469e30b7b87b1f780874e6fcd0bf5145829db6b2434506be51132007e2be1\n",
      "Layer Information\n",
      "Left: func_c\n",
      "Right: (<function func_b at 0x7efdccb7f640>, (<function func_a at 0x7efdccb7f5b0>, 4))\n",
      "hash: ea1c0845a0f27796cb05be5e8f0337f4f2539652a5ea90fbc6dda99a1c6ab7c1303a367aa7a63a880e95d187291dcdec\n",
      "---------\n",
      "Key: ('func_a-func_b-func_c', 0), Value: (<function func_c at 0x7efdccb7f6d0>, (<function func_b at 0x7efdccb7f640>, (<function func_a at 0x7efdccb7f5b0>, 2)))\n",
      "Exploring value: (<function func_c at 0x7efdccb7f6d0>, (<function func_b at 0x7efdccb7f640>, (<function func_a at 0x7efdccb7f5b0>, 2)))\n",
      "Type: <class 'tuple'>\n",
      "Exploring value: (<function func_b at 0x7efdccb7f640>, (<function func_a at 0x7efdccb7f5b0>, 2))\n",
      "Type: <class 'tuple'>\n",
      "Exploring value: (<function func_a at 0x7efdccb7f5b0>, 2)\n",
      "Type: <class 'tuple'>\n",
      "Layer Information\n",
      "Left: func_a\n",
      "Right: 2\n",
      "hash: 1d23049674ea2e0c19fb71a6a1ca50f023688f8a44819b134d55dcab7015b6d924f6e08c7f9d9bd5c882e17f8c68cb3a\n",
      "Layer Information\n",
      "Left: func_b\n",
      "Right: (<function func_a at 0x7efdccb7f5b0>, 2)\n",
      "hash: 2490e6f8819b7b12070ba164aef542de46d19bd53d0f4d124f8774752eb7432f34a6432bad1dc5b11ee56982f9bda985\n",
      "Layer Information\n",
      "Left: func_c\n",
      "Right: (<function func_b at 0x7efdccb7f640>, (<function func_a at 0x7efdccb7f5b0>, 2))\n",
      "hash: d1058ce875ac5c37cb761c78b57e89a14677e8cc6d91e0013e11a31ebf1d89174134489a4f526c77e98d8a7e76de335c\n",
      "---------\n",
      "Key: ('func_a-func_b-func_c', 1), Value: (<function func_c at 0x7efdccb7f6d0>, (<function func_b at 0x7efdccb7f640>, (<function func_a at 0x7efdccb7f5b0>, 3)))\n",
      "Exploring value: (<function func_c at 0x7efdccb7f6d0>, (<function func_b at 0x7efdccb7f640>, (<function func_a at 0x7efdccb7f5b0>, 3)))\n",
      "Type: <class 'tuple'>\n",
      "Exploring value: (<function func_b at 0x7efdccb7f640>, (<function func_a at 0x7efdccb7f5b0>, 3))\n",
      "Type: <class 'tuple'>\n",
      "Exploring value: (<function func_a at 0x7efdccb7f5b0>, 3)\n",
      "Type: <class 'tuple'>\n",
      "Layer Information\n",
      "Left: func_a\n",
      "Right: 3\n",
      "hash: d993087933f50ece4e4f03c5be0fedade34d5f353be42a6434c2c2cdc9239c5e815996d01a9e5d8aebbe1773b997ebb4\n",
      "Layer Information\n",
      "Left: func_b\n",
      "Right: (<function func_a at 0x7efdccb7f5b0>, 3)\n",
      "hash: 29d92f7f7068fe8e3166ddfe087adafa9d561d966fb47cb8ffb83dce22ecb699a28708ed935c2e6f769a23f437b55f3f\n",
      "Layer Information\n",
      "Left: func_c\n",
      "Right: (<function func_b at 0x7efdccb7f640>, (<function func_a at 0x7efdccb7f5b0>, 3))\n",
      "hash: d0f18ef6446d15db6579a7814bd422c197df7b83c6f2dfe7ecacbee2cb04a0891d957f1becb925ac89ac24165868a45c\n",
      "---------\n"
     ]
    },
    {
     "data": {
      "text/plain": [
       "array([ 184,  849, 4216])"
      ]
     },
     "execution_count": 162,
     "metadata": {},
     "output_type": "execute_result"
    }
   ],
   "source": [
    "original_graph_to_futures = client._graph_to_futures\n",
    "client._graph_to_futures = modified_graph_to_futures\n",
    "\n",
    "array.compute()"
   ]
  },
  {
   "cell_type": "code",
   "execution_count": 163,
   "metadata": {},
   "outputs": [
    {
     "name": "stderr",
     "output_type": "stream",
     "text": [
      "2024-08-12 23:52:22,619 - distributed.worker - ERROR - Failed to communicate with scheduler during heartbeat.\n",
      "Traceback (most recent call last):\n",
      "  File \"/software/swift-hep/envs/dask_dirac/lib/python3.10/site-packages/distributed/comm/tcp.py\", line 225, in read\n",
      "    frames_nosplit_nbytes_bin = await stream.read_bytes(fmt_size)\n",
      "tornado.iostream.StreamClosedError: Stream is closed\n",
      "\n",
      "The above exception was the direct cause of the following exception:\n",
      "\n",
      "Traceback (most recent call last):\n",
      "  File \"/software/swift-hep/envs/dask_dirac/lib/python3.10/site-packages/distributed/worker.py\", line 1252, in heartbeat\n",
      "    response = await retry_operation(\n",
      "  File \"/software/swift-hep/envs/dask_dirac/lib/python3.10/site-packages/distributed/utils_comm.py\", line 455, in retry_operation\n",
      "    return await retry(\n",
      "  File \"/software/swift-hep/envs/dask_dirac/lib/python3.10/site-packages/distributed/utils_comm.py\", line 434, in retry\n",
      "    return await coro()\n",
      "  File \"/software/swift-hep/envs/dask_dirac/lib/python3.10/site-packages/distributed/core.py\", line 1395, in send_recv_from_rpc\n",
      "    return await send_recv(comm=comm, op=key, **kwargs)\n",
      "  File \"/software/swift-hep/envs/dask_dirac/lib/python3.10/site-packages/distributed/core.py\", line 1154, in send_recv\n",
      "    response = await comm.read(deserializers=deserializers)\n",
      "  File \"/software/swift-hep/envs/dask_dirac/lib/python3.10/site-packages/distributed/comm/tcp.py\", line 236, in read\n",
      "    convert_stream_closed_error(self, e)\n",
      "  File \"/software/swift-hep/envs/dask_dirac/lib/python3.10/site-packages/distributed/comm/tcp.py\", line 142, in convert_stream_closed_error\n",
      "    raise CommClosedError(f\"in {obj}: {exc}\") from exc\n",
      "distributed.comm.core.CommClosedError: in <TCP (closed) ConnectionPool.heartbeat_worker local=tcp://127.0.0.1:27640 remote=tcp://127.0.0.1:17804>: Stream is closed\n",
      "2024-08-12 23:52:22,618 - distributed.worker - ERROR - Failed to communicate with scheduler during heartbeat.\n",
      "Traceback (most recent call last):\n",
      "  File \"/software/swift-hep/envs/dask_dirac/lib/python3.10/site-packages/distributed/comm/tcp.py\", line 225, in read\n",
      "    frames_nosplit_nbytes_bin = await stream.read_bytes(fmt_size)\n",
      "tornado.iostream.StreamClosedError: Stream is closed\n",
      "\n",
      "The above exception was the direct cause of the following exception:\n",
      "\n",
      "Traceback (most recent call last):\n",
      "  File \"/software/swift-hep/envs/dask_dirac/lib/python3.10/site-packages/distributed/worker.py\", line 1252, in heartbeat\n",
      "    response = await retry_operation(\n",
      "  File \"/software/swift-hep/envs/dask_dirac/lib/python3.10/site-packages/distributed/utils_comm.py\", line 455, in retry_operation\n",
      "    return await retry(\n",
      "  File \"/software/swift-hep/envs/dask_dirac/lib/python3.10/site-packages/distributed/utils_comm.py\", line 434, in retry\n",
      "    return await coro()\n",
      "  File \"/software/swift-hep/envs/dask_dirac/lib/python3.10/site-packages/distributed/core.py\", line 1395, in send_recv_from_rpc\n",
      "    return await send_recv(comm=comm, op=key, **kwargs)\n",
      "  File \"/software/swift-hep/envs/dask_dirac/lib/python3.10/site-packages/distributed/core.py\", line 1154, in send_recv\n",
      "    response = await comm.read(deserializers=deserializers)\n",
      "  File \"/software/swift-hep/envs/dask_dirac/lib/python3.10/site-packages/distributed/comm/tcp.py\", line 236, in read\n",
      "    convert_stream_closed_error(self, e)\n",
      "  File \"/software/swift-hep/envs/dask_dirac/lib/python3.10/site-packages/distributed/comm/tcp.py\", line 142, in convert_stream_closed_error\n",
      "    raise CommClosedError(f\"in {obj}: {exc}\") from exc\n",
      "distributed.comm.core.CommClosedError: in <TCP (closed) ConnectionPool.heartbeat_worker local=tcp://127.0.0.1:27642 remote=tcp://127.0.0.1:17804>: Stream is closed\n",
      "2024-08-12 23:52:22,631 - distributed.worker - ERROR - Failed to communicate with scheduler during heartbeat.\n",
      "Traceback (most recent call last):\n",
      "  File \"/software/swift-hep/envs/dask_dirac/lib/python3.10/site-packages/distributed/comm/tcp.py\", line 225, in read\n",
      "    frames_nosplit_nbytes_bin = await stream.read_bytes(fmt_size)\n",
      "tornado.iostream.StreamClosedError: Stream is closed\n",
      "\n",
      "The above exception was the direct cause of the following exception:\n",
      "\n",
      "Traceback (most recent call last):\n",
      "  File \"/software/swift-hep/envs/dask_dirac/lib/python3.10/site-packages/distributed/worker.py\", line 1252, in heartbeat\n",
      "    response = await retry_operation(\n",
      "  File \"/software/swift-hep/envs/dask_dirac/lib/python3.10/site-packages/distributed/utils_comm.py\", line 455, in retry_operation\n",
      "    return await retry(\n",
      "  File \"/software/swift-hep/envs/dask_dirac/lib/python3.10/site-packages/distributed/utils_comm.py\", line 434, in retry\n",
      "    return await coro()\n",
      "  File \"/software/swift-hep/envs/dask_dirac/lib/python3.10/site-packages/distributed/core.py\", line 1395, in send_recv_from_rpc\n",
      "    return await send_recv(comm=comm, op=key, **kwargs)\n",
      "  File \"/software/swift-hep/envs/dask_dirac/lib/python3.10/site-packages/distributed/core.py\", line 1154, in send_recv\n",
      "    response = await comm.read(deserializers=deserializers)\n",
      "  File \"/software/swift-hep/envs/dask_dirac/lib/python3.10/site-packages/distributed/comm/tcp.py\", line 236, in read\n",
      "    convert_stream_closed_error(self, e)\n",
      "  File \"/software/swift-hep/envs/dask_dirac/lib/python3.10/site-packages/distributed/comm/tcp.py\", line 142, in convert_stream_closed_error\n",
      "    raise CommClosedError(f\"in {obj}: {exc}\") from exc\n",
      "distributed.comm.core.CommClosedError: in <TCP (closed) ConnectionPool.heartbeat_worker local=tcp://127.0.0.1:27644 remote=tcp://127.0.0.1:17804>: Stream is closed\n"
     ]
    }
   ],
   "source": [
    "client.close()"
   ]
  },
  {
   "cell_type": "markdown",
   "metadata": {},
   "source": [
    "### Example 8.4: Using yield for getting the layer information"
   ]
  },
  {
   "cell_type": "code",
   "execution_count": 1,
   "metadata": {},
   "outputs": [],
   "source": [
    "from datetime import datetime\n",
    "from dask.distributed import Client\n",
    "from dask.highlevelgraph import HighLevelGraph\n",
    "from pprint import pprint\n",
    "import numpy as np\n",
    "from dask.array.core import Array\n",
    "import hashlib"
   ]
  },
  {
   "cell_type": "code",
   "execution_count": 64,
   "metadata": {},
   "outputs": [],
   "source": [
    "def func_a(x):\n",
    "    return x**2\n",
    "\n",
    "\n",
    "def func_b(x):\n",
    "    return x**3\n",
    "\n",
    "\n",
    "def func_c(x):\n",
    "    return x + 120\n",
    "\n",
    "\n",
    "def func_a2():\n",
    "    return 12"
   ]
  },
  {
   "cell_type": "code",
   "execution_count": 65,
   "metadata": {},
   "outputs": [],
   "source": [
    "# define highlevelgraph\n",
    "layers = {\n",
    "    \"func_a\": {\n",
    "        (\"func_a\", 0): (func_a, 2),\n",
    "        (\"func_a\", 1): (func_a, 3),\n",
    "        (\"func_a\", 2): (func_a, 4),\n",
    "    },\n",
    "    \"func_b\": {\n",
    "        (\"func_b\", 0): (func_b, (\"func_a\", 0)),\n",
    "        (\"func_b\", 1): (func_b, (\"func_a\", 1)),\n",
    "        (\"func_b\", 2): (func_b, (\"func_a\", 2)),\n",
    "    },\n",
    "    \"func_c\": {\n",
    "        (\"func_c\", 0): (func_c, (\"func_b\", 0)),\n",
    "        (\"func_c\", 1): (func_c, (\"func_b\", 1)),\n",
    "        (\"func_c\", 2): (func_c, (\"func_b\", 2)),\n",
    "    },\n",
    "}\n",
    "dependencies = {\"func_a\": set(), \"func_b\": {\"func_a\"}, \"func_c\": {\"func_b\"}}\n",
    "\n",
    "hlg = HighLevelGraph(layers, dependencies)"
   ]
  },
  {
   "cell_type": "code",
   "execution_count": 66,
   "metadata": {},
   "outputs": [],
   "source": [
    "# Create a Dask Array from the HighLevelGraph\n",
    "array = Array(hlg, \"func_c\", shape=(3,), dtype=list, chunks=(1,))"
   ]
  },
  {
   "cell_type": "code",
   "execution_count": 82,
   "metadata": {},
   "outputs": [],
   "source": [
    "def modified_graph_to_futures(dsk, *args, **kwargs):\n",
    "    c = datetime.now()\n",
    "    print(\"Inside modified_graph_to_futures. Time = \" + c.strftime(\"%H:%M:%S\"))\n",
    "    if not isinstance(dsk, HighLevelGraph):\n",
    "        print(f\"Converted to HighLevelGraph\")\n",
    "        dsk = HighLevelGraph.from_collections(id(dsk), dsk, dependencies=dict())\n",
    "\n",
    "    info = dsk.to_dict()\n",
    "    pprint(info)\n",
    "\n",
    "    print(\"---------\")\n",
    "    print(\"Looping over dictionary entries\")\n",
    "    print(\"---------\")\n",
    "    new_info = {}\n",
    "    for key, value in info.items():\n",
    "        print(f\"Key: {key}, Value: {value}\")\n",
    "        hash = generate_hash_from_value(value)\n",
    "        print(f\"final hash: {hash}\")\n",
    "        if (\n",
    "            hash\n",
    "            == \"69504d960047ae6061fae26957b5c6ba6a5624434b16cd49f246539b192af184611c5582406b91a9a1f13e224ea4bdd4\"\n",
    "        ):\n",
    "            new_info[key] = (func_c, (func_b, (func_a2,)))\n",
    "        else:\n",
    "            new_info[key] = value\n",
    "\n",
    "        print(\"---------\")\n",
    "\n",
    "    dsk = HighLevelGraph.from_collections(id(new_info), new_info, dependencies=dict())\n",
    "    pprint(dsk.to_dict())\n",
    "\n",
    "    return original_graph_to_futures(dsk, *args, **kwargs)\n",
    "\n",
    "\n",
    "def generate_hash_from_value(value):\n",
    "    if isinstance(value, tuple):\n",
    "        left = value[0]\n",
    "        right = value[1]\n",
    "\n",
    "        if callable(left):\n",
    "            left_name = left.__name__\n",
    "        else:\n",
    "            left_name = str(left)\n",
    "\n",
    "        if isinstance(right, tuple):\n",
    "            right_hash = generate_hash_from_value(right)\n",
    "        else:\n",
    "            if callable(right):\n",
    "                right_name = right.__name__\n",
    "            else:\n",
    "                right_name = str(right)\n",
    "            right_hash = right_name\n",
    "\n",
    "        # Combine the names/hashes\n",
    "        combined = left_name + right_hash\n",
    "        hash = hashlib.sha3_384(combined.encode()).hexdigest()\n",
    "        print(f\"hash inputs: {left_name} + {right_hash}\")\n",
    "        print(f\"hash: {hash}\")\n",
    "        # TODO: check is hash matches with known hashes and if it does, replace callable with load function.\n",
    "        return hash\n",
    "\n",
    "    return str(value)"
   ]
  },
  {
   "cell_type": "code",
   "execution_count": 83,
   "metadata": {},
   "outputs": [
    {
     "name": "stderr",
     "output_type": "stream",
     "text": [
      "/software/swift-hep/envs/dask_dirac/lib/python3.10/site-packages/distributed/node.py:182: UserWarning: Port 8787 is already in use.\n",
      "Perhaps you already have a cluster running?\n",
      "Hosting the HTTP server on port 12685 instead\n",
      "  warnings.warn(\n"
     ]
    }
   ],
   "source": [
    "client = Client()"
   ]
  },
  {
   "cell_type": "code",
   "execution_count": 84,
   "metadata": {},
   "outputs": [
    {
     "name": "stdout",
     "output_type": "stream",
     "text": [
      "Inside modified_graph_to_futures. Time = 21:56:52\n",
      "Converted to HighLevelGraph\n",
      "{('func_a-func_b-func_c', 0): (<function func_c at 0x7fd85844cdc0>,\n",
      "                               (<function func_b at 0x7fd85844cd30>,\n",
      "                                (<function func_a at 0x7fd858075870>, 2))),\n",
      " ('func_a-func_b-func_c', 1): (<function func_c at 0x7fd85844cdc0>,\n",
      "                               (<function func_b at 0x7fd85844cd30>,\n",
      "                                (<function func_a at 0x7fd858075870>, 3))),\n",
      " ('func_a-func_b-func_c', 2): (<function func_c at 0x7fd85844cdc0>,\n",
      "                               (<function func_b at 0x7fd85844cd30>,\n",
      "                                (<function func_a at 0x7fd858075870>, 4))),\n",
      " ('func_c', 0): ('func_a-func_b-func_c', 0),\n",
      " ('func_c', 1): ('func_a-func_b-func_c', 1),\n",
      " ('func_c', 2): ('func_a-func_b-func_c', 2)}\n",
      "---------\n",
      "Looping over dictionary entries\n",
      "---------\n",
      "Key: ('func_c', 0), Value: ('func_a-func_b-func_c', 0)\n",
      "hash inputs: func_a-func_b-func_c + 0\n",
      "hash: 1e8ea79c67e1dc0a3f6fbed6d4879f7c3b939f3ecfed16a7bc87fb33f19262a463d86009158e4e99d4e9d181d754d19a\n",
      "final hash: 1e8ea79c67e1dc0a3f6fbed6d4879f7c3b939f3ecfed16a7bc87fb33f19262a463d86009158e4e99d4e9d181d754d19a\n",
      "---------\n",
      "Key: ('func_c', 1), Value: ('func_a-func_b-func_c', 1)\n",
      "hash inputs: func_a-func_b-func_c + 1\n",
      "hash: e45b302a699115d3d5856860ee484b7db100870ab695bd1e2bdf3b3a9cb00194f952b687e6deb3d9e41ea3f7c58aec28\n",
      "final hash: e45b302a699115d3d5856860ee484b7db100870ab695bd1e2bdf3b3a9cb00194f952b687e6deb3d9e41ea3f7c58aec28\n",
      "---------\n",
      "Key: ('func_c', 2), Value: ('func_a-func_b-func_c', 2)\n",
      "hash inputs: func_a-func_b-func_c + 2\n",
      "hash: 5c67a8666de81534a992435990fc3c92a5027b388aa049d2d237953c9ff0835d87cf43ab5346ff00e190500891ca063b\n",
      "final hash: 5c67a8666de81534a992435990fc3c92a5027b388aa049d2d237953c9ff0835d87cf43ab5346ff00e190500891ca063b\n",
      "---------\n",
      "Key: ('func_a-func_b-func_c', 1), Value: (<function func_c at 0x7fd85844cdc0>, (<function func_b at 0x7fd85844cd30>, (<function func_a at 0x7fd858075870>, 3)))\n",
      "hash inputs: func_a + 3\n",
      "hash: d993087933f50ece4e4f03c5be0fedade34d5f353be42a6434c2c2cdc9239c5e815996d01a9e5d8aebbe1773b997ebb4\n",
      "hash inputs: func_b + d993087933f50ece4e4f03c5be0fedade34d5f353be42a6434c2c2cdc9239c5e815996d01a9e5d8aebbe1773b997ebb4\n",
      "hash: af63b4e3e8ebd5c0fe2f36b01f14ae2542a9bc3efd3f870f058baea9044608ce49716ead6c3824e356cd54bea15df304\n",
      "hash inputs: func_c + af63b4e3e8ebd5c0fe2f36b01f14ae2542a9bc3efd3f870f058baea9044608ce49716ead6c3824e356cd54bea15df304\n",
      "hash: 69504d960047ae6061fae26957b5c6ba6a5624434b16cd49f246539b192af184611c5582406b91a9a1f13e224ea4bdd4\n",
      "final hash: 69504d960047ae6061fae26957b5c6ba6a5624434b16cd49f246539b192af184611c5582406b91a9a1f13e224ea4bdd4\n",
      "---------\n",
      "Key: ('func_a-func_b-func_c', 2), Value: (<function func_c at 0x7fd85844cdc0>, (<function func_b at 0x7fd85844cd30>, (<function func_a at 0x7fd858075870>, 4)))\n",
      "hash inputs: func_a + 4\n",
      "hash: 770521a2860e03f0102245e0b6e0bc64d945d44487f3e0b4d391069ef7424098aa343b9ad34f6288915fb44a164dfc9d\n",
      "hash inputs: func_b + 770521a2860e03f0102245e0b6e0bc64d945d44487f3e0b4d391069ef7424098aa343b9ad34f6288915fb44a164dfc9d\n",
      "hash: 6f463b4d1f6015fb47871ef914ac0dd0dc3e477f791f1a79c732904e975331359efb87bcdb97f7920d76130a261fe6a7\n",
      "hash inputs: func_c + 6f463b4d1f6015fb47871ef914ac0dd0dc3e477f791f1a79c732904e975331359efb87bcdb97f7920d76130a261fe6a7\n",
      "hash: 6044c57c56cf62ffa3543b596ba2a81e894b386db097e3059d20980aa4f2dc652e78754cbcfc69e0ff699064ea558a04\n",
      "final hash: 6044c57c56cf62ffa3543b596ba2a81e894b386db097e3059d20980aa4f2dc652e78754cbcfc69e0ff699064ea558a04\n",
      "---------\n",
      "Key: ('func_a-func_b-func_c', 0), Value: (<function func_c at 0x7fd85844cdc0>, (<function func_b at 0x7fd85844cd30>, (<function func_a at 0x7fd858075870>, 2)))\n",
      "hash inputs: func_a + 2\n",
      "hash: 1d23049674ea2e0c19fb71a6a1ca50f023688f8a44819b134d55dcab7015b6d924f6e08c7f9d9bd5c882e17f8c68cb3a\n",
      "hash inputs: func_b + 1d23049674ea2e0c19fb71a6a1ca50f023688f8a44819b134d55dcab7015b6d924f6e08c7f9d9bd5c882e17f8c68cb3a\n",
      "hash: 309c5d0066337ee1d70ec07afb91957f11f1967d21cdf096fc81e4614f75cdb8b95f7f1d4c6f787216e96b44cb37e310\n",
      "hash inputs: func_c + 309c5d0066337ee1d70ec07afb91957f11f1967d21cdf096fc81e4614f75cdb8b95f7f1d4c6f787216e96b44cb37e310\n",
      "hash: 8fd76f289e82167addc62a0497edf1199b9cc0c1be1dab026f90260a490d6ce1a0c2dd4e8e1c30cff8991468bb238bdb\n",
      "final hash: 8fd76f289e82167addc62a0497edf1199b9cc0c1be1dab026f90260a490d6ce1a0c2dd4e8e1c30cff8991468bb238bdb\n",
      "---------\n",
      "{('func_a-func_b-func_c', 0): (<function func_c at 0x7fd85844cdc0>,\n",
      "                               (<function func_b at 0x7fd85844cd30>,\n",
      "                                (<function func_a at 0x7fd858075870>, 2))),\n",
      " ('func_a-func_b-func_c', 1): (<function func_c at 0x7fd85844cdc0>,\n",
      "                               (<function func_b at 0x7fd85844cd30>,\n",
      "                                (<function func_a2 at 0x7fd85844c9d0>,))),\n",
      " ('func_a-func_b-func_c', 2): (<function func_c at 0x7fd85844cdc0>,\n",
      "                               (<function func_b at 0x7fd85844cd30>,\n",
      "                                (<function func_a at 0x7fd858075870>, 4))),\n",
      " ('func_c', 0): ('func_a-func_b-func_c', 0),\n",
      " ('func_c', 1): ('func_a-func_b-func_c', 1),\n",
      " ('func_c', 2): ('func_a-func_b-func_c', 2)}\n"
     ]
    },
    {
     "data": {
      "text/plain": [
       "array([ 184, 1848, 4216])"
      ]
     },
     "execution_count": 84,
     "metadata": {},
     "output_type": "execute_result"
    }
   ],
   "source": [
    "original_graph_to_futures = client._graph_to_futures\n",
    "client._graph_to_futures = modified_graph_to_futures\n",
    "\n",
    "array.compute()"
   ]
  },
  {
   "cell_type": "code",
   "execution_count": 85,
   "metadata": {},
   "outputs": [],
   "source": [
    "client.close()"
   ]
  },
  {
   "cell_type": "markdown",
   "metadata": {},
   "source": [
    "### Example 8.5: Noting which layer has a hash that we know"
   ]
  },
  {
   "cell_type": "code",
   "execution_count": 68,
   "metadata": {},
   "outputs": [],
   "source": [
    "from datetime import datetime\n",
    "from dask.distributed import Client\n",
    "from dask.highlevelgraph import HighLevelGraph\n",
    "import pprint\n",
    "import numpy as np\n",
    "from dask.array.core import Array\n",
    "import hashlib"
   ]
  },
  {
   "cell_type": "code",
   "execution_count": 69,
   "metadata": {},
   "outputs": [],
   "source": [
    "def func_a(x):\n",
    "    return x**2\n",
    "\n",
    "\n",
    "def func_b(x):\n",
    "    return x**3\n",
    "\n",
    "\n",
    "def func_c(x):\n",
    "    return x + 120\n",
    "\n",
    "\n",
    "def func_a2():\n",
    "    return 50"
   ]
  },
  {
   "cell_type": "code",
   "execution_count": 70,
   "metadata": {},
   "outputs": [],
   "source": [
    "# define highlevelgraph\n",
    "layers = {\n",
    "    \"func_a\": {\n",
    "        (\"func_a\", 0): (func_a, 2),\n",
    "        (\"func_a\", 1): (func_a, 3),\n",
    "        (\"func_a\", 2): (func_a, 4),\n",
    "    },\n",
    "    \"func_b\": {\n",
    "        (\"func_b\", 0): (func_b, (\"func_a\", 0)),\n",
    "        (\"func_b\", 1): (func_b, (\"func_a\", 1)),\n",
    "        (\"func_b\", 2): (func_b, (\"func_a\", 2)),\n",
    "    },\n",
    "    \"func_c\": {\n",
    "        (\"func_c\", 0): (func_c, (\"func_b\", 0)),\n",
    "        (\"func_c\", 1): (func_c, (\"func_b\", 1)),\n",
    "        (\"func_c\", 2): (func_c, (\"func_b\", 2)),\n",
    "    },\n",
    "}\n",
    "dependencies = {\"func_a\": set(), \"func_b\": {\"func_a\"}, \"func_c\": {\"func_b\"}}\n",
    "\n",
    "hlg = HighLevelGraph(layers, dependencies)"
   ]
  },
  {
   "cell_type": "code",
   "execution_count": 71,
   "metadata": {},
   "outputs": [],
   "source": [
    "# Create a Dask Array from the HighLevelGraph\n",
    "array = Array(hlg, \"func_c\", shape=(3,), dtype=list, chunks=(1,))"
   ]
  },
  {
   "cell_type": "code",
   "execution_count": 72,
   "metadata": {},
   "outputs": [],
   "source": [
    "def modified_graph_to_futures(dsk, *args, **kwargs):\n",
    "    c = datetime.now()\n",
    "    print(\"Inside modified_graph_to_futures. Time = \" + c.strftime(\"%H:%M:%S\"))\n",
    "    if not isinstance(dsk, HighLevelGraph):\n",
    "        print(f\"Converted to HighLevelGraph\")\n",
    "        dsk = HighLevelGraph.from_collections(id(dsk), dsk, dependencies=dict())\n",
    "\n",
    "    info = dsk.to_dict()\n",
    "    pprint.pprint(info)\n",
    "\n",
    "    print(\"---------\")\n",
    "    print(\"Looping over dictionary entries\")\n",
    "    print(\"---------\")\n",
    "    new_info = {}\n",
    "    for key, value in info.items():\n",
    "        print(f\"Key: {key}, Value: {value}\")\n",
    "        _, hash_tuple = generate_hash_from_value(value)\n",
    "        new_value = replace_hashed_functions(value, hash_tuple)\n",
    "        new_info[key] = new_value\n",
    "        print(\"New value:\")\n",
    "        pprint.pprint(new_value)\n",
    "\n",
    "        print(\"---------\")\n",
    "\n",
    "    dsk = HighLevelGraph.from_collections(id(new_info), new_info, dependencies=dict())\n",
    "    pprint.pprint(dsk.to_dict())\n",
    "\n",
    "    return original_graph_to_futures(dsk, *args, **kwargs)\n",
    "\n",
    "\n",
    "def generate_hash_from_value(value):\n",
    "    if isinstance(value, tuple):\n",
    "        left = value[0]\n",
    "        right = value[1]\n",
    "\n",
    "        # Process left side\n",
    "        if callable(left):\n",
    "            left_name = left.__name__\n",
    "        else:\n",
    "            left_name = str(left)\n",
    "\n",
    "        # Process right side\n",
    "        if isinstance(right, tuple):\n",
    "            right_hash, this_tuple = generate_hash_from_value(right)\n",
    "        else:\n",
    "            if callable(right):\n",
    "                right_name = right.__name__\n",
    "            else:\n",
    "                right_name = str(right)\n",
    "            right_hash = right_name\n",
    "\n",
    "        # Combine the names/hashes for final hash\n",
    "        combined = left_name + right_hash\n",
    "        final_hash = hashlib.sha3_384(combined.encode()).hexdigest()\n",
    "        if \"this_tuple\" in locals():\n",
    "            hash_tuple = (final_hash, this_tuple)\n",
    "        else:\n",
    "            hash_tuple = final_hash\n",
    "\n",
    "        print(f\"hash inputs: {left_name} + {right_hash}\")\n",
    "        print(f\"hash: {final_hash}\")\n",
    "        print(f\"hash tuple: {hash_tuple}\")\n",
    "\n",
    "        return final_hash, hash_tuple\n",
    "\n",
    "    # should in theory never reach here\n",
    "    return str(value), str(value)\n",
    "\n",
    "\n",
    "def replace_hashed_functions(func_tuple, hash_tuple):\n",
    "    global hash_list\n",
    "    if isinstance(hash_tuple, tuple) and isinstance(func_tuple, tuple):\n",
    "        current_hash, nested_hash = hash_tuple\n",
    "        current_func, nested_func = func_tuple\n",
    "\n",
    "        if current_hash in hash_list:\n",
    "            return (func_a2,)\n",
    "        else:\n",
    "            # Recursively process the nested tuple\n",
    "            modified_nested_func = replace_hashed_functions(nested_func, nested_hash)\n",
    "            return (current_func, modified_nested_func)\n",
    "    else:\n",
    "        # Base case: No more nested tuples\n",
    "        if hash_tuple in hash_list:\n",
    "            return (func_a2,)\n",
    "        else:\n",
    "            return func_tuple"
   ]
  },
  {
   "cell_type": "code",
   "execution_count": 73,
   "metadata": {},
   "outputs": [
    {
     "name": "stderr",
     "output_type": "stream",
     "text": [
      "/software/swift-hep/envs/dask_dirac/lib/python3.10/site-packages/distributed/node.py:182: UserWarning: Port 8787 is already in use.\n",
      "Perhaps you already have a cluster running?\n",
      "Hosting the HTTP server on port 31545 instead\n",
      "  warnings.warn(\n"
     ]
    }
   ],
   "source": [
    "client = Client()"
   ]
  },
  {
   "cell_type": "code",
   "execution_count": 74,
   "metadata": {},
   "outputs": [
    {
     "name": "stdout",
     "output_type": "stream",
     "text": [
      "Inside modified_graph_to_futures. Time = 15:23:18\n",
      "Converted to HighLevelGraph\n",
      "{('func_a-func_b-func_c', 0): (<function func_c at 0x7ff68057edd0>,\n",
      "                               (<function func_b at 0x7ff68057c430>,\n",
      "                                (<function func_a at 0x7ff68057c0d0>, 2))),\n",
      " ('func_a-func_b-func_c', 1): (<function func_c at 0x7ff68057edd0>,\n",
      "                               (<function func_b at 0x7ff68057c430>,\n",
      "                                (<function func_a at 0x7ff68057c0d0>, 3))),\n",
      " ('func_a-func_b-func_c', 2): (<function func_c at 0x7ff68057edd0>,\n",
      "                               (<function func_b at 0x7ff68057c430>,\n",
      "                                (<function func_a at 0x7ff68057c0d0>, 4))),\n",
      " ('func_c', 0): ('func_a-func_b-func_c', 0),\n",
      " ('func_c', 1): ('func_a-func_b-func_c', 1),\n",
      " ('func_c', 2): ('func_a-func_b-func_c', 2)}\n",
      "---------\n",
      "Looping over dictionary entries\n",
      "---------\n",
      "Key: ('func_c', 0), Value: ('func_a-func_b-func_c', 0)\n",
      "hash inputs: func_a-func_b-func_c + 0\n",
      "hash: 1e8ea79c67e1dc0a3f6fbed6d4879f7c3b939f3ecfed16a7bc87fb33f19262a463d86009158e4e99d4e9d181d754d19a\n",
      "hash tuple: 1e8ea79c67e1dc0a3f6fbed6d4879f7c3b939f3ecfed16a7bc87fb33f19262a463d86009158e4e99d4e9d181d754d19a\n",
      "New value:\n",
      "('func_a-func_b-func_c', 0)\n",
      "---------\n",
      "Key: ('func_c', 1), Value: ('func_a-func_b-func_c', 1)\n",
      "hash inputs: func_a-func_b-func_c + 1\n",
      "hash: e45b302a699115d3d5856860ee484b7db100870ab695bd1e2bdf3b3a9cb00194f952b687e6deb3d9e41ea3f7c58aec28\n",
      "hash tuple: e45b302a699115d3d5856860ee484b7db100870ab695bd1e2bdf3b3a9cb00194f952b687e6deb3d9e41ea3f7c58aec28\n",
      "New value:\n",
      "('func_a-func_b-func_c', 1)\n",
      "---------\n",
      "Key: ('func_c', 2), Value: ('func_a-func_b-func_c', 2)\n",
      "hash inputs: func_a-func_b-func_c + 2\n",
      "hash: 5c67a8666de81534a992435990fc3c92a5027b388aa049d2d237953c9ff0835d87cf43ab5346ff00e190500891ca063b\n",
      "hash tuple: 5c67a8666de81534a992435990fc3c92a5027b388aa049d2d237953c9ff0835d87cf43ab5346ff00e190500891ca063b\n",
      "New value:\n",
      "('func_a-func_b-func_c', 2)\n",
      "---------\n",
      "Key: ('func_a-func_b-func_c', 2), Value: (<function func_c at 0x7ff68057edd0>, (<function func_b at 0x7ff68057c430>, (<function func_a at 0x7ff68057c0d0>, 4)))\n",
      "hash inputs: func_a + 4\n",
      "hash: 770521a2860e03f0102245e0b6e0bc64d945d44487f3e0b4d391069ef7424098aa343b9ad34f6288915fb44a164dfc9d\n",
      "hash tuple: 770521a2860e03f0102245e0b6e0bc64d945d44487f3e0b4d391069ef7424098aa343b9ad34f6288915fb44a164dfc9d\n",
      "hash inputs: func_b + 770521a2860e03f0102245e0b6e0bc64d945d44487f3e0b4d391069ef7424098aa343b9ad34f6288915fb44a164dfc9d\n",
      "hash: 6f463b4d1f6015fb47871ef914ac0dd0dc3e477f791f1a79c732904e975331359efb87bcdb97f7920d76130a261fe6a7\n",
      "hash tuple: ('6f463b4d1f6015fb47871ef914ac0dd0dc3e477f791f1a79c732904e975331359efb87bcdb97f7920d76130a261fe6a7', '770521a2860e03f0102245e0b6e0bc64d945d44487f3e0b4d391069ef7424098aa343b9ad34f6288915fb44a164dfc9d')\n",
      "hash inputs: func_c + 6f463b4d1f6015fb47871ef914ac0dd0dc3e477f791f1a79c732904e975331359efb87bcdb97f7920d76130a261fe6a7\n",
      "hash: 6044c57c56cf62ffa3543b596ba2a81e894b386db097e3059d20980aa4f2dc652e78754cbcfc69e0ff699064ea558a04\n",
      "hash tuple: ('6044c57c56cf62ffa3543b596ba2a81e894b386db097e3059d20980aa4f2dc652e78754cbcfc69e0ff699064ea558a04', ('6f463b4d1f6015fb47871ef914ac0dd0dc3e477f791f1a79c732904e975331359efb87bcdb97f7920d76130a261fe6a7', '770521a2860e03f0102245e0b6e0bc64d945d44487f3e0b4d391069ef7424098aa343b9ad34f6288915fb44a164dfc9d'))\n",
      "New value:\n",
      "(<function func_c at 0x7ff68057edd0>,\n",
      " (<function func_b at 0x7ff68057c430>,\n",
      "  (<function func_a at 0x7ff68057c0d0>, 4)))\n",
      "---------\n",
      "Key: ('func_a-func_b-func_c', 0), Value: (<function func_c at 0x7ff68057edd0>, (<function func_b at 0x7ff68057c430>, (<function func_a at 0x7ff68057c0d0>, 2)))\n",
      "hash inputs: func_a + 2\n",
      "hash: 1d23049674ea2e0c19fb71a6a1ca50f023688f8a44819b134d55dcab7015b6d924f6e08c7f9d9bd5c882e17f8c68cb3a\n",
      "hash tuple: 1d23049674ea2e0c19fb71a6a1ca50f023688f8a44819b134d55dcab7015b6d924f6e08c7f9d9bd5c882e17f8c68cb3a\n",
      "hash inputs: func_b + 1d23049674ea2e0c19fb71a6a1ca50f023688f8a44819b134d55dcab7015b6d924f6e08c7f9d9bd5c882e17f8c68cb3a\n",
      "hash: 309c5d0066337ee1d70ec07afb91957f11f1967d21cdf096fc81e4614f75cdb8b95f7f1d4c6f787216e96b44cb37e310\n",
      "hash tuple: ('309c5d0066337ee1d70ec07afb91957f11f1967d21cdf096fc81e4614f75cdb8b95f7f1d4c6f787216e96b44cb37e310', '1d23049674ea2e0c19fb71a6a1ca50f023688f8a44819b134d55dcab7015b6d924f6e08c7f9d9bd5c882e17f8c68cb3a')\n",
      "hash inputs: func_c + 309c5d0066337ee1d70ec07afb91957f11f1967d21cdf096fc81e4614f75cdb8b95f7f1d4c6f787216e96b44cb37e310\n",
      "hash: 8fd76f289e82167addc62a0497edf1199b9cc0c1be1dab026f90260a490d6ce1a0c2dd4e8e1c30cff8991468bb238bdb\n",
      "hash tuple: ('8fd76f289e82167addc62a0497edf1199b9cc0c1be1dab026f90260a490d6ce1a0c2dd4e8e1c30cff8991468bb238bdb', ('309c5d0066337ee1d70ec07afb91957f11f1967d21cdf096fc81e4614f75cdb8b95f7f1d4c6f787216e96b44cb37e310', '1d23049674ea2e0c19fb71a6a1ca50f023688f8a44819b134d55dcab7015b6d924f6e08c7f9d9bd5c882e17f8c68cb3a'))\n",
      "New value:\n",
      "(<function func_a2 at 0x7ff68057fa30>,)\n",
      "---------\n",
      "Key: ('func_a-func_b-func_c', 1), Value: (<function func_c at 0x7ff68057edd0>, (<function func_b at 0x7ff68057c430>, (<function func_a at 0x7ff68057c0d0>, 3)))\n",
      "hash inputs: func_a + 3\n",
      "hash: d993087933f50ece4e4f03c5be0fedade34d5f353be42a6434c2c2cdc9239c5e815996d01a9e5d8aebbe1773b997ebb4\n",
      "hash tuple: d993087933f50ece4e4f03c5be0fedade34d5f353be42a6434c2c2cdc9239c5e815996d01a9e5d8aebbe1773b997ebb4\n",
      "hash inputs: func_b + d993087933f50ece4e4f03c5be0fedade34d5f353be42a6434c2c2cdc9239c5e815996d01a9e5d8aebbe1773b997ebb4\n",
      "hash: af63b4e3e8ebd5c0fe2f36b01f14ae2542a9bc3efd3f870f058baea9044608ce49716ead6c3824e356cd54bea15df304\n",
      "hash tuple: ('af63b4e3e8ebd5c0fe2f36b01f14ae2542a9bc3efd3f870f058baea9044608ce49716ead6c3824e356cd54bea15df304', 'd993087933f50ece4e4f03c5be0fedade34d5f353be42a6434c2c2cdc9239c5e815996d01a9e5d8aebbe1773b997ebb4')\n",
      "hash inputs: func_c + af63b4e3e8ebd5c0fe2f36b01f14ae2542a9bc3efd3f870f058baea9044608ce49716ead6c3824e356cd54bea15df304\n",
      "hash: 69504d960047ae6061fae26957b5c6ba6a5624434b16cd49f246539b192af184611c5582406b91a9a1f13e224ea4bdd4\n",
      "hash tuple: ('69504d960047ae6061fae26957b5c6ba6a5624434b16cd49f246539b192af184611c5582406b91a9a1f13e224ea4bdd4', ('af63b4e3e8ebd5c0fe2f36b01f14ae2542a9bc3efd3f870f058baea9044608ce49716ead6c3824e356cd54bea15df304', 'd993087933f50ece4e4f03c5be0fedade34d5f353be42a6434c2c2cdc9239c5e815996d01a9e5d8aebbe1773b997ebb4'))\n",
      "New value:\n",
      "(<function func_c at 0x7ff68057edd0>,\n",
      " (<function func_b at 0x7ff68057c430>,\n",
      "  (<function func_a at 0x7ff68057c0d0>, 3)))\n",
      "---------\n",
      "{('func_a-func_b-func_c', 0): (<function func_a2 at 0x7ff68057fa30>,),\n",
      " ('func_a-func_b-func_c', 1): (<function func_c at 0x7ff68057edd0>,\n",
      "                               (<function func_b at 0x7ff68057c430>,\n",
      "                                (<function func_a at 0x7ff68057c0d0>, 3))),\n",
      " ('func_a-func_b-func_c', 2): (<function func_c at 0x7ff68057edd0>,\n",
      "                               (<function func_b at 0x7ff68057c430>,\n",
      "                                (<function func_a at 0x7ff68057c0d0>, 4))),\n",
      " ('func_c', 0): ('func_a-func_b-func_c', 0),\n",
      " ('func_c', 1): ('func_a-func_b-func_c', 1),\n",
      " ('func_c', 2): ('func_a-func_b-func_c', 2)}\n"
     ]
    },
    {
     "data": {
      "text/plain": [
       "array([  50,  849, 4216])"
      ]
     },
     "execution_count": 74,
     "metadata": {},
     "output_type": "execute_result"
    }
   ],
   "source": [
    "original_graph_to_futures = client._graph_to_futures\n",
    "client._graph_to_futures = modified_graph_to_futures\n",
    "hash_list = [\n",
    "    \"8fd76f289e82167addc62a0497edf1199b9cc0c1be1dab026f90260a490d6ce1a0c2dd4e8e1c30cff8991468bb238bdb\"\n",
    "]\n",
    "array.compute()"
   ]
  },
  {
   "cell_type": "code",
   "execution_count": 75,
   "metadata": {},
   "outputs": [],
   "source": [
    "client.close()"
   ]
  },
  {
   "cell_type": "markdown",
   "metadata": {},
   "source": [
    "## Example 9: Complete examples"
   ]
  },
  {
   "cell_type": "markdown",
   "metadata": {},
   "source": [
    "### Example 9.1: Example with numpy saving"
   ]
  },
  {
   "cell_type": "code",
   "execution_count": 1,
   "metadata": {},
   "outputs": [],
   "source": [
    "from datetime import datetime\n",
    "from dask.distributed import Client\n",
    "from dask.highlevelgraph import HighLevelGraph\n",
    "import pprint\n",
    "import numpy as np\n",
    "from dask.array.core import Array\n",
    "import hashlib\n",
    "import copy\n",
    "import dask\n",
    "import dask.core\n",
    "from collections import defaultdict\n",
    "import glob\n",
    "import time"
   ]
  },
  {
   "cell_type": "code",
   "execution_count": 2,
   "metadata": {},
   "outputs": [],
   "source": [
    "def func_a(x):\n",
    "    return x**2\n",
    "\n",
    "\n",
    "def func_b(x):\n",
    "    return x**3\n",
    "\n",
    "\n",
    "def func_c(x):\n",
    "    return x + 120\n",
    "\n",
    "\n",
    "def func_d(x):\n",
    "    return x + 14\n",
    "\n",
    "\n",
    "def func_e(x, y):\n",
    "    return x - y\n",
    "\n",
    "\n",
    "def func_load(x):\n",
    "    return np.load(\n",
    "        \"/users/ak18773/SWIFT_HEP/dask-dirac/examples/notebooks/data/\" + x + \".npy\"\n",
    "    )\n",
    "\n",
    "\n",
    "def func_save(x, arr):\n",
    "    np.save(\n",
    "        \"/users/ak18773/SWIFT_HEP/dask-dirac/examples/notebooks/data/\" + x + \".npy\", arr\n",
    "    )\n",
    "    return arr"
   ]
  },
  {
   "cell_type": "code",
   "execution_count": 3,
   "metadata": {},
   "outputs": [],
   "source": [
    "# define highlevelgraph\n",
    "layers = {\n",
    "    \"func_a\": {\n",
    "        (\"func_a\", 0): (func_a, np.array([2])),\n",
    "    },\n",
    "    \"func_b\": {\n",
    "        (\"func_b\", 0): (func_b, (\"func_a\", 0)),\n",
    "    },\n",
    "    \"func_c\": {\n",
    "        (\"func_c\", 0): (func_c, np.array([2])),\n",
    "    },\n",
    "    \"func_d\": {\n",
    "        (\"func_d\", 0): (func_d, (\"func_c\", 0)),\n",
    "    },\n",
    "    \"func_e\": {\n",
    "        (\"func_e\", 0): (func_e, (\"func_d\", 0), (\"func_b\", 0)),\n",
    "    },\n",
    "}\n",
    "dependencies = {\n",
    "    \"func_a\": set(),\n",
    "    \"func_b\": {\"func_a\"},\n",
    "    \"func_c\": set(),\n",
    "    \"func_d\": {\"func_c\"},\n",
    "    \"func_e\": {\"func_b\", \"func_d\"},\n",
    "}\n",
    "\n",
    "hlg = HighLevelGraph(layers, dependencies)"
   ]
  },
  {
   "cell_type": "code",
   "execution_count": 4,
   "metadata": {},
   "outputs": [],
   "source": [
    "# Create a Dask Array from the HighLevelGraph\n",
    "array = Array(hlg, \"func_e\", shape=(1,), dtype=list, chunks=(1,))"
   ]
  },
  {
   "cell_type": "code",
   "execution_count": 5,
   "metadata": {},
   "outputs": [
    {
     "data": {
      "image/svg+xml": [
       "<?xml version=\"1.0\" encoding=\"UTF-8\" standalone=\"no\"?>\n",
       "<!DOCTYPE svg PUBLIC \"-//W3C//DTD SVG 1.1//EN\"\n",
       " \"http://www.w3.org/Graphics/SVG/1.1/DTD/svg11.dtd\">\n",
       "<!-- Generated by graphviz version 6.0.2 (20221126.1951)\n",
       " -->\n",
       "<!-- Pages: 1 -->\n",
       "<svg width=\"180pt\" height=\"188pt\"\n",
       " viewBox=\"0.00 0.00 180.00 188.00\" xmlns=\"http://www.w3.org/2000/svg\" xmlns:xlink=\"http://www.w3.org/1999/xlink\">\n",
       "<g id=\"graph0\" class=\"graph\" transform=\"scale(1 1) rotate(0) translate(4 184)\">\n",
       "<polygon fill=\"white\" stroke=\"none\" points=\"-4,4 -4,-184 176,-184 176,4 -4,4\"/>\n",
       "<!-- &#45;7152246416052970692 -->\n",
       "<g id=\"node1\" class=\"node\">\n",
       "<title>&#45;7152246416052970692</title>\n",
       "<g id=\"a_node1\"><a xlink:title=\"A Materialized Layer with 1 Tasks.&#10;\">\n",
       "<polygon fill=\"none\" stroke=\"black\" points=\"77,-36 0,-36 0,0 77,0 77,-36\"/>\n",
       "<text text-anchor=\"middle\" x=\"38.5\" y=\"-13\" font-family=\"Helvetica,sans-Serif\" font-size=\"20.00\">func_a</text>\n",
       "</a>\n",
       "</g>\n",
       "</g>\n",
       "<!-- 5119088208982058919 -->\n",
       "<g id=\"node2\" class=\"node\">\n",
       "<title>5119088208982058919</title>\n",
       "<g id=\"a_node2\"><a xlink:title=\"A Materialized Layer with 1 Tasks.&#10;\">\n",
       "<polygon fill=\"none\" stroke=\"black\" points=\"77,-108 0,-108 0,-72 77,-72 77,-108\"/>\n",
       "<text text-anchor=\"middle\" x=\"38.5\" y=\"-85\" font-family=\"Helvetica,sans-Serif\" font-size=\"20.00\">func_b</text>\n",
       "</a>\n",
       "</g>\n",
       "</g>\n",
       "<!-- &#45;7152246416052970692&#45;&gt;5119088208982058919 -->\n",
       "<g id=\"edge1\" class=\"edge\">\n",
       "<title>&#45;7152246416052970692&#45;&gt;5119088208982058919</title>\n",
       "<path fill=\"none\" stroke=\"black\" d=\"M38.5,-36.3C38.5,-44.02 38.5,-53.29 38.5,-61.89\"/>\n",
       "<polygon fill=\"black\" stroke=\"black\" points=\"35,-61.9 38.5,-71.9 42,-61.9 35,-61.9\"/>\n",
       "</g>\n",
       "<!-- &#45;2800688428755972041 -->\n",
       "<g id=\"node5\" class=\"node\">\n",
       "<title>&#45;2800688428755972041</title>\n",
       "<g id=\"a_node5\"><a xlink:title=\"A Materialized Layer with 1 Tasks.&#10;Array Shape: (1,)&#10;Data Type: object&#10;Chunk Size: (1,)&#10;Chunk Type: numpy.ndarray&#10;\">\n",
       "<polygon fill=\"none\" stroke=\"black\" points=\"124,-180 47,-180 47,-144 124,-144 124,-180\"/>\n",
       "<text text-anchor=\"middle\" x=\"85.5\" y=\"-157\" font-family=\"Helvetica,sans-Serif\" font-size=\"20.00\">func_e</text>\n",
       "</a>\n",
       "</g>\n",
       "</g>\n",
       "<!-- 5119088208982058919&#45;&gt;&#45;2800688428755972041 -->\n",
       "<g id=\"edge4\" class=\"edge\">\n",
       "<title>5119088208982058919&#45;&gt;&#45;2800688428755972041</title>\n",
       "<path fill=\"none\" stroke=\"black\" d=\"M50.12,-108.3C55.64,-116.53 62.35,-126.52 68.43,-135.58\"/>\n",
       "<polygon fill=\"black\" stroke=\"black\" points=\"65.54,-137.54 74.02,-143.9 71.35,-133.64 65.54,-137.54\"/>\n",
       "</g>\n",
       "<!-- &#45;7702988230338713980 -->\n",
       "<g id=\"node3\" class=\"node\">\n",
       "<title>&#45;7702988230338713980</title>\n",
       "<g id=\"a_node3\"><a xlink:title=\"A Materialized Layer with 1 Tasks.&#10;\">\n",
       "<polygon fill=\"none\" stroke=\"black\" points=\"171,-36 96,-36 96,0 171,0 171,-36\"/>\n",
       "<text text-anchor=\"middle\" x=\"133.5\" y=\"-13\" font-family=\"Helvetica,sans-Serif\" font-size=\"20.00\">func_c</text>\n",
       "</a>\n",
       "</g>\n",
       "</g>\n",
       "<!-- &#45;267844253652956854 -->\n",
       "<g id=\"node4\" class=\"node\">\n",
       "<title>&#45;267844253652956854</title>\n",
       "<g id=\"a_node4\"><a xlink:title=\"A Materialized Layer with 1 Tasks.&#10;\">\n",
       "<polygon fill=\"none\" stroke=\"black\" points=\"172,-108 95,-108 95,-72 172,-72 172,-108\"/>\n",
       "<text text-anchor=\"middle\" x=\"133.5\" y=\"-85\" font-family=\"Helvetica,sans-Serif\" font-size=\"20.00\">func_d</text>\n",
       "</a>\n",
       "</g>\n",
       "</g>\n",
       "<!-- &#45;7702988230338713980&#45;&gt;&#45;267844253652956854 -->\n",
       "<g id=\"edge2\" class=\"edge\">\n",
       "<title>&#45;7702988230338713980&#45;&gt;&#45;267844253652956854</title>\n",
       "<path fill=\"none\" stroke=\"black\" d=\"M133.5,-36.3C133.5,-44.02 133.5,-53.29 133.5,-61.89\"/>\n",
       "<polygon fill=\"black\" stroke=\"black\" points=\"130,-61.9 133.5,-71.9 137,-61.9 130,-61.9\"/>\n",
       "</g>\n",
       "<!-- &#45;267844253652956854&#45;&gt;&#45;2800688428755972041 -->\n",
       "<g id=\"edge3\" class=\"edge\">\n",
       "<title>&#45;267844253652956854&#45;&gt;&#45;2800688428755972041</title>\n",
       "<path fill=\"none\" stroke=\"black\" d=\"M121.63,-108.3C116,-116.53 109.15,-126.52 102.93,-135.58\"/>\n",
       "<polygon fill=\"black\" stroke=\"black\" points=\"100,-133.67 97.23,-143.9 105.77,-137.63 100,-133.67\"/>\n",
       "</g>\n",
       "</g>\n",
       "</svg>\n"
      ],
      "text/plain": [
       "<graphviz.graphs.Digraph at 0x7fa71879f340>"
      ]
     },
     "execution_count": 5,
     "metadata": {},
     "output_type": "execute_result"
    }
   ],
   "source": [
    "hlg.visualize()"
   ]
  },
  {
   "cell_type": "code",
   "execution_count": 6,
   "metadata": {},
   "outputs": [
    {
     "data": {
      "image/png": "[encoded data removed]",
      "text/plain": [
       "<IPython.core.display.Image object>"
      ]
     },
     "execution_count": 6,
     "metadata": {},
     "output_type": "execute_result"
    }
   ],
   "source": [
    "array.visualize()"
   ]
  },
  {
   "cell_type": "code",
   "execution_count": 7,
   "metadata": {},
   "outputs": [],
   "source": [
    "def generate_hash_from_value(value):\n",
    "    if isinstance(value, tuple):\n",
    "\n",
    "        # Catch when there is no left and right as at end of chain\n",
    "        if len(value) == 1:\n",
    "            left = value[0]\n",
    "            right = \"\"\n",
    "        else:\n",
    "            left = value[0]\n",
    "            right = value[1:]\n",
    "            if len(right) == 1:\n",
    "                right = right[0]\n",
    "\n",
    "        print(f\"left: {left}\")\n",
    "        print(f\"right: {right}\")\n",
    "\n",
    "        # Process left side\n",
    "        if callable(left):\n",
    "            left_name = left.__name__\n",
    "        else:\n",
    "            left_name = str(left)\n",
    "\n",
    "        # Process right side\n",
    "        if isinstance(right, tuple):\n",
    "            print(\"rerunning function\")\n",
    "            print(f\"left: {left}\")\n",
    "            print(f\"right: {right}\")\n",
    "            right_hash, this_tuple = generate_hash_from_value(right)\n",
    "        else:\n",
    "            if callable(right):\n",
    "                right_name = right.__name__\n",
    "            else:\n",
    "                right_name = str(right)\n",
    "            right_hash = right_name\n",
    "\n",
    "        # Combine the names/hashes for final hash\n",
    "        combined = left_name + right_hash\n",
    "        final_hash = hashlib.sha3_384(combined.encode()).hexdigest()\n",
    "        if \"this_tuple\" in locals():\n",
    "            hash_tuple = (final_hash, this_tuple)\n",
    "        else:\n",
    "            hash_tuple = final_hash\n",
    "\n",
    "        print(f\"hash inputs: {value}\")\n",
    "        print(f\"hash inputs: {left_name} + {right_hash}\")\n",
    "        print(f\"hash: {final_hash}\")\n",
    "        print(f\"hash tuple: {hash_tuple}\")\n",
    "\n",
    "        return final_hash, hash_tuple\n",
    "\n",
    "    # should in theory never reach here\n",
    "    return str(value), str(value)"
   ]
  },
  {
   "cell_type": "code",
   "execution_count": 8,
   "metadata": {},
   "outputs": [],
   "source": [
    "def modified_graph_to_futures(dsk, *args, **kwargs):\n",
    "    c = datetime.now()\n",
    "    print(\"Inside modified_graph_to_futures. Time = \" + c.strftime(\"%H:%M:%S\"))\n",
    "    if not isinstance(dsk, HighLevelGraph):\n",
    "        print(f\"Converted to HighLevelGraph\")\n",
    "        dsk = HighLevelGraph.from_collections(id(dsk), dsk, dependencies=dict())\n",
    "\n",
    "    info = dsk.to_dict()\n",
    "    pprint.pprint(info)\n",
    "    print(\"---------\")\n",
    "    key_list = info.keys()\n",
    "    sorted_keys = dask.core.toposort(info)\n",
    "    print(\"Processing keys in defined order\")\n",
    "    print(f\"original list order: {key_list}\")\n",
    "    print(f\"sorted key order: {sorted_keys}\")\n",
    "    print(\"---------\")\n",
    "    print(\"Looping over keys and calculating hashes\")\n",
    "    tmp_info = {}\n",
    "    for key in sorted_keys:\n",
    "        value = info[key]\n",
    "        hash_tuple = None\n",
    "        hash_base = None\n",
    "        value_for_hash = value\n",
    "        check_layer = True\n",
    "        print(f\"Key: {key}, Value: {value}\")\n",
    "        print(f\"Checking if tmp_keys: {tmp_info.keys()}, are in {value}\")\n",
    "        for t_key in tmp_info.keys():\n",
    "            if t_key in value:\n",
    "                print(f\"Found!\")\n",
    "                print(f\"{t_key} in {value}\")\n",
    "                index = value.index(t_key)\n",
    "\n",
    "                hash_base = tmp_info[t_key][\"hash\"]  # [index]\n",
    "                temp_list = list(value_for_hash)\n",
    "                temp_list[index] = hash_base\n",
    "                value_for_hash = tuple(temp_list)\n",
    "                print(hash_base)\n",
    "                print(value_for_hash)\n",
    "                print(index)\n",
    "            elif t_key == value:\n",
    "                print(f\"Found!\")\n",
    "                print(f\"{t_key} in {value}\")\n",
    "                hash_base = tmp_info[t_key][\"hash\"][0]\n",
    "                check_layer = False\n",
    "                hash_tuple = hash_base\n",
    "\n",
    "        if hash_tuple is None:\n",
    "            # Now we have the hash_base,\n",
    "            _, hash_tuple = generate_hash_from_value(value_for_hash)\n",
    "\n",
    "        tmp_info[key] = {\"value\": value, \"hash\": hash_tuple, \"check_layer\": check_layer}\n",
    "\n",
    "        print(\"---------\")\n",
    "\n",
    "    pprint.pprint(tmp_info)\n",
    "\n",
    "    # Now check layers that need to be checked, adding caching\n",
    "    tmp_2 = {}\n",
    "    for key in tmp_info.keys():\n",
    "        print(f\"Checking {key}... \")\n",
    "        # Now we check if hash exist at some location\n",
    "        input_func_tuple = tmp_info[key][\"value\"]\n",
    "        input_hash_tuple = tmp_info[key][\"hash\"]\n",
    "        if not tmp_info[key][\"check_layer\"]:\n",
    "            print(f\"Not processing layer\")\n",
    "            tmp_2[key] = input_func_tuple\n",
    "        else:\n",
    "            func_tuple = check_functions_and_hashes(input_func_tuple, input_hash_tuple)\n",
    "            tmp_2[key] = func_tuple\n",
    "\n",
    "        print(f\"final_function_tuple\")\n",
    "        print(f\"{func_tuple}\")\n",
    "\n",
    "    pprint.pprint(tmp_2)\n",
    "\n",
    "    dsk = HighLevelGraph.from_collections(id(tmp_2), tmp_2, dependencies=dict())\n",
    "    pprint.pprint(dsk.to_dict())\n",
    "\n",
    "    return original_graph_to_futures(dsk, *args, **kwargs)\n",
    "\n",
    "\n",
    "def check_functions_and_hashes(func_tuple, hash_tuple):\n",
    "    print(f\"Checking func_tuple: {func_tuple}\")\n",
    "    print(f\"Checking hash_tuple: {hash_tuple}\")\n",
    "    cached_files = glob.glob(\n",
    "        \"/users/ak18773/SWIFT_HEP/dask-dirac/examples/notebooks/data/*.npy\"\n",
    "    )\n",
    "    cached_files = [c[c.rfind(\"/\") + 1 : -4] for c in cached_files]\n",
    "\n",
    "    if len(func_tuple) > 2:\n",
    "        print(\"Need to think about how to do this, but for now just check first hash\")\n",
    "        if hash_tuple[0] in cached_files:\n",
    "            return (func_load, hash_tuple[0])\n",
    "        else:\n",
    "            return (func_save, hash_tuple[0], (func_tuple))\n",
    "\n",
    "    # Get to the deepest level and replace\n",
    "\n",
    "    if isinstance(hash_tuple, tuple) and isinstance(func_tuple, tuple):\n",
    "        current_hash, nested_hash = hash_tuple\n",
    "        current_func, nested_func = func_tuple\n",
    "\n",
    "        if current_hash in cached_files:\n",
    "            return (func_load, current_hash)\n",
    "        else:\n",
    "            # Recursively process the nested tuple\n",
    "            modified_nested_func = check_functions_and_hashes(nested_func, nested_hash)\n",
    "            return (func_save, current_hash, (current_func, modified_nested_func))\n",
    "    else:\n",
    "        # Base case: No more nested tuples\n",
    "        if hash_tuple in cached_files:\n",
    "            return (func_load, hash_tuple)\n",
    "        else:\n",
    "            return (func_save, hash_tuple, (func_tuple))"
   ]
  },
  {
   "cell_type": "code",
   "execution_count": 13,
   "metadata": {},
   "outputs": [],
   "source": [
    "client = Client()"
   ]
  },
  {
   "cell_type": "code",
   "execution_count": 14,
   "metadata": {},
   "outputs": [
    {
     "data": {
      "text/html": [
       "<div>\n",
       "    <div style=\"width: 24px; height: 24px; background-color: #e1e1e1; border: 3px solid #9D9D9D; border-radius: 5px; position: absolute;\"> </div>\n",
       "    <div style=\"margin-left: 48px;\">\n",
       "        <h3 style=\"margin-bottom: 0px;\">Client</h3>\n",
       "        <p style=\"color: #9D9D9D; margin-bottom: 0px;\">Client-b879a97b-7a73-11ef-af23-020089de4f2a</p>\n",
       "        <table style=\"width: 100%; text-align: left;\">\n",
       "\n",
       "        <tr>\n",
       "        \n",
       "            <td style=\"text-align: left;\"><strong>Connection method:</strong> Cluster object</td>\n",
       "            <td style=\"text-align: left;\"><strong>Cluster type:</strong> distributed.LocalCluster</td>\n",
       "        \n",
       "        </tr>\n",
       "\n",
       "        \n",
       "            <tr>\n",
       "                <td style=\"text-align: left;\">\n",
       "                    <strong>Dashboard: </strong> <a href=\"http://127.0.0.1:8787/status\" target=\"_blank\">http://127.0.0.1:8787/status</a>\n",
       "                </td>\n",
       "                <td style=\"text-align: left;\"></td>\n",
       "            </tr>\n",
       "        \n",
       "\n",
       "        </table>\n",
       "\n",
       "        \n",
       "\n",
       "        \n",
       "            <details>\n",
       "            <summary style=\"margin-bottom: 20px;\"><h3 style=\"display: inline;\">Cluster Info</h3></summary>\n",
       "            <div class=\"jp-RenderedHTMLCommon jp-RenderedHTML jp-mod-trusted jp-OutputArea-output\">\n",
       "    <div style=\"width: 24px; height: 24px; background-color: #e1e1e1; border: 3px solid #9D9D9D; border-radius: 5px; position: absolute;\">\n",
       "    </div>\n",
       "    <div style=\"margin-left: 48px;\">\n",
       "        <h3 style=\"margin-bottom: 0px; margin-top: 0px;\">LocalCluster</h3>\n",
       "        <p style=\"color: #9D9D9D; margin-bottom: 0px;\">4faf32ce</p>\n",
       "        <table style=\"width: 100%; text-align: left;\">\n",
       "            <tr>\n",
       "                <td style=\"text-align: left;\">\n",
       "                    <strong>Dashboard:</strong> <a href=\"http://127.0.0.1:8787/status\" target=\"_blank\">http://127.0.0.1:8787/status</a>\n",
       "                </td>\n",
       "                <td style=\"text-align: left;\">\n",
       "                    <strong>Workers:</strong> 3\n",
       "                </td>\n",
       "            </tr>\n",
       "            <tr>\n",
       "                <td style=\"text-align: left;\">\n",
       "                    <strong>Total threads:</strong> 6\n",
       "                </td>\n",
       "                <td style=\"text-align: left;\">\n",
       "                    <strong>Total memory:</strong> 15.14 GiB\n",
       "                </td>\n",
       "            </tr>\n",
       "            \n",
       "            <tr>\n",
       "    <td style=\"text-align: left;\"><strong>Status:</strong> running</td>\n",
       "    <td style=\"text-align: left;\"><strong>Using processes:</strong> True</td>\n",
       "</tr>\n",
       "\n",
       "            \n",
       "        </table>\n",
       "\n",
       "        <details>\n",
       "            <summary style=\"margin-bottom: 20px;\">\n",
       "                <h3 style=\"display: inline;\">Scheduler Info</h3>\n",
       "            </summary>\n",
       "\n",
       "            <div style=\"\">\n",
       "    <div>\n",
       "        <div style=\"width: 24px; height: 24px; background-color: #FFF7E5; border: 3px solid #FF6132; border-radius: 5px; position: absolute;\"> </div>\n",
       "        <div style=\"margin-left: 48px;\">\n",
       "            <h3 style=\"margin-bottom: 0px;\">Scheduler</h3>\n",
       "            <p style=\"color: #9D9D9D; margin-bottom: 0px;\">Scheduler-d176cd20-f656-43cc-b04e-634c23d53508</p>\n",
       "            <table style=\"width: 100%; text-align: left;\">\n",
       "                <tr>\n",
       "                    <td style=\"text-align: left;\">\n",
       "                        <strong>Comm:</strong> tcp://127.0.0.1:20463\n",
       "                    </td>\n",
       "                    <td style=\"text-align: left;\">\n",
       "                        <strong>Workers:</strong> 3\n",
       "                    </td>\n",
       "                </tr>\n",
       "                <tr>\n",
       "                    <td style=\"text-align: left;\">\n",
       "                        <strong>Dashboard:</strong> <a href=\"http://127.0.0.1:8787/status\" target=\"_blank\">http://127.0.0.1:8787/status</a>\n",
       "                    </td>\n",
       "                    <td style=\"text-align: left;\">\n",
       "                        <strong>Total threads:</strong> 6\n",
       "                    </td>\n",
       "                </tr>\n",
       "                <tr>\n",
       "                    <td style=\"text-align: left;\">\n",
       "                        <strong>Started:</strong> Just now\n",
       "                    </td>\n",
       "                    <td style=\"text-align: left;\">\n",
       "                        <strong>Total memory:</strong> 15.14 GiB\n",
       "                    </td>\n",
       "                </tr>\n",
       "            </table>\n",
       "        </div>\n",
       "    </div>\n",
       "\n",
       "    <details style=\"margin-left: 48px;\">\n",
       "        <summary style=\"margin-bottom: 20px;\">\n",
       "            <h3 style=\"display: inline;\">Workers</h3>\n",
       "        </summary>\n",
       "\n",
       "        \n",
       "        <div style=\"margin-bottom: 20px;\">\n",
       "            <div style=\"width: 24px; height: 24px; background-color: #DBF5FF; border: 3px solid #4CC9FF; border-radius: 5px; position: absolute;\"> </div>\n",
       "            <div style=\"margin-left: 48px;\">\n",
       "            <details>\n",
       "                <summary>\n",
       "                    <h4 style=\"margin-bottom: 0px; display: inline;\">Worker: 0</h4>\n",
       "                </summary>\n",
       "                <table style=\"width: 100%; text-align: left;\">\n",
       "                    <tr>\n",
       "                        <td style=\"text-align: left;\">\n",
       "                            <strong>Comm: </strong> tcp://127.0.0.1:11053\n",
       "                        </td>\n",
       "                        <td style=\"text-align: left;\">\n",
       "                            <strong>Total threads: </strong> 2\n",
       "                        </td>\n",
       "                    </tr>\n",
       "                    <tr>\n",
       "                        <td style=\"text-align: left;\">\n",
       "                            <strong>Dashboard: </strong> <a href=\"http://127.0.0.1:30071/status\" target=\"_blank\">http://127.0.0.1:30071/status</a>\n",
       "                        </td>\n",
       "                        <td style=\"text-align: left;\">\n",
       "                            <strong>Memory: </strong> 5.05 GiB\n",
       "                        </td>\n",
       "                    </tr>\n",
       "                    <tr>\n",
       "                        <td style=\"text-align: left;\">\n",
       "                            <strong>Nanny: </strong> tcp://127.0.0.1:27359\n",
       "                        </td>\n",
       "                        <td style=\"text-align: left;\"></td>\n",
       "                    </tr>\n",
       "                    <tr>\n",
       "                        <td colspan=\"2\" style=\"text-align: left;\">\n",
       "                            <strong>Local directory: </strong> /tmp/dask-scratch-space/worker-p_vfe0sp\n",
       "                        </td>\n",
       "                    </tr>\n",
       "\n",
       "                    \n",
       "\n",
       "                    \n",
       "\n",
       "                </table>\n",
       "            </details>\n",
       "            </div>\n",
       "        </div>\n",
       "        \n",
       "        <div style=\"margin-bottom: 20px;\">\n",
       "            <div style=\"width: 24px; height: 24px; background-color: #DBF5FF; border: 3px solid #4CC9FF; border-radius: 5px; position: absolute;\"> </div>\n",
       "            <div style=\"margin-left: 48px;\">\n",
       "            <details>\n",
       "                <summary>\n",
       "                    <h4 style=\"margin-bottom: 0px; display: inline;\">Worker: 1</h4>\n",
       "                </summary>\n",
       "                <table style=\"width: 100%; text-align: left;\">\n",
       "                    <tr>\n",
       "                        <td style=\"text-align: left;\">\n",
       "                            <strong>Comm: </strong> tcp://127.0.0.1:27929\n",
       "                        </td>\n",
       "                        <td style=\"text-align: left;\">\n",
       "                            <strong>Total threads: </strong> 2\n",
       "                        </td>\n",
       "                    </tr>\n",
       "                    <tr>\n",
       "                        <td style=\"text-align: left;\">\n",
       "                            <strong>Dashboard: </strong> <a href=\"http://127.0.0.1:12320/status\" target=\"_blank\">http://127.0.0.1:12320/status</a>\n",
       "                        </td>\n",
       "                        <td style=\"text-align: left;\">\n",
       "                            <strong>Memory: </strong> 5.05 GiB\n",
       "                        </td>\n",
       "                    </tr>\n",
       "                    <tr>\n",
       "                        <td style=\"text-align: left;\">\n",
       "                            <strong>Nanny: </strong> tcp://127.0.0.1:31554\n",
       "                        </td>\n",
       "                        <td style=\"text-align: left;\"></td>\n",
       "                    </tr>\n",
       "                    <tr>\n",
       "                        <td colspan=\"2\" style=\"text-align: left;\">\n",
       "                            <strong>Local directory: </strong> /tmp/dask-scratch-space/worker-k6mr6w07\n",
       "                        </td>\n",
       "                    </tr>\n",
       "\n",
       "                    \n",
       "\n",
       "                    \n",
       "\n",
       "                </table>\n",
       "            </details>\n",
       "            </div>\n",
       "        </div>\n",
       "        \n",
       "        <div style=\"margin-bottom: 20px;\">\n",
       "            <div style=\"width: 24px; height: 24px; background-color: #DBF5FF; border: 3px solid #4CC9FF; border-radius: 5px; position: absolute;\"> </div>\n",
       "            <div style=\"margin-left: 48px;\">\n",
       "            <details>\n",
       "                <summary>\n",
       "                    <h4 style=\"margin-bottom: 0px; display: inline;\">Worker: 2</h4>\n",
       "                </summary>\n",
       "                <table style=\"width: 100%; text-align: left;\">\n",
       "                    <tr>\n",
       "                        <td style=\"text-align: left;\">\n",
       "                            <strong>Comm: </strong> tcp://127.0.0.1:17144\n",
       "                        </td>\n",
       "                        <td style=\"text-align: left;\">\n",
       "                            <strong>Total threads: </strong> 2\n",
       "                        </td>\n",
       "                    </tr>\n",
       "                    <tr>\n",
       "                        <td style=\"text-align: left;\">\n",
       "                            <strong>Dashboard: </strong> <a href=\"http://127.0.0.1:27261/status\" target=\"_blank\">http://127.0.0.1:27261/status</a>\n",
       "                        </td>\n",
       "                        <td style=\"text-align: left;\">\n",
       "                            <strong>Memory: </strong> 5.05 GiB\n",
       "                        </td>\n",
       "                    </tr>\n",
       "                    <tr>\n",
       "                        <td style=\"text-align: left;\">\n",
       "                            <strong>Nanny: </strong> tcp://127.0.0.1:21356\n",
       "                        </td>\n",
       "                        <td style=\"text-align: left;\"></td>\n",
       "                    </tr>\n",
       "                    <tr>\n",
       "                        <td colspan=\"2\" style=\"text-align: left;\">\n",
       "                            <strong>Local directory: </strong> /tmp/dask-scratch-space/worker-7fo5jlds\n",
       "                        </td>\n",
       "                    </tr>\n",
       "\n",
       "                    \n",
       "\n",
       "                    \n",
       "\n",
       "                </table>\n",
       "            </details>\n",
       "            </div>\n",
       "        </div>\n",
       "        \n",
       "\n",
       "    </details>\n",
       "</div>\n",
       "\n",
       "        </details>\n",
       "    </div>\n",
       "</div>\n",
       "            </details>\n",
       "        \n",
       "\n",
       "    </div>\n",
       "</div>"
      ],
      "text/plain": [
       "<Client: 'tcp://127.0.0.1:20463' processes=3 threads=6, memory=15.14 GiB>"
      ]
     },
     "execution_count": 14,
     "metadata": {},
     "output_type": "execute_result"
    }
   ],
   "source": [
    "client"
   ]
  },
  {
   "cell_type": "code",
   "execution_count": 15,
   "metadata": {},
   "outputs": [
    {
     "name": "stdout",
     "output_type": "stream",
     "text": [
      "Inside modified_graph_to_futures. Time = 13:51:34\n",
      "Converted to HighLevelGraph\n",
      "{('func_a-func_b', 0): (<function func_b at 0x7fa7187a7880>,\n",
      "                        (<function func_a at 0x7fa7187a77f0>, array([2]))),\n",
      " ('func_b', 0): ('func_a-func_b', 0),\n",
      " ('func_c-func_d', 0): (<function func_d at 0x7fa7187a7a30>,\n",
      "                        (<function func_c at 0x7fa7187a79a0>, array([2]))),\n",
      " ('func_d', 0): ('func_c-func_d', 0),\n",
      " ('func_e', 0): (<function func_e at 0x7fa7187a7ac0>,\n",
      "                 ('func_d', 0),\n",
      "                 ('func_b', 0))}\n",
      "---------\n",
      "Processing keys in defined order\n",
      "original list order: dict_keys([('func_e', 0), ('func_b', 0), ('func_d', 0), ('func_c-func_d', 0), ('func_a-func_b', 0)])\n",
      "sorted key order: [('func_c-func_d', 0), ('func_d', 0), ('func_a-func_b', 0), ('func_b', 0), ('func_e', 0)]\n",
      "---------\n",
      "Looping over keys and calculating hashes\n",
      "Key: ('func_c-func_d', 0), Value: (<function func_d at 0x7fa7187a7a30>, (<function func_c at 0x7fa7187a79a0>, array([2])))\n",
      "Checking if tmp_keys: dict_keys([]), are in (<function func_d at 0x7fa7187a7a30>, (<function func_c at 0x7fa7187a79a0>, array([2])))\n",
      "left: <function func_d at 0x7fa7187a7a30>\n",
      "right: (<function func_c at 0x7fa7187a79a0>, array([2]))\n",
      "rerunning function\n",
      "left: <function func_d at 0x7fa7187a7a30>\n",
      "right: (<function func_c at 0x7fa7187a79a0>, array([2]))\n",
      "left: <function func_c at 0x7fa7187a79a0>\n",
      "right: [2]\n",
      "hash inputs: (<function func_c at 0x7fa7187a79a0>, array([2]))\n",
      "hash inputs: func_c + [2]\n",
      "hash: f12ce0d8cd6105959827f329b79f2baca8767a4b436cdd843cf008ca50b0ae7754317a320740ecc96d739668308c9d2e\n",
      "hash tuple: f12ce0d8cd6105959827f329b79f2baca8767a4b436cdd843cf008ca50b0ae7754317a320740ecc96d739668308c9d2e\n",
      "hash inputs: (<function func_d at 0x7fa7187a7a30>, (<function func_c at 0x7fa7187a79a0>, array([2])))\n",
      "hash inputs: func_d + f12ce0d8cd6105959827f329b79f2baca8767a4b436cdd843cf008ca50b0ae7754317a320740ecc96d739668308c9d2e\n",
      "hash: 4c082d6b9b9b918689b81a761abbaae92041057140553ca83e03c4665445a3e78b460e9f0eb8b205e0ef8cb4dd5567f7\n",
      "hash tuple: ('4c082d6b9b9b918689b81a761abbaae92041057140553ca83e03c4665445a3e78b460e9f0eb8b205e0ef8cb4dd5567f7', 'f12ce0d8cd6105959827f329b79f2baca8767a4b436cdd843cf008ca50b0ae7754317a320740ecc96d739668308c9d2e')\n",
      "---------\n",
      "Key: ('func_d', 0), Value: ('func_c-func_d', 0)\n",
      "Checking if tmp_keys: dict_keys([('func_c-func_d', 0)]), are in ('func_c-func_d', 0)\n",
      "Found!\n",
      "('func_c-func_d', 0) in ('func_c-func_d', 0)\n",
      "---------\n",
      "Key: ('func_a-func_b', 0), Value: (<function func_b at 0x7fa7187a7880>, (<function func_a at 0x7fa7187a77f0>, array([2])))\n",
      "Checking if tmp_keys: dict_keys([('func_c-func_d', 0), ('func_d', 0)]), are in (<function func_b at 0x7fa7187a7880>, (<function func_a at 0x7fa7187a77f0>, array([2])))\n",
      "left: <function func_b at 0x7fa7187a7880>\n",
      "right: (<function func_a at 0x7fa7187a77f0>, array([2]))\n",
      "rerunning function\n",
      "left: <function func_b at 0x7fa7187a7880>\n",
      "right: (<function func_a at 0x7fa7187a77f0>, array([2]))\n",
      "left: <function func_a at 0x7fa7187a77f0>\n",
      "right: [2]\n",
      "hash inputs: (<function func_a at 0x7fa7187a77f0>, array([2]))\n",
      "hash inputs: func_a + [2]\n",
      "hash: 0776ff206989787bf5a95a35b33716b797efcded6bf71a9e75c1897c5a7ea9ca4f9fb654fe3eba1ebcec7d7911b2dd16\n",
      "hash tuple: 0776ff206989787bf5a95a35b33716b797efcded6bf71a9e75c1897c5a7ea9ca4f9fb654fe3eba1ebcec7d7911b2dd16\n",
      "hash inputs: (<function func_b at 0x7fa7187a7880>, (<function func_a at 0x7fa7187a77f0>, array([2])))\n",
      "hash inputs: func_b + 0776ff206989787bf5a95a35b33716b797efcded6bf71a9e75c1897c5a7ea9ca4f9fb654fe3eba1ebcec7d7911b2dd16\n",
      "hash: f84d1e9e761b9b7229bafdf522f347f04b88a65b40568d76f5402ad094b768fd101f3ae957876f0e7bece55676ca102e\n",
      "hash tuple: ('f84d1e9e761b9b7229bafdf522f347f04b88a65b40568d76f5402ad094b768fd101f3ae957876f0e7bece55676ca102e', '0776ff206989787bf5a95a35b33716b797efcded6bf71a9e75c1897c5a7ea9ca4f9fb654fe3eba1ebcec7d7911b2dd16')\n",
      "---------\n",
      "Key: ('func_b', 0), Value: ('func_a-func_b', 0)\n",
      "Checking if tmp_keys: dict_keys([('func_c-func_d', 0), ('func_d', 0), ('func_a-func_b', 0)]), are in ('func_a-func_b', 0)\n",
      "Found!\n",
      "('func_a-func_b', 0) in ('func_a-func_b', 0)\n",
      "---------\n",
      "Key: ('func_e', 0), Value: (<function func_e at 0x7fa7187a7ac0>, ('func_d', 0), ('func_b', 0))\n",
      "Checking if tmp_keys: dict_keys([('func_c-func_d', 0), ('func_d', 0), ('func_a-func_b', 0), ('func_b', 0)]), are in (<function func_e at 0x7fa7187a7ac0>, ('func_d', 0), ('func_b', 0))\n",
      "Found!\n",
      "('func_d', 0) in (<function func_e at 0x7fa7187a7ac0>, ('func_d', 0), ('func_b', 0))\n",
      "4c082d6b9b9b918689b81a761abbaae92041057140553ca83e03c4665445a3e78b460e9f0eb8b205e0ef8cb4dd5567f7\n",
      "(<function func_e at 0x7fa7187a7ac0>, '4c082d6b9b9b918689b81a761abbaae92041057140553ca83e03c4665445a3e78b460e9f0eb8b205e0ef8cb4dd5567f7', ('func_b', 0))\n",
      "1\n",
      "Found!\n",
      "('func_b', 0) in (<function func_e at 0x7fa7187a7ac0>, ('func_d', 0), ('func_b', 0))\n",
      "f84d1e9e761b9b7229bafdf522f347f04b88a65b40568d76f5402ad094b768fd101f3ae957876f0e7bece55676ca102e\n",
      "(<function func_e at 0x7fa7187a7ac0>, '4c082d6b9b9b918689b81a761abbaae92041057140553ca83e03c4665445a3e78b460e9f0eb8b205e0ef8cb4dd5567f7', 'f84d1e9e761b9b7229bafdf522f347f04b88a65b40568d76f5402ad094b768fd101f3ae957876f0e7bece55676ca102e')\n",
      "2\n",
      "left: <function func_e at 0x7fa7187a7ac0>\n",
      "right: ('4c082d6b9b9b918689b81a761abbaae92041057140553ca83e03c4665445a3e78b460e9f0eb8b205e0ef8cb4dd5567f7', 'f84d1e9e761b9b7229bafdf522f347f04b88a65b40568d76f5402ad094b768fd101f3ae957876f0e7bece55676ca102e')\n",
      "rerunning function\n",
      "left: <function func_e at 0x7fa7187a7ac0>\n",
      "right: ('4c082d6b9b9b918689b81a761abbaae92041057140553ca83e03c4665445a3e78b460e9f0eb8b205e0ef8cb4dd5567f7', 'f84d1e9e761b9b7229bafdf522f347f04b88a65b40568d76f5402ad094b768fd101f3ae957876f0e7bece55676ca102e')\n",
      "left: 4c082d6b9b9b918689b81a761abbaae92041057140553ca83e03c4665445a3e78b460e9f0eb8b205e0ef8cb4dd5567f7\n",
      "right: f84d1e9e761b9b7229bafdf522f347f04b88a65b40568d76f5402ad094b768fd101f3ae957876f0e7bece55676ca102e\n",
      "hash inputs: ('4c082d6b9b9b918689b81a761abbaae92041057140553ca83e03c4665445a3e78b460e9f0eb8b205e0ef8cb4dd5567f7', 'f84d1e9e761b9b7229bafdf522f347f04b88a65b40568d76f5402ad094b768fd101f3ae957876f0e7bece55676ca102e')\n",
      "hash inputs: 4c082d6b9b9b918689b81a761abbaae92041057140553ca83e03c4665445a3e78b460e9f0eb8b205e0ef8cb4dd5567f7 + f84d1e9e761b9b7229bafdf522f347f04b88a65b40568d76f5402ad094b768fd101f3ae957876f0e7bece55676ca102e\n",
      "hash: cb80d2d47c2253c5110d99cd49bd5308f0ab7403145a1cefde85d79c3b3ad8671ea95ad61aa491d14b0a09df330a6385\n",
      "hash tuple: cb80d2d47c2253c5110d99cd49bd5308f0ab7403145a1cefde85d79c3b3ad8671ea95ad61aa491d14b0a09df330a6385\n",
      "hash inputs: (<function func_e at 0x7fa7187a7ac0>, '4c082d6b9b9b918689b81a761abbaae92041057140553ca83e03c4665445a3e78b460e9f0eb8b205e0ef8cb4dd5567f7', 'f84d1e9e761b9b7229bafdf522f347f04b88a65b40568d76f5402ad094b768fd101f3ae957876f0e7bece55676ca102e')\n",
      "hash inputs: func_e + cb80d2d47c2253c5110d99cd49bd5308f0ab7403145a1cefde85d79c3b3ad8671ea95ad61aa491d14b0a09df330a6385\n",
      "hash: 4baeda9eda3c05b98d14b603cea2833cc5b4a3bf1e30cfca90dcaf4f24c9079ea33349840fb93b07c3585cf685dfb2d9\n",
      "hash tuple: ('4baeda9eda3c05b98d14b603cea2833cc5b4a3bf1e30cfca90dcaf4f24c9079ea33349840fb93b07c3585cf685dfb2d9', 'cb80d2d47c2253c5110d99cd49bd5308f0ab7403145a1cefde85d79c3b3ad8671ea95ad61aa491d14b0a09df330a6385')\n",
      "---------\n",
      "{('func_a-func_b', 0): {'check_layer': True,\n",
      "                        'hash': ('f84d1e9e761b9b7229bafdf522f347f04b88a65b40568d76f5402ad094b768fd101f3ae957876f0e7bece55676ca102e',\n",
      "                                 '0776ff206989787bf5a95a35b33716b797efcded6bf71a9e75c1897c5a7ea9ca4f9fb654fe3eba1ebcec7d7911b2dd16'),\n",
      "                        'value': (<function func_b at 0x7fa7187a7880>,\n",
      "                                  (<function func_a at 0x7fa7187a77f0>,\n",
      "                                   array([2])))},\n",
      " ('func_b', 0): {'check_layer': False,\n",
      "                 'hash': 'f84d1e9e761b9b7229bafdf522f347f04b88a65b40568d76f5402ad094b768fd101f3ae957876f0e7bece55676ca102e',\n",
      "                 'value': ('func_a-func_b', 0)},\n",
      " ('func_c-func_d', 0): {'check_layer': True,\n",
      "                        'hash': ('4c082d6b9b9b918689b81a761abbaae92041057140553ca83e03c4665445a3e78b460e9f0eb8b205e0ef8cb4dd5567f7',\n",
      "                                 'f12ce0d8cd6105959827f329b79f2baca8767a4b436cdd843cf008ca50b0ae7754317a320740ecc96d739668308c9d2e'),\n",
      "                        'value': (<function func_d at 0x7fa7187a7a30>,\n",
      "                                  (<function func_c at 0x7fa7187a79a0>,\n",
      "                                   array([2])))},\n",
      " ('func_d', 0): {'check_layer': False,\n",
      "                 'hash': '4c082d6b9b9b918689b81a761abbaae92041057140553ca83e03c4665445a3e78b460e9f0eb8b205e0ef8cb4dd5567f7',\n",
      "                 'value': ('func_c-func_d', 0)},\n",
      " ('func_e', 0): {'check_layer': True,\n",
      "                 'hash': ('4baeda9eda3c05b98d14b603cea2833cc5b4a3bf1e30cfca90dcaf4f24c9079ea33349840fb93b07c3585cf685dfb2d9',\n",
      "                          'cb80d2d47c2253c5110d99cd49bd5308f0ab7403145a1cefde85d79c3b3ad8671ea95ad61aa491d14b0a09df330a6385'),\n",
      "                 'value': (<function func_e at 0x7fa7187a7ac0>,\n",
      "                           ('func_d', 0),\n",
      "                           ('func_b', 0))}}\n",
      "Checking ('func_c-func_d', 0)... \n",
      "Checking func_tuple: (<function func_d at 0x7fa7187a7a30>, (<function func_c at 0x7fa7187a79a0>, array([2])))\n",
      "Checking hash_tuple: ('4c082d6b9b9b918689b81a761abbaae92041057140553ca83e03c4665445a3e78b460e9f0eb8b205e0ef8cb4dd5567f7', 'f12ce0d8cd6105959827f329b79f2baca8767a4b436cdd843cf008ca50b0ae7754317a320740ecc96d739668308c9d2e')\n",
      "final_function_tuple\n",
      "(<function func_load at 0x7fa7187a7b50>, '4c082d6b9b9b918689b81a761abbaae92041057140553ca83e03c4665445a3e78b460e9f0eb8b205e0ef8cb4dd5567f7')\n",
      "Checking ('func_d', 0)... \n",
      "Not processing layer\n",
      "final_function_tuple\n",
      "(<function func_load at 0x7fa7187a7b50>, '4c082d6b9b9b918689b81a761abbaae92041057140553ca83e03c4665445a3e78b460e9f0eb8b205e0ef8cb4dd5567f7')\n",
      "Checking ('func_a-func_b', 0)... \n",
      "Checking func_tuple: (<function func_b at 0x7fa7187a7880>, (<function func_a at 0x7fa7187a77f0>, array([2])))\n",
      "Checking hash_tuple: ('f84d1e9e761b9b7229bafdf522f347f04b88a65b40568d76f5402ad094b768fd101f3ae957876f0e7bece55676ca102e', '0776ff206989787bf5a95a35b33716b797efcded6bf71a9e75c1897c5a7ea9ca4f9fb654fe3eba1ebcec7d7911b2dd16')\n",
      "final_function_tuple\n",
      "(<function func_load at 0x7fa7187a7b50>, 'f84d1e9e761b9b7229bafdf522f347f04b88a65b40568d76f5402ad094b768fd101f3ae957876f0e7bece55676ca102e')\n",
      "Checking ('func_b', 0)... \n",
      "Not processing layer\n",
      "final_function_tuple\n",
      "(<function func_load at 0x7fa7187a7b50>, 'f84d1e9e761b9b7229bafdf522f347f04b88a65b40568d76f5402ad094b768fd101f3ae957876f0e7bece55676ca102e')\n",
      "Checking ('func_e', 0)... \n",
      "Checking func_tuple: (<function func_e at 0x7fa7187a7ac0>, ('func_d', 0), ('func_b', 0))\n",
      "Checking hash_tuple: ('4baeda9eda3c05b98d14b603cea2833cc5b4a3bf1e30cfca90dcaf4f24c9079ea33349840fb93b07c3585cf685dfb2d9', 'cb80d2d47c2253c5110d99cd49bd5308f0ab7403145a1cefde85d79c3b3ad8671ea95ad61aa491d14b0a09df330a6385')\n",
      "Need to think about how to do this, but for now just check first hash\n",
      "final_function_tuple\n",
      "(<function func_load at 0x7fa7187a7b50>, '4baeda9eda3c05b98d14b603cea2833cc5b4a3bf1e30cfca90dcaf4f24c9079ea33349840fb93b07c3585cf685dfb2d9')\n",
      "{('func_a-func_b', 0): (<function func_load at 0x7fa7187a7b50>,\n",
      "                        'f84d1e9e761b9b7229bafdf522f347f04b88a65b40568d76f5402ad094b768fd101f3ae957876f0e7bece55676ca102e'),\n",
      " ('func_b', 0): ('func_a-func_b', 0),\n",
      " ('func_c-func_d', 0): (<function func_load at 0x7fa7187a7b50>,\n",
      "                        '4c082d6b9b9b918689b81a761abbaae92041057140553ca83e03c4665445a3e78b460e9f0eb8b205e0ef8cb4dd5567f7'),\n",
      " ('func_d', 0): ('func_c-func_d', 0),\n",
      " ('func_e', 0): (<function func_load at 0x7fa7187a7b50>,\n",
      "                 '4baeda9eda3c05b98d14b603cea2833cc5b4a3bf1e30cfca90dcaf4f24c9079ea33349840fb93b07c3585cf685dfb2d9')}\n",
      "{('func_a-func_b', 0): (<function func_load at 0x7fa7187a7b50>,\n",
      "                        'f84d1e9e761b9b7229bafdf522f347f04b88a65b40568d76f5402ad094b768fd101f3ae957876f0e7bece55676ca102e'),\n",
      " ('func_b', 0): ('func_a-func_b', 0),\n",
      " ('func_c-func_d', 0): (<function func_load at 0x7fa7187a7b50>,\n",
      "                        '4c082d6b9b9b918689b81a761abbaae92041057140553ca83e03c4665445a3e78b460e9f0eb8b205e0ef8cb4dd5567f7'),\n",
      " ('func_d', 0): ('func_c-func_d', 0),\n",
      " ('func_e', 0): (<function func_load at 0x7fa7187a7b50>,\n",
      "                 '4baeda9eda3c05b98d14b603cea2833cc5b4a3bf1e30cfca90dcaf4f24c9079ea33349840fb93b07c3585cf685dfb2d9')}\n"
     ]
    },
    {
     "data": {
      "text/plain": [
       "array([72])"
      ]
     },
     "execution_count": 15,
     "metadata": {},
     "output_type": "execute_result"
    }
   ],
   "source": [
    "original_graph_to_futures = client._graph_to_futures\n",
    "client._graph_to_futures = modified_graph_to_futures\n",
    "hash_list = []\n",
    "array.compute()"
   ]
  },
  {
   "cell_type": "code",
   "execution_count": 16,
   "metadata": {},
   "outputs": [],
   "source": [
    "client.close()"
   ]
  },
  {
   "cell_type": "markdown",
   "metadata": {},
   "source": [
    "### Example 9.2: Example with parquet"
   ]
  },
  {
   "cell_type": "code",
   "execution_count": 2,
   "metadata": {},
   "outputs": [],
   "source": [
    "from datetime import datetime\n",
    "from dask.distributed import Client\n",
    "from dask.highlevelgraph import HighLevelGraph\n",
    "import pprint\n",
    "import numpy as np\n",
    "from dask.array.core import Array\n",
    "import hashlib\n",
    "import copy\n",
    "import dask\n",
    "import dask.core\n",
    "from collections import defaultdict\n",
    "import glob\n",
    "import time\n",
    "import pandas as pd"
   ]
  },
  {
   "cell_type": "code",
   "execution_count": 3,
   "metadata": {},
   "outputs": [],
   "source": [
    "def func_a(x):\n",
    "    return x**2\n",
    "\n",
    "\n",
    "def func_b(x):\n",
    "    return x**3\n",
    "\n",
    "\n",
    "def func_c(x):\n",
    "    return x + 120\n",
    "\n",
    "\n",
    "def func_d(x):\n",
    "    return x + 14\n",
    "\n",
    "\n",
    "def func_e(x, y):\n",
    "    return x - y"
   ]
  },
  {
   "cell_type": "code",
   "execution_count": 4,
   "metadata": {},
   "outputs": [],
   "source": [
    "def save_to_parquet(filename: str, data: pd.DataFrame) -> pd.DataFrame:\n",
    "    \"\"\"Save data to Parquet file.\"\"\"\n",
    "    name = cache_location + \"/\" + filename + \".parquet\"\n",
    "    # ensure dataframe columns have names\n",
    "    if not all(isinstance(col, str) for col in data.columns):\n",
    "        data.columns = [f\"col_{i}\" for i in range(data.shape[1])]\n",
    "    data.to_parquet(name)\n",
    "    return data\n",
    "\n",
    "\n",
    "def load_from_parquet(filename: str) -> pd.DataFrame:\n",
    "    \"\"\"Load data from Parquet file.\"\"\"\n",
    "    name = cache_location + \"/\" + filename + \".parquet\"\n",
    "    return pd.read_parquet(name)"
   ]
  },
  {
   "cell_type": "code",
   "execution_count": 5,
   "metadata": {},
   "outputs": [],
   "source": [
    "# define highlevelgraph\n",
    "param_a = pd.DataFrame(np.array([2]))\n",
    "param_b = pd.DataFrame(np.array([2]))\n",
    "\n",
    "layers = {\n",
    "    \"func_a\": {\n",
    "        (\"func_a\", 0): (func_a, param_a),\n",
    "    },\n",
    "    \"func_b\": {\n",
    "        (\"func_b\", 0): (func_b, (\"func_a\", 0)),\n",
    "    },\n",
    "    \"func_c\": {\n",
    "        (\"func_c\", 0): (func_c, param_b),\n",
    "    },\n",
    "    \"func_d\": {\n",
    "        (\"func_d\", 0): (func_d, (\"func_c\", 0)),\n",
    "    },\n",
    "    \"func_e\": {\n",
    "        (\"func_e\", 0): (func_e, (\"func_d\", 0), (\"func_b\", 0)),\n",
    "    },\n",
    "}\n",
    "dependencies = {\n",
    "    \"func_a\": set(),\n",
    "    \"func_b\": {\"func_a\"},\n",
    "    \"func_c\": set(),\n",
    "    \"func_d\": {\"func_c\"},\n",
    "    \"func_e\": {\"func_b\", \"func_d\"},\n",
    "}\n",
    "\n",
    "hlg = HighLevelGraph(layers, dependencies)"
   ]
  },
  {
   "cell_type": "code",
   "execution_count": 6,
   "metadata": {},
   "outputs": [],
   "source": [
    "array = Array(hlg, \"func_e\", shape=(1,), dtype=list, chunks=(1,))"
   ]
  },
  {
   "cell_type": "code",
   "execution_count": 7,
   "metadata": {},
   "outputs": [
    {
     "data": {
      "image/svg+xml": [
       "<?xml version=\"1.0\" encoding=\"UTF-8\" standalone=\"no\"?>\n",
       "<!DOCTYPE svg PUBLIC \"-//W3C//DTD SVG 1.1//EN\"\n",
       " \"http://www.w3.org/Graphics/SVG/1.1/DTD/svg11.dtd\">\n",
       "<!-- Generated by graphviz version 6.0.2 (20221126.1951)\n",
       " -->\n",
       "<!-- Pages: 1 -->\n",
       "<svg width=\"180pt\" height=\"188pt\"\n",
       " viewBox=\"0.00 0.00 180.00 188.00\" xmlns=\"http://www.w3.org/2000/svg\" xmlns:xlink=\"http://www.w3.org/1999/xlink\">\n",
       "<g id=\"graph0\" class=\"graph\" transform=\"scale(1 1) rotate(0) translate(4 184)\">\n",
       "<polygon fill=\"white\" stroke=\"none\" points=\"-4,4 -4,-184 176,-184 176,4 -4,4\"/>\n",
       "<!-- 1012609739140064744 -->\n",
       "<g id=\"node1\" class=\"node\">\n",
       "<title>1012609739140064744</title>\n",
       "<g id=\"a_node1\"><a xlink:title=\"A Materialized Layer with 1 Tasks.&#10;\">\n",
       "<polygon fill=\"none\" stroke=\"black\" points=\"77,-36 0,-36 0,0 77,0 77,-36\"/>\n",
       "<text text-anchor=\"middle\" x=\"38.5\" y=\"-13\" font-family=\"Helvetica,sans-Serif\" font-size=\"20.00\">func_a</text>\n",
       "</a>\n",
       "</g>\n",
       "</g>\n",
       "<!-- 7763609895046858625 -->\n",
       "<g id=\"node2\" class=\"node\">\n",
       "<title>7763609895046858625</title>\n",
       "<g id=\"a_node2\"><a xlink:title=\"A Materialized Layer with 1 Tasks.&#10;\">\n",
       "<polygon fill=\"none\" stroke=\"black\" points=\"77,-108 0,-108 0,-72 77,-72 77,-108\"/>\n",
       "<text text-anchor=\"middle\" x=\"38.5\" y=\"-85\" font-family=\"Helvetica,sans-Serif\" font-size=\"20.00\">func_b</text>\n",
       "</a>\n",
       "</g>\n",
       "</g>\n",
       "<!-- 1012609739140064744&#45;&gt;7763609895046858625 -->\n",
       "<g id=\"edge1\" class=\"edge\">\n",
       "<title>1012609739140064744&#45;&gt;7763609895046858625</title>\n",
       "<path fill=\"none\" stroke=\"black\" d=\"M38.5,-36.3C38.5,-44.02 38.5,-53.29 38.5,-61.89\"/>\n",
       "<polygon fill=\"black\" stroke=\"black\" points=\"35,-61.9 38.5,-71.9 42,-61.9 35,-61.9\"/>\n",
       "</g>\n",
       "<!-- &#45;1744547878637773036 -->\n",
       "<g id=\"node5\" class=\"node\">\n",
       "<title>&#45;1744547878637773036</title>\n",
       "<g id=\"a_node5\"><a xlink:title=\"A Materialized Layer with 1 Tasks.&#10;Array Shape: (1,)&#10;Data Type: object&#10;Chunk Size: (1,)&#10;Chunk Type: numpy.ndarray&#10;\">\n",
       "<polygon fill=\"none\" stroke=\"black\" points=\"124,-180 47,-180 47,-144 124,-144 124,-180\"/>\n",
       "<text text-anchor=\"middle\" x=\"85.5\" y=\"-157\" font-family=\"Helvetica,sans-Serif\" font-size=\"20.00\">func_e</text>\n",
       "</a>\n",
       "</g>\n",
       "</g>\n",
       "<!-- 7763609895046858625&#45;&gt;&#45;1744547878637773036 -->\n",
       "<g id=\"edge3\" class=\"edge\">\n",
       "<title>7763609895046858625&#45;&gt;&#45;1744547878637773036</title>\n",
       "<path fill=\"none\" stroke=\"black\" d=\"M50.12,-108.3C55.64,-116.53 62.35,-126.52 68.43,-135.58\"/>\n",
       "<polygon fill=\"black\" stroke=\"black\" points=\"65.54,-137.54 74.02,-143.9 71.35,-133.64 65.54,-137.54\"/>\n",
       "</g>\n",
       "<!-- &#45;7292863760309470588 -->\n",
       "<g id=\"node3\" class=\"node\">\n",
       "<title>&#45;7292863760309470588</title>\n",
       "<g id=\"a_node3\"><a xlink:title=\"A Materialized Layer with 1 Tasks.&#10;\">\n",
       "<polygon fill=\"none\" stroke=\"black\" points=\"171,-36 96,-36 96,0 171,0 171,-36\"/>\n",
       "<text text-anchor=\"middle\" x=\"133.5\" y=\"-13\" font-family=\"Helvetica,sans-Serif\" font-size=\"20.00\">func_c</text>\n",
       "</a>\n",
       "</g>\n",
       "</g>\n",
       "<!-- 2851324488354187058 -->\n",
       "<g id=\"node4\" class=\"node\">\n",
       "<title>2851324488354187058</title>\n",
       "<g id=\"a_node4\"><a xlink:title=\"A Materialized Layer with 1 Tasks.&#10;\">\n",
       "<polygon fill=\"none\" stroke=\"black\" points=\"172,-108 95,-108 95,-72 172,-72 172,-108\"/>\n",
       "<text text-anchor=\"middle\" x=\"133.5\" y=\"-85\" font-family=\"Helvetica,sans-Serif\" font-size=\"20.00\">func_d</text>\n",
       "</a>\n",
       "</g>\n",
       "</g>\n",
       "<!-- &#45;7292863760309470588&#45;&gt;2851324488354187058 -->\n",
       "<g id=\"edge2\" class=\"edge\">\n",
       "<title>&#45;7292863760309470588&#45;&gt;2851324488354187058</title>\n",
       "<path fill=\"none\" stroke=\"black\" d=\"M133.5,-36.3C133.5,-44.02 133.5,-53.29 133.5,-61.89\"/>\n",
       "<polygon fill=\"black\" stroke=\"black\" points=\"130,-61.9 133.5,-71.9 137,-61.9 130,-61.9\"/>\n",
       "</g>\n",
       "<!-- 2851324488354187058&#45;&gt;&#45;1744547878637773036 -->\n",
       "<g id=\"edge4\" class=\"edge\">\n",
       "<title>2851324488354187058&#45;&gt;&#45;1744547878637773036</title>\n",
       "<path fill=\"none\" stroke=\"black\" d=\"M121.63,-108.3C116,-116.53 109.15,-126.52 102.93,-135.58\"/>\n",
       "<polygon fill=\"black\" stroke=\"black\" points=\"100,-133.67 97.23,-143.9 105.77,-137.63 100,-133.67\"/>\n",
       "</g>\n",
       "</g>\n",
       "</svg>\n"
      ],
      "text/plain": [
       "<graphviz.graphs.Digraph at 0x7fc9345e3220>"
      ]
     },
     "execution_count": 7,
     "metadata": {},
     "output_type": "execute_result"
    }
   ],
   "source": [
    "hlg.visualize()"
   ]
  },
  {
   "cell_type": "code",
   "execution_count": 8,
   "metadata": {},
   "outputs": [],
   "source": [
    "def generate_hash_from_value(value):\n",
    "    if isinstance(value, tuple):\n",
    "\n",
    "        # Catch when there is no left and right as at end of chain\n",
    "        if len(value) == 1:\n",
    "            left = value[0]\n",
    "            right = \"\"\n",
    "        else:\n",
    "            left = value[0]\n",
    "            right = value[1:]\n",
    "            if len(right) == 1:\n",
    "                right = right[0]\n",
    "\n",
    "        print(f\"left: {left}\")\n",
    "        print(f\"right: {right}\")\n",
    "\n",
    "        # Process left side\n",
    "        if callable(left):\n",
    "            left_name = left.__name__\n",
    "        else:\n",
    "            left_name = str(left)\n",
    "\n",
    "        # Process right side\n",
    "        if isinstance(right, tuple):\n",
    "            print(\"rerunning function\")\n",
    "            print(f\"left: {left}\")\n",
    "            print(f\"right: {right}\")\n",
    "            right_hash, this_tuple = generate_hash_from_value(right)\n",
    "        else:\n",
    "            if callable(right):\n",
    "                right_name = right.__name__\n",
    "            else:\n",
    "                right_name = str(right)\n",
    "            right_hash = right_name\n",
    "\n",
    "        # Combine the names/hashes for final hash\n",
    "        combined = left_name + right_hash\n",
    "        final_hash = hashlib.sha3_384(combined.encode()).hexdigest()\n",
    "        if \"this_tuple\" in locals():\n",
    "            hash_tuple = (final_hash, this_tuple)\n",
    "        else:\n",
    "            hash_tuple = final_hash\n",
    "\n",
    "        print(f\"hash inputs: {value}\")\n",
    "        print(f\"hash inputs: {left_name} + {right_hash}\")\n",
    "        print(f\"hash: {final_hash}\")\n",
    "        print(f\"hash tuple: {hash_tuple}\")\n",
    "\n",
    "        return final_hash, hash_tuple\n",
    "\n",
    "    # should in theory never reach here\n",
    "    return str(value), str(value)"
   ]
  },
  {
   "cell_type": "code",
   "execution_count": 9,
   "metadata": {},
   "outputs": [],
   "source": [
    "def modified_graph_to_futures(dsk, *args, **kwargs):\n",
    "    c = datetime.now()\n",
    "    print(\"Inside modified_graph_to_futures. Time = \" + c.strftime(\"%H:%M:%S\"))\n",
    "    if not isinstance(dsk, HighLevelGraph):\n",
    "        print(f\"Converted to HighLevelGraph\")\n",
    "        dsk = HighLevelGraph.from_collections(id(dsk), dsk, dependencies=dict())\n",
    "\n",
    "    info = dsk.to_dict()\n",
    "    pprint.pprint(info)\n",
    "    print(\"---------\")\n",
    "    key_list = info.keys()\n",
    "    sorted_keys = dask.core.toposort(info)\n",
    "    print(\"Processing keys in defined order\")\n",
    "    print(f\"original list order: {key_list}\")\n",
    "    print(f\"sorted key order: {sorted_keys}\")\n",
    "    print(\"---------\")\n",
    "    print(\"Looping over keys and calculating hashes\")\n",
    "    tmp_info = {}\n",
    "    for key in sorted_keys:\n",
    "        value = info[key]\n",
    "        hash_tuple = None\n",
    "        hash_base = None\n",
    "        value_for_hash = value\n",
    "        check_layer = True\n",
    "        print(f\"Key: {key}, Value: {value}\")\n",
    "        print(f\"Checking if tmp_keys: {tmp_info.keys()}, are in {value}\")\n",
    "        for t_key in tmp_info.keys():\n",
    "            if t_key in value:\n",
    "                print(f\"Found!\")\n",
    "                print(f\"{t_key} in {value}\")\n",
    "                index = value.index(t_key)\n",
    "\n",
    "                hash_base = tmp_info[t_key][\"hash\"]  # [index]\n",
    "                temp_list = list(value_for_hash)\n",
    "                temp_list[index] = hash_base\n",
    "                value_for_hash = tuple(temp_list)\n",
    "                print(hash_base)\n",
    "                print(value_for_hash)\n",
    "                print(index)\n",
    "            elif t_key == value:\n",
    "                print(f\"Found!\")\n",
    "                print(f\"{t_key} in {value}\")\n",
    "                hash_base = tmp_info[t_key][\"hash\"][0]\n",
    "                check_layer = False\n",
    "                hash_tuple = hash_base\n",
    "\n",
    "        if hash_tuple is None:\n",
    "            # Now we have the hash_base,\n",
    "            _, hash_tuple = generate_hash_from_value(value_for_hash)\n",
    "\n",
    "        tmp_info[key] = {\"value\": value, \"hash\": hash_tuple, \"check_layer\": check_layer}\n",
    "\n",
    "        print(\"---------\")\n",
    "\n",
    "    pprint.pprint(tmp_info)\n",
    "\n",
    "    # Now check layers that need to be checked, adding caching\n",
    "    tmp_2 = {}\n",
    "    for key in tmp_info.keys():\n",
    "        print(f\"Checking {key}... \")\n",
    "        # Now we check if hash exist at some location\n",
    "        input_func_tuple = tmp_info[key][\"value\"]\n",
    "        input_hash_tuple = tmp_info[key][\"hash\"]\n",
    "        if not tmp_info[key][\"check_layer\"]:\n",
    "            print(f\"Not processing layer\")\n",
    "            tmp_2[key] = input_func_tuple\n",
    "        else:\n",
    "            func_tuple = check_functions_and_hashes(input_func_tuple, input_hash_tuple)\n",
    "            tmp_2[key] = func_tuple\n",
    "\n",
    "        print(f\"final_function_tuple\")\n",
    "        print(f\"{func_tuple}\")\n",
    "\n",
    "    pprint.pprint(tmp_2)\n",
    "\n",
    "    dsk = HighLevelGraph.from_collections(id(tmp_2), tmp_2, dependencies=dict())\n",
    "    pprint.pprint(dsk.to_dict())\n",
    "\n",
    "    return original_graph_to_futures(dsk, *args, **kwargs)\n",
    "\n",
    "\n",
    "def check_functions_and_hashes(func_tuple, hash_tuple):\n",
    "    print(f\"Checking func_tuple: {func_tuple}\")\n",
    "    print(f\"Checking hash_tuple: {hash_tuple}\")\n",
    "    cached_files = glob.glob(cache_location + \"/*.parquet\")\n",
    "    cached_files = [c[c.rfind(\"/\") + 1 : -4] for c in cached_files]\n",
    "\n",
    "    if len(func_tuple) > 2:\n",
    "        print(\"Need to think about how to do this, but for now just check first hash\")\n",
    "        if hash_tuple[0] in cached_files:\n",
    "            return (load_from_parquet, hash_tuple[0])\n",
    "        else:\n",
    "            return (save_to_parquet, hash_tuple[0], (func_tuple))\n",
    "\n",
    "    # Get to the deepest level and replace\n",
    "\n",
    "    if isinstance(hash_tuple, tuple) and isinstance(func_tuple, tuple):\n",
    "        current_hash, nested_hash = hash_tuple\n",
    "        current_func, nested_func = func_tuple\n",
    "\n",
    "        if current_hash in cached_files:\n",
    "            return (load_from_parquet, current_hash)\n",
    "        else:\n",
    "            # Recursively process the nested tuple\n",
    "            modified_nested_func = check_functions_and_hashes(nested_func, nested_hash)\n",
    "            return (save_to_parquet, current_hash, (current_func, modified_nested_func))\n",
    "    else:\n",
    "        # Base case: No more nested tuples\n",
    "        if hash_tuple in cached_files:\n",
    "            return (load_from_parquet, hash_tuple)\n",
    "        else:\n",
    "            return (save_to_parquet, hash_tuple, (func_tuple))"
   ]
  },
  {
   "cell_type": "code",
   "execution_count": 10,
   "metadata": {},
   "outputs": [],
   "source": [
    "client = Client()"
   ]
  },
  {
   "cell_type": "code",
   "execution_count": 11,
   "metadata": {},
   "outputs": [],
   "source": [
    "cache_location = \"/users/ak18773/SWIFT_HEP/dask-dirac/examples/notebooks/data\""
   ]
  },
  {
   "cell_type": "code",
   "execution_count": 12,
   "metadata": {},
   "outputs": [
    {
     "name": "stdout",
     "output_type": "stream",
     "text": [
      "Inside modified_graph_to_futures. Time = 16:42:20\n",
      "Converted to HighLevelGraph\n",
      "{('func_a-func_b', 0): (<function func_b at 0x7fc8d005e9e0>,\n",
      "                        (<function func_a at 0x7fc945b0bb50>,    0\n",
      "0  2)),\n",
      " ('func_b', 0): ('func_a-func_b', 0),\n",
      " ('func_c-func_d', 0): (<function func_d at 0x7fc8d005eb00>,\n",
      "                        (<function func_c at 0x7fc8d005ea70>,    0\n",
      "0  2)),\n",
      " ('func_d', 0): ('func_c-func_d', 0),\n",
      " ('func_e', 0): (<function func_e at 0x7fc8d005eb90>,\n",
      "                 ('func_d', 0),\n",
      "                 ('func_b', 0))}\n",
      "---------\n",
      "Processing keys in defined order\n",
      "original list order: dict_keys([('func_e', 0), ('func_d', 0), ('func_b', 0), ('func_a-func_b', 0), ('func_c-func_d', 0)])\n",
      "sorted key order: [('func_c-func_d', 0), ('func_d', 0), ('func_a-func_b', 0), ('func_b', 0), ('func_e', 0)]\n",
      "---------\n",
      "Looping over keys and calculating hashes\n",
      "Key: ('func_c-func_d', 0), Value: (<function func_d at 0x7fc8d005eb00>, (<function func_c at 0x7fc8d005ea70>,    0\n",
      "0  2))\n",
      "Checking if tmp_keys: dict_keys([]), are in (<function func_d at 0x7fc8d005eb00>, (<function func_c at 0x7fc8d005ea70>,    0\n",
      "0  2))\n",
      "left: <function func_d at 0x7fc8d005eb00>\n",
      "right: (<function func_c at 0x7fc8d005ea70>,    0\n",
      "0  2)\n",
      "rerunning function\n",
      "left: <function func_d at 0x7fc8d005eb00>\n",
      "right: (<function func_c at 0x7fc8d005ea70>,    0\n",
      "0  2)\n",
      "left: <function func_c at 0x7fc8d005ea70>\n",
      "right:    0\n",
      "0  2\n",
      "hash inputs: (<function func_c at 0x7fc8d005ea70>,    0\n",
      "0  2)\n",
      "hash inputs: func_c +    0\n",
      "0  2\n",
      "hash: 9a79e7cd6435c1111e86716ae9ab8e0acdb9badbb63387993054765dcc84c04edc5d2162ac0da567adef802e58b2d026\n",
      "hash tuple: 9a79e7cd6435c1111e86716ae9ab8e0acdb9badbb63387993054765dcc84c04edc5d2162ac0da567adef802e58b2d026\n",
      "hash inputs: (<function func_d at 0x7fc8d005eb00>, (<function func_c at 0x7fc8d005ea70>,    0\n",
      "0  2))\n",
      "hash inputs: func_d + 9a79e7cd6435c1111e86716ae9ab8e0acdb9badbb63387993054765dcc84c04edc5d2162ac0da567adef802e58b2d026\n",
      "hash: e38cf2f3f0c036a8052225a9e06613e360fd20d48a0b13083d00915bf03146d7c1ae0ec2b7fce32e51b3c57915b96ba6\n",
      "hash tuple: ('e38cf2f3f0c036a8052225a9e06613e360fd20d48a0b13083d00915bf03146d7c1ae0ec2b7fce32e51b3c57915b96ba6', '9a79e7cd6435c1111e86716ae9ab8e0acdb9badbb63387993054765dcc84c04edc5d2162ac0da567adef802e58b2d026')\n",
      "---------\n",
      "Key: ('func_d', 0), Value: ('func_c-func_d', 0)\n",
      "Checking if tmp_keys: dict_keys([('func_c-func_d', 0)]), are in ('func_c-func_d', 0)\n",
      "Found!\n",
      "('func_c-func_d', 0) in ('func_c-func_d', 0)\n",
      "---------\n",
      "Key: ('func_a-func_b', 0), Value: (<function func_b at 0x7fc8d005e9e0>, (<function func_a at 0x7fc945b0bb50>,    0\n",
      "0  2))\n",
      "Checking if tmp_keys: dict_keys([('func_c-func_d', 0), ('func_d', 0)]), are in (<function func_b at 0x7fc8d005e9e0>, (<function func_a at 0x7fc945b0bb50>,    0\n",
      "0  2))\n",
      "left: <function func_b at 0x7fc8d005e9e0>\n",
      "right: (<function func_a at 0x7fc945b0bb50>,    0\n",
      "0  2)\n",
      "rerunning function\n",
      "left: <function func_b at 0x7fc8d005e9e0>\n",
      "right: (<function func_a at 0x7fc945b0bb50>,    0\n",
      "0  2)\n",
      "left: <function func_a at 0x7fc945b0bb50>\n",
      "right:    0\n",
      "0  2\n",
      "hash inputs: (<function func_a at 0x7fc945b0bb50>,    0\n",
      "0  2)\n",
      "hash inputs: func_a +    0\n",
      "0  2\n",
      "hash: 1b8d0934b711028c7493b9c3311425cc1b8ee1675eee64767dfb76c8c4c712ef2dad0b49787f400bdb90025e51619b17\n",
      "hash tuple: 1b8d0934b711028c7493b9c3311425cc1b8ee1675eee64767dfb76c8c4c712ef2dad0b49787f400bdb90025e51619b17\n",
      "hash inputs: (<function func_b at 0x7fc8d005e9e0>, (<function func_a at 0x7fc945b0bb50>,    0\n",
      "0  2))\n",
      "hash inputs: func_b + 1b8d0934b711028c7493b9c3311425cc1b8ee1675eee64767dfb76c8c4c712ef2dad0b49787f400bdb90025e51619b17\n",
      "hash: 4bf35b108320d7310fa47a2757da3a6180e1a8086c7d05fb51e2f161028b1349908dd003a76707ba29b190f836561fe8\n",
      "hash tuple: ('4bf35b108320d7310fa47a2757da3a6180e1a8086c7d05fb51e2f161028b1349908dd003a76707ba29b190f836561fe8', '1b8d0934b711028c7493b9c3311425cc1b8ee1675eee64767dfb76c8c4c712ef2dad0b49787f400bdb90025e51619b17')\n",
      "---------\n",
      "Key: ('func_b', 0), Value: ('func_a-func_b', 0)\n",
      "Checking if tmp_keys: dict_keys([('func_c-func_d', 0), ('func_d', 0), ('func_a-func_b', 0)]), are in ('func_a-func_b', 0)\n",
      "Found!\n",
      "('func_a-func_b', 0) in ('func_a-func_b', 0)\n",
      "---------\n",
      "Key: ('func_e', 0), Value: (<function func_e at 0x7fc8d005eb90>, ('func_d', 0), ('func_b', 0))\n",
      "Checking if tmp_keys: dict_keys([('func_c-func_d', 0), ('func_d', 0), ('func_a-func_b', 0), ('func_b', 0)]), are in (<function func_e at 0x7fc8d005eb90>, ('func_d', 0), ('func_b', 0))\n",
      "Found!\n",
      "('func_d', 0) in (<function func_e at 0x7fc8d005eb90>, ('func_d', 0), ('func_b', 0))\n",
      "e38cf2f3f0c036a8052225a9e06613e360fd20d48a0b13083d00915bf03146d7c1ae0ec2b7fce32e51b3c57915b96ba6\n",
      "(<function func_e at 0x7fc8d005eb90>, 'e38cf2f3f0c036a8052225a9e06613e360fd20d48a0b13083d00915bf03146d7c1ae0ec2b7fce32e51b3c57915b96ba6', ('func_b', 0))\n",
      "1\n",
      "Found!\n",
      "('func_b', 0) in (<function func_e at 0x7fc8d005eb90>, ('func_d', 0), ('func_b', 0))\n",
      "4bf35b108320d7310fa47a2757da3a6180e1a8086c7d05fb51e2f161028b1349908dd003a76707ba29b190f836561fe8\n",
      "(<function func_e at 0x7fc8d005eb90>, 'e38cf2f3f0c036a8052225a9e06613e360fd20d48a0b13083d00915bf03146d7c1ae0ec2b7fce32e51b3c57915b96ba6', '4bf35b108320d7310fa47a2757da3a6180e1a8086c7d05fb51e2f161028b1349908dd003a76707ba29b190f836561fe8')\n",
      "2\n",
      "left: <function func_e at 0x7fc8d005eb90>\n",
      "right: ('e38cf2f3f0c036a8052225a9e06613e360fd20d48a0b13083d00915bf03146d7c1ae0ec2b7fce32e51b3c57915b96ba6', '4bf35b108320d7310fa47a2757da3a6180e1a8086c7d05fb51e2f161028b1349908dd003a76707ba29b190f836561fe8')\n",
      "rerunning function\n",
      "left: <function func_e at 0x7fc8d005eb90>\n",
      "right: ('e38cf2f3f0c036a8052225a9e06613e360fd20d48a0b13083d00915bf03146d7c1ae0ec2b7fce32e51b3c57915b96ba6', '4bf35b108320d7310fa47a2757da3a6180e1a8086c7d05fb51e2f161028b1349908dd003a76707ba29b190f836561fe8')\n",
      "left: e38cf2f3f0c036a8052225a9e06613e360fd20d48a0b13083d00915bf03146d7c1ae0ec2b7fce32e51b3c57915b96ba6\n",
      "right: 4bf35b108320d7310fa47a2757da3a6180e1a8086c7d05fb51e2f161028b1349908dd003a76707ba29b190f836561fe8\n",
      "hash inputs: ('e38cf2f3f0c036a8052225a9e06613e360fd20d48a0b13083d00915bf03146d7c1ae0ec2b7fce32e51b3c57915b96ba6', '4bf35b108320d7310fa47a2757da3a6180e1a8086c7d05fb51e2f161028b1349908dd003a76707ba29b190f836561fe8')\n",
      "hash inputs: e38cf2f3f0c036a8052225a9e06613e360fd20d48a0b13083d00915bf03146d7c1ae0ec2b7fce32e51b3c57915b96ba6 + 4bf35b108320d7310fa47a2757da3a6180e1a8086c7d05fb51e2f161028b1349908dd003a76707ba29b190f836561fe8\n",
      "hash: c56db5ee5c54fa0564a8e72d2d7bcfb13737b20f3928947c5fd626715456f308bc04944e3883eddf63666211181be4fa\n",
      "hash tuple: c56db5ee5c54fa0564a8e72d2d7bcfb13737b20f3928947c5fd626715456f308bc04944e3883eddf63666211181be4fa\n",
      "hash inputs: (<function func_e at 0x7fc8d005eb90>, 'e38cf2f3f0c036a8052225a9e06613e360fd20d48a0b13083d00915bf03146d7c1ae0ec2b7fce32e51b3c57915b96ba6', '4bf35b108320d7310fa47a2757da3a6180e1a8086c7d05fb51e2f161028b1349908dd003a76707ba29b190f836561fe8')\n",
      "hash inputs: func_e + c56db5ee5c54fa0564a8e72d2d7bcfb13737b20f3928947c5fd626715456f308bc04944e3883eddf63666211181be4fa\n",
      "hash: 9c703cb606cbb85d93ab0d0bbfe106568eaf1ebaccfcac60d3e6cc1eec559c140976aba47c3eff5930c6f95c1263c050\n",
      "hash tuple: ('9c703cb606cbb85d93ab0d0bbfe106568eaf1ebaccfcac60d3e6cc1eec559c140976aba47c3eff5930c6f95c1263c050', 'c56db5ee5c54fa0564a8e72d2d7bcfb13737b20f3928947c5fd626715456f308bc04944e3883eddf63666211181be4fa')\n",
      "---------\n",
      "{('func_a-func_b', 0): {'check_layer': True,\n",
      "                        'hash': ('4bf35b108320d7310fa47a2757da3a6180e1a8086c7d05fb51e2f161028b1349908dd003a76707ba29b190f836561fe8',\n",
      "                                 '1b8d0934b711028c7493b9c3311425cc1b8ee1675eee64767dfb76c8c4c712ef2dad0b49787f400bdb90025e51619b17'),\n",
      "                        'value': (<function func_b at 0x7fc8d005e9e0>,\n",
      "                                  (<function func_a at 0x7fc945b0bb50>,\n",
      "                                      0\n",
      "0  2))},\n",
      " ('func_b', 0): {'check_layer': False,\n",
      "                 'hash': '4bf35b108320d7310fa47a2757da3a6180e1a8086c7d05fb51e2f161028b1349908dd003a76707ba29b190f836561fe8',\n",
      "                 'value': ('func_a-func_b', 0)},\n",
      " ('func_c-func_d', 0): {'check_layer': True,\n",
      "                        'hash': ('e38cf2f3f0c036a8052225a9e06613e360fd20d48a0b13083d00915bf03146d7c1ae0ec2b7fce32e51b3c57915b96ba6',\n",
      "                                 '9a79e7cd6435c1111e86716ae9ab8e0acdb9badbb63387993054765dcc84c04edc5d2162ac0da567adef802e58b2d026'),\n",
      "                        'value': (<function func_d at 0x7fc8d005eb00>,\n",
      "                                  (<function func_c at 0x7fc8d005ea70>,\n",
      "                                      0\n",
      "0  2))},\n",
      " ('func_d', 0): {'check_layer': False,\n",
      "                 'hash': 'e38cf2f3f0c036a8052225a9e06613e360fd20d48a0b13083d00915bf03146d7c1ae0ec2b7fce32e51b3c57915b96ba6',\n",
      "                 'value': ('func_c-func_d', 0)},\n",
      " ('func_e', 0): {'check_layer': True,\n",
      "                 'hash': ('9c703cb606cbb85d93ab0d0bbfe106568eaf1ebaccfcac60d3e6cc1eec559c140976aba47c3eff5930c6f95c1263c050',\n",
      "                          'c56db5ee5c54fa0564a8e72d2d7bcfb13737b20f3928947c5fd626715456f308bc04944e3883eddf63666211181be4fa'),\n",
      "                 'value': (<function func_e at 0x7fc8d005eb90>,\n",
      "                           ('func_d', 0),\n",
      "                           ('func_b', 0))}}\n",
      "Checking ('func_c-func_d', 0)... \n",
      "Checking func_tuple: (<function func_d at 0x7fc8d005eb00>, (<function func_c at 0x7fc8d005ea70>,    0\n",
      "0  2))\n",
      "Checking hash_tuple: ('e38cf2f3f0c036a8052225a9e06613e360fd20d48a0b13083d00915bf03146d7c1ae0ec2b7fce32e51b3c57915b96ba6', '9a79e7cd6435c1111e86716ae9ab8e0acdb9badbb63387993054765dcc84c04edc5d2162ac0da567adef802e58b2d026')\n",
      "Checking func_tuple: (<function func_c at 0x7fc8d005ea70>,    0\n",
      "0  2)\n",
      "Checking hash_tuple: 9a79e7cd6435c1111e86716ae9ab8e0acdb9badbb63387993054765dcc84c04edc5d2162ac0da567adef802e58b2d026\n",
      "final_function_tuple\n",
      "(<function save_to_parquet at 0x7fc8d005ee60>, 'e38cf2f3f0c036a8052225a9e06613e360fd20d48a0b13083d00915bf03146d7c1ae0ec2b7fce32e51b3c57915b96ba6', (<function func_d at 0x7fc8d005eb00>, (<function save_to_parquet at 0x7fc8d005ee60>, '9a79e7cd6435c1111e86716ae9ab8e0acdb9badbb63387993054765dcc84c04edc5d2162ac0da567adef802e58b2d026', (<function func_c at 0x7fc8d005ea70>,    0\n",
      "0  2))))\n",
      "Checking ('func_d', 0)... \n",
      "Not processing layer\n",
      "final_function_tuple\n",
      "(<function save_to_parquet at 0x7fc8d005ee60>, 'e38cf2f3f0c036a8052225a9e06613e360fd20d48a0b13083d00915bf03146d7c1ae0ec2b7fce32e51b3c57915b96ba6', (<function func_d at 0x7fc8d005eb00>, (<function save_to_parquet at 0x7fc8d005ee60>, '9a79e7cd6435c1111e86716ae9ab8e0acdb9badbb63387993054765dcc84c04edc5d2162ac0da567adef802e58b2d026', (<function func_c at 0x7fc8d005ea70>,    0\n",
      "0  2))))\n",
      "Checking ('func_a-func_b', 0)... \n",
      "Checking func_tuple: (<function func_b at 0x7fc8d005e9e0>, (<function func_a at 0x7fc945b0bb50>,    0\n",
      "0  2))\n",
      "Checking hash_tuple: ('4bf35b108320d7310fa47a2757da3a6180e1a8086c7d05fb51e2f161028b1349908dd003a76707ba29b190f836561fe8', '1b8d0934b711028c7493b9c3311425cc1b8ee1675eee64767dfb76c8c4c712ef2dad0b49787f400bdb90025e51619b17')\n",
      "Checking func_tuple: (<function func_a at 0x7fc945b0bb50>,    0\n",
      "0  2)\n",
      "Checking hash_tuple: 1b8d0934b711028c7493b9c3311425cc1b8ee1675eee64767dfb76c8c4c712ef2dad0b49787f400bdb90025e51619b17\n",
      "final_function_tuple\n",
      "(<function save_to_parquet at 0x7fc8d005ee60>, '4bf35b108320d7310fa47a2757da3a6180e1a8086c7d05fb51e2f161028b1349908dd003a76707ba29b190f836561fe8', (<function func_b at 0x7fc8d005e9e0>, (<function save_to_parquet at 0x7fc8d005ee60>, '1b8d0934b711028c7493b9c3311425cc1b8ee1675eee64767dfb76c8c4c712ef2dad0b49787f400bdb90025e51619b17', (<function func_a at 0x7fc945b0bb50>,    0\n",
      "0  2))))\n",
      "Checking ('func_b', 0)... \n",
      "Not processing layer\n",
      "final_function_tuple\n",
      "(<function save_to_parquet at 0x7fc8d005ee60>, '4bf35b108320d7310fa47a2757da3a6180e1a8086c7d05fb51e2f161028b1349908dd003a76707ba29b190f836561fe8', (<function func_b at 0x7fc8d005e9e0>, (<function save_to_parquet at 0x7fc8d005ee60>, '1b8d0934b711028c7493b9c3311425cc1b8ee1675eee64767dfb76c8c4c712ef2dad0b49787f400bdb90025e51619b17', (<function func_a at 0x7fc945b0bb50>,    0\n",
      "0  2))))\n",
      "Checking ('func_e', 0)... \n",
      "Checking func_tuple: (<function func_e at 0x7fc8d005eb90>, ('func_d', 0), ('func_b', 0))\n",
      "Checking hash_tuple: ('9c703cb606cbb85d93ab0d0bbfe106568eaf1ebaccfcac60d3e6cc1eec559c140976aba47c3eff5930c6f95c1263c050', 'c56db5ee5c54fa0564a8e72d2d7bcfb13737b20f3928947c5fd626715456f308bc04944e3883eddf63666211181be4fa')\n",
      "Need to think about how to do this, but for now just check first hash\n",
      "final_function_tuple\n",
      "(<function save_to_parquet at 0x7fc8d005ee60>, '9c703cb606cbb85d93ab0d0bbfe106568eaf1ebaccfcac60d3e6cc1eec559c140976aba47c3eff5930c6f95c1263c050', (<function func_e at 0x7fc8d005eb90>, ('func_d', 0), ('func_b', 0)))\n",
      "{('func_a-func_b', 0): (<function save_to_parquet at 0x7fc8d005ee60>,\n",
      "                        '4bf35b108320d7310fa47a2757da3a6180e1a8086c7d05fb51e2f161028b1349908dd003a76707ba29b190f836561fe8',\n",
      "                        (<function func_b at 0x7fc8d005e9e0>,\n",
      "                         (<function save_to_parquet at 0x7fc8d005ee60>,\n",
      "                          '1b8d0934b711028c7493b9c3311425cc1b8ee1675eee64767dfb76c8c4c712ef2dad0b49787f400bdb90025e51619b17',\n",
      "                          (<function func_a at 0x7fc945b0bb50>,    0\n",
      "0  2)))),\n",
      " ('func_b', 0): ('func_a-func_b', 0),\n",
      " ('func_c-func_d', 0): (<function save_to_parquet at 0x7fc8d005ee60>,\n",
      "                        'e38cf2f3f0c036a8052225a9e06613e360fd20d48a0b13083d00915bf03146d7c1ae0ec2b7fce32e51b3c57915b96ba6',\n",
      "                        (<function func_d at 0x7fc8d005eb00>,\n",
      "                         (<function save_to_parquet at 0x7fc8d005ee60>,\n",
      "                          '9a79e7cd6435c1111e86716ae9ab8e0acdb9badbb63387993054765dcc84c04edc5d2162ac0da567adef802e58b2d026',\n",
      "                          (<function func_c at 0x7fc8d005ea70>,    0\n",
      "0  2)))),\n",
      " ('func_d', 0): ('func_c-func_d', 0),\n",
      " ('func_e', 0): (<function save_to_parquet at 0x7fc8d005ee60>,\n",
      "                 '9c703cb606cbb85d93ab0d0bbfe106568eaf1ebaccfcac60d3e6cc1eec559c140976aba47c3eff5930c6f95c1263c050',\n",
      "                 (<function func_e at 0x7fc8d005eb90>,\n",
      "                  ('func_d', 0),\n",
      "                  ('func_b', 0)))}\n",
      "{('func_a-func_b', 0): (<function save_to_parquet at 0x7fc8d005ee60>,\n",
      "                        '4bf35b108320d7310fa47a2757da3a6180e1a8086c7d05fb51e2f161028b1349908dd003a76707ba29b190f836561fe8',\n",
      "                        (<function func_b at 0x7fc8d005e9e0>,\n",
      "                         (<function save_to_parquet at 0x7fc8d005ee60>,\n",
      "                          '1b8d0934b711028c7493b9c3311425cc1b8ee1675eee64767dfb76c8c4c712ef2dad0b49787f400bdb90025e51619b17',\n",
      "                          (<function func_a at 0x7fc945b0bb50>,    0\n",
      "0  2)))),\n",
      " ('func_b', 0): ('func_a-func_b', 0),\n",
      " ('func_c-func_d', 0): (<function save_to_parquet at 0x7fc8d005ee60>,\n",
      "                        'e38cf2f3f0c036a8052225a9e06613e360fd20d48a0b13083d00915bf03146d7c1ae0ec2b7fce32e51b3c57915b96ba6',\n",
      "                        (<function func_d at 0x7fc8d005eb00>,\n",
      "                         (<function save_to_parquet at 0x7fc8d005ee60>,\n",
      "                          '9a79e7cd6435c1111e86716ae9ab8e0acdb9badbb63387993054765dcc84c04edc5d2162ac0da567adef802e58b2d026',\n",
      "                          (<function func_c at 0x7fc8d005ea70>,    0\n",
      "0  2)))),\n",
      " ('func_d', 0): ('func_c-func_d', 0),\n",
      " ('func_e', 0): (<function save_to_parquet at 0x7fc8d005ee60>,\n",
      "                 '9c703cb606cbb85d93ab0d0bbfe106568eaf1ebaccfcac60d3e6cc1eec559c140976aba47c3eff5930c6f95c1263c050',\n",
      "                 (<function func_e at 0x7fc8d005eb90>,\n",
      "                  ('func_d', 0),\n",
      "                  ('func_b', 0)))}\n"
     ]
    }
   ],
   "source": [
    "if \"cache_location\" not in locals():\n",
    "    print(\"cache_location not defined. Not running\")\n",
    "else:\n",
    "    original_graph_to_futures = client._graph_to_futures\n",
    "    client._graph_to_futures = modified_graph_to_futures\n",
    "    b = array.compute()"
   ]
  },
  {
   "cell_type": "code",
   "execution_count": 15,
   "metadata": {},
   "outputs": [],
   "source": [
    "client.close()"
   ]
  }
 ],
 "metadata": {
  "kernelspec": {
   "display_name": "dask_dirac",
   "language": "python",
   "name": "python3"
  },
  "language_info": {
   "codemirror_mode": {
    "name": "ipython",
    "version": 3
   },
   "file_extension": ".py",
   "mimetype": "text/x-python",
   "name": "python",
   "nbconvert_exporter": "python",
   "pygments_lexer": "ipython3",
   "version": "3.10.9"
  }
 },
 "nbformat": 4,
 "nbformat_minor": 2
}
