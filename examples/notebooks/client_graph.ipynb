{
 "cells": [
  {
   "cell_type": "markdown",
   "metadata": {},
   "source": [
    "# Client Graph\n",
    "Notebook to manipulate a dask graph at the client stage."
   ]
  },
  {
   "cell_type": "markdown",
   "metadata": {},
   "source": [
    "## Example 1: Edit submit method"
   ]
  },
  {
   "cell_type": "code",
   "execution_count": null,
   "metadata": {},
   "outputs": [],
   "source": [
    "from dask.distributed import Client\n",
    "import types\n",
    "\n",
    "# Create a Dask client\n",
    "client = Client()\n",
    "\n",
    "original_submit = client.submit"
   ]
  },
  {
   "cell_type": "code",
   "execution_count": null,
   "metadata": {},
   "outputs": [],
   "source": [
    "def modified_submit(*args, **kwargs):\n",
    "    print(\"Entered Submit\")\n",
    "    print(\"Party if it works\")\n",
    "    return original_submit(*args, **kwargs)"
   ]
  },
  {
   "cell_type": "code",
   "execution_count": null,
   "metadata": {},
   "outputs": [],
   "source": [
    "client.submit = modified_submit"
   ]
  },
  {
   "cell_type": "code",
   "execution_count": null,
   "metadata": {},
   "outputs": [],
   "source": [
    "def neg(x):\n",
    "    return -x\n",
    "\n",
    "\n",
    "client.submit(neg, 3)"
   ]
  },
  {
   "cell_type": "markdown",
   "metadata": {},
   "source": [
    "## Example 2: Edit collections_to_dsk method"
   ]
  },
  {
   "cell_type": "code",
   "execution_count": 1,
   "metadata": {},
   "outputs": [],
   "source": [
    "from dask.distributed import Client\n",
    "import dask\n",
    "import dask.array as da\n",
    "\n",
    "from datetime import datetime\n",
    "\n",
    "client = Client()\n",
    "\n",
    "original_collections_to_dsk = client.collections_to_dsk"
   ]
  },
  {
   "cell_type": "code",
   "execution_count": 14,
   "metadata": {},
   "outputs": [
    {
     "name": "stdout",
     "output_type": "stream",
     "text": [
      "collections_to_dsk method has been replaced\n"
     ]
    }
   ],
   "source": [
    "def myFunc(collections, *args, **kwargs):\n",
    "    c = datetime.now()\n",
    "    print(\"Inside myFunc. Time = \" + c.strftime(\"%H:%M:%S\"))\n",
    "    print(\"Dask Graph Tasks\")\n",
    "    for collection in collections:\n",
    "        print(f\"Task Name: {collection.name}\")\n",
    "    print(\"-----------------\\n\")\n",
    "\n",
    "    return original_collections_to_dsk(collections, *args, **kwargs)\n",
    "\n",
    "\n",
    "client.collections_to_dsk = myFunc\n",
    "print(\"collections_to_dsk method has been replaced\")"
   ]
  },
  {
   "cell_type": "code",
   "execution_count": 8,
   "metadata": {},
   "outputs": [],
   "source": [
    "import dask.array as da\n",
    "\n",
    "x = da.ones((1000, 1000), chunks=(100, 100))\n",
    "y = x + 1\n",
    "z = y.mean()"
   ]
  },
  {
   "cell_type": "code",
   "execution_count": 15,
   "metadata": {},
   "outputs": [
    {
     "name": "stdout",
     "output_type": "stream",
     "text": [
      "Inside myFunc. Time = 19:47:32\n",
      "Dask Graph Tasks\n",
      "Task Name: mean_agg-aggregate-c50263a0ad47c330577b3058195ad928\n",
      "-----------------\n",
      "\n"
     ]
    }
   ],
   "source": [
    "result = client.compute(z)"
   ]
  },
  {
   "cell_type": "code",
   "execution_count": null,
   "metadata": {},
   "outputs": [],
   "source": []
  }
 ],
 "metadata": {
  "kernelspec": {
   "display_name": "dask_dirac",
   "language": "python",
   "name": "python3"
  },
  "language_info": {
   "codemirror_mode": {
    "name": "ipython",
    "version": 3
   },
   "file_extension": ".py",
   "mimetype": "text/x-python",
   "name": "python",
   "nbconvert_exporter": "python",
   "pygments_lexer": "ipython3",
   "version": "3.10.9"
  }
 },
 "nbformat": 4,
 "nbformat_minor": 2
}
