{
 "cells": [
  {
   "cell_type": "markdown",
   "source": [
    "# Scheduler Plugin\n",
    "Basic example for using a scheduler plugin.\n",
    "The plugin records how many tasks have run."
   ],
   "metadata": {
    "collapsed": false
   },
   "id": "75e64da54f42b44f"
  },
  {
   "cell_type": "code",
   "outputs": [],
   "source": [
    "from distributed import Client, LocalCluster\n",
    "from distributed.diagnostics.plugin import SchedulerPlugin"
   ],
   "metadata": {
    "collapsed": false,
    "ExecuteTime": {
     "end_time": "2024-03-11T15:37:16.961728Z",
     "start_time": "2024-03-11T15:37:16.691394Z"
    }
   },
   "id": "242f50c08f72e03f",
   "execution_count": 1
  },
  {
   "cell_type": "code",
   "outputs": [],
   "source": [
    "class MyPlugin(SchedulerPlugin):\n",
    "    def __init__(self):\n",
    "        self.task_counter = 0\n",
    "\n",
    "    def transition(self, key, start, finish, *args, **kwargs):\n",
    "        if start == \"processing\" and finish == \"memory\":\n",
    "            self.task_counter += 1\n",
    "\n",
    "    def get_task_count(self):\n",
    "        return self.task_counter"
   ],
   "metadata": {
    "collapsed": false,
    "ExecuteTime": {
     "end_time": "2024-03-11T15:37:16.968200Z",
     "start_time": "2024-03-11T15:37:16.963461Z"
    }
   },
   "id": "aded553f9c11b11c",
   "execution_count": 2
  },
  {
   "cell_type": "code",
   "outputs": [],
   "source": [
    "plugin = MyPlugin()"
   ],
   "metadata": {
    "collapsed": false,
    "ExecuteTime": {
     "end_time": "2024-03-11T15:37:18.023039Z",
     "start_time": "2024-03-11T15:37:18.019540Z"
    }
   },
   "id": "5a6c50364efb4d3c",
   "execution_count": 3
  },
  {
   "cell_type": "code",
   "outputs": [],
   "source": [
    "cluster = LocalCluster()"
   ],
   "metadata": {
    "collapsed": false,
    "ExecuteTime": {
     "end_time": "2024-03-11T15:37:19.461919Z",
     "start_time": "2024-03-11T15:37:18.246176Z"
    }
   },
   "id": "b7e439ee9ac18e75",
   "execution_count": 4
  },
  {
   "cell_type": "code",
   "outputs": [],
   "source": [
    "scheduler = cluster.scheduler"
   ],
   "metadata": {
    "collapsed": false,
    "ExecuteTime": {
     "end_time": "2024-03-11T15:37:19.486753Z",
     "start_time": "2024-03-11T15:37:19.482335Z"
    }
   },
   "id": "31ac6f1bbadab12",
   "execution_count": 5
  },
  {
   "cell_type": "code",
   "outputs": [],
   "source": [
    "scheduler.add_plugin(plugin)"
   ],
   "metadata": {
    "collapsed": false,
    "ExecuteTime": {
     "end_time": "2024-03-11T15:37:31.031142Z",
     "start_time": "2024-03-11T15:37:31.027431Z"
    }
   },
   "id": "6a6e45926ad592ca",
   "execution_count": 6
  },
  {
   "cell_type": "code",
   "outputs": [],
   "source": [
    "cluster.scale(1)"
   ],
   "metadata": {
    "collapsed": false,
    "ExecuteTime": {
     "end_time": "2024-03-11T15:37:31.651432Z",
     "start_time": "2024-03-11T15:37:31.644192Z"
    }
   },
   "id": "8526fb71945984f8",
   "execution_count": 7
  },
  {
   "cell_type": "code",
   "outputs": [],
   "source": [
    "client = Client(cluster)"
   ],
   "metadata": {
    "collapsed": false,
    "ExecuteTime": {
     "end_time": "2024-03-11T15:38:02.528414Z",
     "start_time": "2024-03-11T15:38:02.518488Z"
    }
   },
   "id": "e7a6dbed5ed1d3b9",
   "execution_count": 10
  },
  {
   "cell_type": "code",
   "outputs": [
    {
     "name": "stdout",
     "output_type": "stream",
     "text": [
      "0\n",
      "0\n"
     ]
    }
   ],
   "source": [
    "print(plugin.task_counter)\n",
    "print(plugin.get_task_count())"
   ],
   "metadata": {
    "collapsed": false,
    "ExecuteTime": {
     "end_time": "2024-03-11T15:38:03.322718Z",
     "start_time": "2024-03-11T15:38:03.319350Z"
    }
   },
   "id": "29a87bc958dee494",
   "execution_count": 11
  },
  {
   "cell_type": "code",
   "outputs": [
    {
     "name": "stdout",
     "output_type": "stream",
     "text": [
      "0 1 1\n",
      "1 2 2\n",
      "2 3 3\n",
      "3 4 4\n",
      "4 5 5\n",
      "5 6 6\n",
      "6 7 7\n",
      "7 8 8\n",
      "8 9 9\n",
      "9 10 10\n"
     ]
    }
   ],
   "source": [
    "for i in range(10):\n",
    "    x = client.submit(lambda x: x + 1, i)\n",
    "    result = x.result()\n",
    "    print(i, plugin.task_counter, plugin.get_task_count())"
   ],
   "metadata": {
    "collapsed": false,
    "ExecuteTime": {
     "end_time": "2024-03-11T15:38:06.464816Z",
     "start_time": "2024-03-11T15:38:06.324840Z"
    }
   },
   "id": "77691e339e4430fb",
   "execution_count": 12
  },
  {
   "cell_type": "code",
   "outputs": [],
   "source": [],
   "metadata": {
    "collapsed": false
   },
   "id": "b3a751f11b41a5a8"
  }
 ],
 "metadata": {
  "kernelspec": {
   "display_name": "Python 3",
   "language": "python",
   "name": "python3"
  },
  "language_info": {
   "codemirror_mode": {
    "name": "ipython",
    "version": 2
   },
   "file_extension": ".py",
   "mimetype": "text/x-python",
   "name": "python",
   "nbconvert_exporter": "python",
   "pygments_lexer": "ipython2",
   "version": "2.7.6"
  }
 },
 "nbformat": 4,
 "nbformat_minor": 5
}
