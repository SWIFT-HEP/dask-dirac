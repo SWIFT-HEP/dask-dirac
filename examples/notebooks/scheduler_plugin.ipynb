{
 "cells": [
  {
   "cell_type": "markdown",
   "source": [
    "# Scheduler Plugin\n",
    "Basic example for using a scheduler plugin.\n",
    "The plugin records how many tasks have run."
   ],
   "metadata": {
    "collapsed": false
   },
   "id": "75e64da54f42b44f"
  },
  {
   "cell_type": "code",
   "outputs": [],
   "source": [
    "from distributed import Client, LocalCluster\n",
    "from distributed.diagnostics.plugin import SchedulerPlugin"
   ],
   "metadata": {
    "collapsed": false
   },
   "id": "242f50c08f72e03f"
  },
  {
   "cell_type": "code",
   "outputs": [],
   "source": [
    "class MyPlugin(SchedulerPlugin):\n",
    "    def __init__(self):\n",
    "        self.task_counter = 0\n",
    "\n",
    "    def transition(self, key, start, finish, *args, **kwargs):\n",
    "        if start == 'processing' and finish == 'memory':\n",
    "            self.task_counter += 1\n",
    "\n",
    "    def get_task_count(self):\n",
    "        return self.task_counter"
   ],
   "metadata": {
    "collapsed": false
   },
   "id": "aded553f9c11b11c"
  },
  {
   "cell_type": "code",
   "outputs": [],
   "source": [
    "plugin = MyPlugin() "
   ],
   "metadata": {
    "collapsed": false
   },
   "id": "5a6c50364efb4d3c"
  },
  {
   "cell_type": "code",
   "outputs": [],
   "source": [
    "cluster = LocalCluster()"
   ],
   "metadata": {
    "collapsed": false
   },
   "id": "b7e439ee9ac18e75"
  },
  {
   "cell_type": "code",
   "outputs": [],
   "source": [
    "scheduler = cluster.scheduler"
   ],
   "metadata": {
    "collapsed": false
   },
   "id": "31ac6f1bbadab12"
  },
  {
   "cell_type": "code",
   "outputs": [],
   "source": [
    "scheduler.add_plugin(plugin)"
   ],
   "metadata": {
    "collapsed": false
   },
   "id": "6a6e45926ad592ca"
  },
  {
   "cell_type": "code",
   "outputs": [],
   "source": [
    "cluster.scale(1)"
   ],
   "metadata": {
    "collapsed": false
   },
   "id": "8526fb71945984f8"
  },
  {
   "cell_type": "code",
   "outputs": [],
   "source": [
    "plugin.task_counter"
   ],
   "metadata": {
    "collapsed": false
   },
   "id": "29a87bc958dee494"
  },
  {
   "cell_type": "code",
   "outputs": [],
   "source": [
    "for i in range(10):\n",
    "    x = client.submit(lambda x: x + 1, i)\n",
    "    result = x.result()\n",
    "    print(i, plugin.task_counter)"
   ],
   "metadata": {
    "collapsed": false
   },
   "id": "77691e339e4430fb"
  }
 ],
 "metadata": {
  "kernelspec": {
   "display_name": "Python 3",
   "language": "python",
   "name": "python3"
  },
  "language_info": {
   "codemirror_mode": {
    "name": "ipython",
    "version": 2
   },
   "file_extension": ".py",
   "mimetype": "text/x-python",
   "name": "python",
   "nbconvert_exporter": "python",
   "pygments_lexer": "ipython2",
   "version": "2.7.6"
  }
 },
 "nbformat": 4,
 "nbformat_minor": 5
}
