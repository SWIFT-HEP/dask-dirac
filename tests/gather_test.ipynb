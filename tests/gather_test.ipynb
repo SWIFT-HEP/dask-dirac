{
 "cells": [
  {
   "cell_type": "markdown",
   "source": [
    "# Gather Test\n",
    "Start a scheduler and submit workers to GridPP and test is dask gather stage works.\n",
    "If that works then a complex analysis has no reason not to.\n",
    "Example here follows more or less dask example: https://distributed.dask.org/en/stable/quickstart.html"
   ],
   "metadata": {
    "collapsed": false
   }
  },
  {
   "cell_type": "code",
   "execution_count": null,
   "outputs": [],
   "source": [
    "from dask_dirac import DiracCluster\n",
    "from dask.distributed import Client"
   ],
   "metadata": {
    "collapsed": false
   }
  },
  {
   "cell_type": "code",
   "execution_count": 2,
   "metadata": {},
   "outputs": [],
   "source": [
    "cluster = DiracCluster(\n",
    "    cores=8,\n",
    "    memory=\"24GB\",\n",
    "    scheduler_options={\"port\": 8786},\n",
    "    dirac_site=\"LCG.UKI-SOUTHGRID-RALPP.uk\",\n",
    "    cert_path=\"/users/ak18773/SWIFT_HEP/dev_dirac/diracos/etc/grid-security/certificates\",\n",
    "    owner_group=\"gridpp_user\",\n",
    "    user_proxy=\"/tmp/x509up_u397871\",\n",
    "    submission_url=\"https://diracdev.grid.hep.ph.ic.ac.uk:8444\",\n",
    ")"
   ]
  },
  {
   "cell_type": "markdown",
   "metadata": {},
   "source": []
  },
  {
   "cell_type": "code",
   "execution_count": 3,
   "metadata": {},
   "outputs": [],
   "source": [
    "cluster.scale(jobs=3)"
   ]
  },
  {
   "cell_type": "code",
   "execution_count": 4,
   "metadata": {},
   "outputs": [],
   "source": [
    "client = Client(cluster)"
   ]
  },
  {
   "cell_type": "code",
   "execution_count": 5,
   "metadata": {},
   "outputs": [],
   "source": [
    "def square(x):\n",
    "    return x**2\n",
    "\n",
    "\n",
    "def neg(x):\n",
    "    return -x"
   ]
  },
  {
   "cell_type": "code",
   "execution_count": null,
   "metadata": {
    "pycharm": {
     "is_executing": true
    }
   },
   "outputs": [],
   "source": [
    "A = client.map(square, range(10))"
   ]
  },
  {
   "cell_type": "code",
   "execution_count": null,
   "metadata": {},
   "outputs": [],
   "source": [
    "B = client.map(neg, A)"
   ]
  },
  {
   "cell_type": "code",
   "execution_count": null,
   "metadata": {},
   "outputs": [],
   "source": [
    "total = client.map(sum, B)"
   ]
  },
  {
   "cell_type": "code",
   "execution_count": null,
   "metadata": {},
   "outputs": [],
   "source": [
    "total.result()"
   ]
  }
 ],
 "metadata": {
  "kernelspec": {
   "display_name": "Python 3 (ipykernel)",
   "language": "python",
   "name": "python3"
  },
  "language_info": {
   "codemirror_mode": {
    "name": "ipython",
    "version": 3
   },
   "file_extension": ".py",
   "mimetype": "text/x-python",
   "name": "python",
   "nbconvert_exporter": "python",
   "pygments_lexer": "ipython3",
   "version": "3.10.9"
  }
 },
 "nbformat": 4,
 "nbformat_minor": 1
}
