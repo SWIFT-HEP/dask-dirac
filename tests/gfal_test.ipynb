{
 "cells": [
  {
   "cell_type": "code",
   "execution_count": null,
   "metadata": {},
   "outputs": [],
   "source": [
    "from dask_dirac import DiracCluster\n",
    "from dask.distributed import Client\n",
    "import subprocess"
   ]
  },
  {
   "cell_type": "code",
   "execution_count": null,
   "metadata": {},
   "outputs": [],
   "source": [
    "cluster = DiracCluster(\n",
    "    cores=8,\n",
    "    memory=\"24GB\",\n",
    "    scheduler_options={\"port\": 8786},\n",
    "    dirac_site=\"LCG.UKI-SOUTHGRID-RALPP.uk\",\n",
    "    cert_path=\"/users/ak18773/SWIFT_HEP/dev_dirac/diracos/etc/grid-security/certificates\",\n",
    "    owner_group=\"gridpp_user\",\n",
    "    user_proxy=\"/tmp/x509up_u397871\",\n",
    "    submission_url=\"https://diracdev.grid.hep.ph.ic.ac.uk:8444\",\n",
    ")"
   ]
  },
  {
   "cell_type": "code",
   "execution_count": null,
   "metadata": {},
   "outputs": [],
   "source": [
    "cluster"
   ]
  },
  {
   "cell_type": "code",
   "execution_count": null,
   "metadata": {},
   "outputs": [],
   "source": [
    "cluster.scale(jobs=1)"
   ]
  },
  {
   "cell_type": "code",
   "execution_count": null,
   "metadata": {},
   "outputs": [],
   "source": [
    "client = Client(cluster)"
   ]
  },
  {
   "cell_type": "code",
   "execution_count": null,
   "metadata": {},
   "outputs": [],
   "source": [
    "client"
   ]
  },
  {
   "cell_type": "code",
   "execution_count": null,
   "metadata": {},
   "outputs": [],
   "source": [
    "def testg():\n",
    "    import subprocess\n",
    "    import glob\n",
    "\n",
    "    # process = subprocess.run([\"ls\",\"/cvmfs\"], capture_output=True)\n",
    "    a = \"export X509_CERT_DIR=/cvmfs/grid.cern.ch/etc/grid-security/certificates/ &&\"\n",
    "    b = \"export X509_USER_PROXY={}\".format(glob.glob(\"/tmp/tmp*\")[0])\n",
    "    process = subprocess.run(\n",
    "        \"gfal-ls https://mover.pp.rl.ac.uk:2880/pnfs/pp.rl.ac.uk/data/gridpp/\",\n",
    "        shell=True,\n",
    "        capture_output=True,\n",
    "    )\n",
    "    # process = subprocess.run(\"chmod 700 ./test1.sh\", shell=True, capture_output=True)\n",
    "    # process = subprocess.run(\"./test1.sh\", shell=True, capture_output=True)\n",
    "    # process = subprocess.run(\"chmod 700 ./test2.sh\", shell=True, capture_output=True)\n",
    "    # process = subprocess.run(\"./test2.sh\", shell=True, capture_output=True)\n",
    "\n",
    "    return process"
   ]
  },
  {
   "cell_type": "code",
   "execution_count": null,
   "metadata": {},
   "outputs": [],
   "source": [
    "result = client.submit(testg)"
   ]
  },
  {
   "cell_type": "code",
   "execution_count": null,
   "metadata": {},
   "outputs": [],
   "source": [
    "result.result()"
   ]
  },
  {
   "cell_type": "code",
   "execution_count": null,
   "metadata": {},
   "outputs": [],
   "source": []
  },
  {
   "cell_type": "code",
   "execution_count": null,
   "metadata": {},
   "outputs": [],
   "source": [
    "command = \"/cvmfs/oasis.opensciencegrid.org/osg/modules/lmod/current/init/bash && gfal-ls https://mover.pp.rl.ac.uk:2880/pnfs/pp.rl.ac.uk/data/gridpp/\"\n",
    "command = \"source /cvmfs/oasis.opensciencegrid.org/osg/modules/lmod/current/init/bash\""
   ]
  },
  {
   "cell_type": "code",
   "execution_count": null,
   "metadata": {},
   "outputs": [],
   "source": [
    "def testg():\n",
    "    # command = \"gfal-ls https://mover.pp.rl.ac.uk:2880/pnfs/pp.rl.ac.uk/data/gridpp/\"\n",
    "    # result = subprocess.run(command, shell=True, capture_output=True)\n",
    "\n",
    "    # Replace the following with your desired Bash command\n",
    "    # bash_command = \"cd /cvmfs && ls\"\n",
    "    # \"/cvmfs/grid.cern.ch/centos7-umd4-wn-4.0.5-1_191112/usr/bin/gfal-ls\"\n",
    "\n",
    "    with open(\"test.sh\", \"w\") as f:\n",
    "        # f.write(\"pwd\\n\")\n",
    "        f.write(\n",
    "            \". /cvmfs/oasis.opensciencegrid.org/osg/modules/lmod/current/init/bash\\n\"\n",
    "        )\n",
    "        # f.write(\"module avail\\n\")\n",
    "        f.write(\"module load gfal/7.20\\n\")\n",
    "        f.write(\"gfal-ls\\n\")\n",
    "\n",
    "    with open(\"test1.sh\", \"w\") as f:\n",
    "        f.write(\"module avail\\n\")\n",
    "    with open(\"test2.sh\", \"w\") as f:\n",
    "        f.write(\"tutorial\\n\")\n",
    "\n",
    "    # Run the Bash command\n",
    "    # process = subprocess.run([\"ls\",\"/cvmfs\"], capture_output=True)\n",
    "    process = subprocess.run(\"chmod 700 ./test.sh\", shell=True, capture_output=True)\n",
    "    process = subprocess.run(\"./test.sh\", shell=True, capture_output=True)\n",
    "    # process = subprocess.run(\"chmod 700 ./test1.sh\", shell=True, capture_output=True)\n",
    "    # process = subprocess.run(\"./test1.sh\", shell=True, capture_output=True)\n",
    "    # process = subprocess.run(\"chmod 700 ./test2.sh\", shell=True, capture_output=True)\n",
    "    # process = subprocess.run(\"./test2.sh\", shell=True, capture_output=True)\n",
    "\n",
    "    return process"
   ]
  },
  {
   "cell_type": "code",
   "execution_count": null,
   "metadata": {},
   "outputs": [],
   "source": [
    "result = client.submit(testg)"
   ]
  },
  {
   "cell_type": "code",
   "execution_count": null,
   "metadata": {},
   "outputs": [],
   "source": [
    "t = result.result()\n",
    "\n",
    "# print(t[0].decode('utf-8'))"
   ]
  },
  {
   "cell_type": "code",
   "execution_count": null,
   "metadata": {},
   "outputs": [],
   "source": [
    "result"
   ]
  },
  {
   "cell_type": "code",
   "execution_count": null,
   "metadata": {},
   "outputs": [],
   "source": [
    "print(t.returncode)"
   ]
  },
  {
   "cell_type": "code",
   "execution_count": null,
   "metadata": {},
   "outputs": [],
   "source": [
    "print(t.stdout.decode(\"utf-8\"))"
   ]
  },
  {
   "cell_type": "code",
   "execution_count": null,
   "metadata": {},
   "outputs": [],
   "source": [
    "print(t.stderr.decode(\"utf-8\"))"
   ]
  },
  {
   "cell_type": "code",
   "execution_count": null,
   "metadata": {},
   "outputs": [],
   "source": [
    "t"
   ]
  },
  {
   "cell_type": "code",
   "execution_count": null,
   "metadata": {},
   "outputs": [],
   "source": []
  }
 ],
 "metadata": {
  "kernelspec": {
   "display_name": "dask_dirac",
   "language": "python",
   "name": "dask_dirac"
  },
  "language_info": {
   "codemirror_mode": {
    "name": "ipython",
    "version": 3
   },
   "file_extension": ".py",
   "mimetype": "text/x-python",
   "name": "python",
   "nbconvert_exporter": "python",
   "pygments_lexer": "ipython3",
   "version": "3.10.9"
  }
 },
 "nbformat": 4,
 "nbformat_minor": 4
}
